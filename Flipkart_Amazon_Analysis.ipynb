{
  "cells": [
    {
      "cell_type": "markdown",
      "metadata": {
        "id": "view-in-github",
        "colab_type": "text"
      },
      "source": [
        "<a href=\"https://colab.research.google.com/github/Ridhi655/Ridhi_assignment/blob/main/Flipkart_Amazon_Analysis.ipynb\" target=\"_parent\"><img src=\"https://colab.research.google.com/assets/colab-badge.svg\" alt=\"Open In Colab\"/></a>"
      ]
    },
    {
      "cell_type": "markdown",
      "metadata": {
        "id": "qoVZ5Pa8898L"
      },
      "source": [
        "**Importing the data** "
      ]
    },
    {
      "cell_type": "code",
      "execution_count": 1,
      "metadata": {
        "colab": {
          "base_uri": "https://localhost:8080/",
          "height": 206
        },
        "id": "x1MIWUp74ir8",
        "outputId": "48d550bc-9a2b-4389-8bc0-f7bf0637bb2f"
      },
      "outputs": [
        {
          "output_type": "execute_result",
          "data": {
            "text/plain": [
              "                        Review-Title              rating  \\\n",
              "0                   Worst phone ever  1.0 out of 5 stars   \n",
              "1          Ok !!! Not up to the mark  2.0 out of 5 stars   \n",
              "2                       Awesome look  5.0 out of 5 stars   \n",
              "3  One plus losing is originality!!!  3.0 out of 5 stars   \n",
              "4                               Read  1.0 out of 5 stars   \n",
              "\n",
              "                                         Review-Body  \\\n",
              "0                                       Hang problem   \n",
              "1  I'm writing this review after using 3days !!!B...   \n",
              "2  Camera is so good n very fast phone back look ...   \n",
              "3  The media could not be loaded.\\n              ...   \n",
              "4  I got my delivery on 23 feb when I unboxed the...   \n",
              "\n",
              "                                        Product Name  \n",
              "0  OnePlus Nord CE 2 5G (Gray Mirror, 8GB RAM, 12...  \n",
              "1  OnePlus Nord CE 2 5G (Gray Mirror, 8GB RAM, 12...  \n",
              "2  OnePlus Nord CE 2 5G (Gray Mirror, 8GB RAM, 12...  \n",
              "3  OnePlus Nord CE 2 5G (Gray Mirror, 8GB RAM, 12...  \n",
              "4  OnePlus Nord CE 2 5G (Gray Mirror, 8GB RAM, 12...  "
            ],
            "text/html": [
              "\n",
              "  <div id=\"df-cbe44778-9ac0-4ea5-bc7a-e23a20071d93\">\n",
              "    <div class=\"colab-df-container\">\n",
              "      <div>\n",
              "<style scoped>\n",
              "    .dataframe tbody tr th:only-of-type {\n",
              "        vertical-align: middle;\n",
              "    }\n",
              "\n",
              "    .dataframe tbody tr th {\n",
              "        vertical-align: top;\n",
              "    }\n",
              "\n",
              "    .dataframe thead th {\n",
              "        text-align: right;\n",
              "    }\n",
              "</style>\n",
              "<table border=\"1\" class=\"dataframe\">\n",
              "  <thead>\n",
              "    <tr style=\"text-align: right;\">\n",
              "      <th></th>\n",
              "      <th>Review-Title</th>\n",
              "      <th>rating</th>\n",
              "      <th>Review-Body</th>\n",
              "      <th>Product Name</th>\n",
              "    </tr>\n",
              "  </thead>\n",
              "  <tbody>\n",
              "    <tr>\n",
              "      <th>0</th>\n",
              "      <td>Worst phone ever</td>\n",
              "      <td>1.0 out of 5 stars</td>\n",
              "      <td>Hang problem</td>\n",
              "      <td>OnePlus Nord CE 2 5G (Gray Mirror, 8GB RAM, 12...</td>\n",
              "    </tr>\n",
              "    <tr>\n",
              "      <th>1</th>\n",
              "      <td>Ok !!! Not up to the mark</td>\n",
              "      <td>2.0 out of 5 stars</td>\n",
              "      <td>I'm writing this review after using 3days !!!B...</td>\n",
              "      <td>OnePlus Nord CE 2 5G (Gray Mirror, 8GB RAM, 12...</td>\n",
              "    </tr>\n",
              "    <tr>\n",
              "      <th>2</th>\n",
              "      <td>Awesome look</td>\n",
              "      <td>5.0 out of 5 stars</td>\n",
              "      <td>Camera is so good n very fast phone back look ...</td>\n",
              "      <td>OnePlus Nord CE 2 5G (Gray Mirror, 8GB RAM, 12...</td>\n",
              "    </tr>\n",
              "    <tr>\n",
              "      <th>3</th>\n",
              "      <td>One plus losing is originality!!!</td>\n",
              "      <td>3.0 out of 5 stars</td>\n",
              "      <td>The media could not be loaded.\\n              ...</td>\n",
              "      <td>OnePlus Nord CE 2 5G (Gray Mirror, 8GB RAM, 12...</td>\n",
              "    </tr>\n",
              "    <tr>\n",
              "      <th>4</th>\n",
              "      <td>Read</td>\n",
              "      <td>1.0 out of 5 stars</td>\n",
              "      <td>I got my delivery on 23 feb when I unboxed the...</td>\n",
              "      <td>OnePlus Nord CE 2 5G (Gray Mirror, 8GB RAM, 12...</td>\n",
              "    </tr>\n",
              "  </tbody>\n",
              "</table>\n",
              "</div>\n",
              "      <button class=\"colab-df-convert\" onclick=\"convertToInteractive('df-cbe44778-9ac0-4ea5-bc7a-e23a20071d93')\"\n",
              "              title=\"Convert this dataframe to an interactive table.\"\n",
              "              style=\"display:none;\">\n",
              "        \n",
              "  <svg xmlns=\"http://www.w3.org/2000/svg\" height=\"24px\"viewBox=\"0 0 24 24\"\n",
              "       width=\"24px\">\n",
              "    <path d=\"M0 0h24v24H0V0z\" fill=\"none\"/>\n",
              "    <path d=\"M18.56 5.44l.94 2.06.94-2.06 2.06-.94-2.06-.94-.94-2.06-.94 2.06-2.06.94zm-11 1L8.5 8.5l.94-2.06 2.06-.94-2.06-.94L8.5 2.5l-.94 2.06-2.06.94zm10 10l.94 2.06.94-2.06 2.06-.94-2.06-.94-.94-2.06-.94 2.06-2.06.94z\"/><path d=\"M17.41 7.96l-1.37-1.37c-.4-.4-.92-.59-1.43-.59-.52 0-1.04.2-1.43.59L10.3 9.45l-7.72 7.72c-.78.78-.78 2.05 0 2.83L4 21.41c.39.39.9.59 1.41.59.51 0 1.02-.2 1.41-.59l7.78-7.78 2.81-2.81c.8-.78.8-2.07 0-2.86zM5.41 20L4 18.59l7.72-7.72 1.47 1.35L5.41 20z\"/>\n",
              "  </svg>\n",
              "      </button>\n",
              "      \n",
              "  <style>\n",
              "    .colab-df-container {\n",
              "      display:flex;\n",
              "      flex-wrap:wrap;\n",
              "      gap: 12px;\n",
              "    }\n",
              "\n",
              "    .colab-df-convert {\n",
              "      background-color: #E8F0FE;\n",
              "      border: none;\n",
              "      border-radius: 50%;\n",
              "      cursor: pointer;\n",
              "      display: none;\n",
              "      fill: #1967D2;\n",
              "      height: 32px;\n",
              "      padding: 0 0 0 0;\n",
              "      width: 32px;\n",
              "    }\n",
              "\n",
              "    .colab-df-convert:hover {\n",
              "      background-color: #E2EBFA;\n",
              "      box-shadow: 0px 1px 2px rgba(60, 64, 67, 0.3), 0px 1px 3px 1px rgba(60, 64, 67, 0.15);\n",
              "      fill: #174EA6;\n",
              "    }\n",
              "\n",
              "    [theme=dark] .colab-df-convert {\n",
              "      background-color: #3B4455;\n",
              "      fill: #D2E3FC;\n",
              "    }\n",
              "\n",
              "    [theme=dark] .colab-df-convert:hover {\n",
              "      background-color: #434B5C;\n",
              "      box-shadow: 0px 1px 3px 1px rgba(0, 0, 0, 0.15);\n",
              "      filter: drop-shadow(0px 1px 2px rgba(0, 0, 0, 0.3));\n",
              "      fill: #FFFFFF;\n",
              "    }\n",
              "  </style>\n",
              "\n",
              "      <script>\n",
              "        const buttonEl =\n",
              "          document.querySelector('#df-cbe44778-9ac0-4ea5-bc7a-e23a20071d93 button.colab-df-convert');\n",
              "        buttonEl.style.display =\n",
              "          google.colab.kernel.accessAllowed ? 'block' : 'none';\n",
              "\n",
              "        async function convertToInteractive(key) {\n",
              "          const element = document.querySelector('#df-cbe44778-9ac0-4ea5-bc7a-e23a20071d93');\n",
              "          const dataTable =\n",
              "            await google.colab.kernel.invokeFunction('convertToInteractive',\n",
              "                                                     [key], {});\n",
              "          if (!dataTable) return;\n",
              "\n",
              "          const docLinkHtml = 'Like what you see? Visit the ' +\n",
              "            '<a target=\"_blank\" href=https://colab.research.google.com/notebooks/data_table.ipynb>data table notebook</a>'\n",
              "            + ' to learn more about interactive tables.';\n",
              "          element.innerHTML = '';\n",
              "          dataTable['output_type'] = 'display_data';\n",
              "          await google.colab.output.renderOutput(dataTable, element);\n",
              "          const docLink = document.createElement('div');\n",
              "          docLink.innerHTML = docLinkHtml;\n",
              "          element.appendChild(docLink);\n",
              "        }\n",
              "      </script>\n",
              "    </div>\n",
              "  </div>\n",
              "  "
            ]
          },
          "metadata": {},
          "execution_count": 1
        }
      ],
      "source": [
        "import pandas as pd\n",
        "import numpy as np\n",
        "import matplotlib.pyplot as plt\n",
        "\n",
        "# read data\n",
        "df = pd.read_csv(\"/content/Flipkart_Amazon Mobile Reviews - Flipkart_Amazon Mobile Reviews.csv\",index_col=0)\n",
        "\n",
        "df.head()"
      ]
    },
    {
      "cell_type": "markdown",
      "source": [
        "# New Section"
      ],
      "metadata": {
        "id": "QNEyJd7n7YeX"
      }
    },
    {
      "cell_type": "code",
      "execution_count": 2,
      "metadata": {
        "colab": {
          "base_uri": "https://localhost:8080/"
        },
        "id": "wsYMxBTA7sJv",
        "outputId": "beabd186-0551-48b9-8f07-71e2332ef9ac"
      },
      "outputs": [
        {
          "output_type": "execute_result",
          "data": {
            "text/plain": [
              "(23777, 4)"
            ]
          },
          "metadata": {},
          "execution_count": 2
        }
      ],
      "source": [
        "df.shape"
      ]
    },
    {
      "cell_type": "code",
      "execution_count": 3,
      "metadata": {
        "colab": {
          "base_uri": "https://localhost:8080/",
          "height": 175
        },
        "id": "38WYBOfbRp-Q",
        "outputId": "9c4db665-3b36-4d6b-d958-e2b13f95c84c"
      },
      "outputs": [
        {
          "output_type": "execute_result",
          "data": {
            "text/plain": [
              "       Review-Title              rating Review-Body  \\\n",
              "count         23775               23777       23160   \n",
              "unique        15040                   5       18597   \n",
              "top            Good  5.0 out of 5 stars        Good   \n",
              "freq           1295                9399         962   \n",
              "\n",
              "                                             Product Name  \n",
              "count                                               23777  \n",
              "unique                                                  8  \n",
              "top     Redmi 9 Activ (Carbon Black, 4GB RAM, 64GB Sto...  \n",
              "freq                                                 4460  "
            ],
            "text/html": [
              "\n",
              "  <div id=\"df-0af2107e-430f-4902-bcc9-175e4cafde39\">\n",
              "    <div class=\"colab-df-container\">\n",
              "      <div>\n",
              "<style scoped>\n",
              "    .dataframe tbody tr th:only-of-type {\n",
              "        vertical-align: middle;\n",
              "    }\n",
              "\n",
              "    .dataframe tbody tr th {\n",
              "        vertical-align: top;\n",
              "    }\n",
              "\n",
              "    .dataframe thead th {\n",
              "        text-align: right;\n",
              "    }\n",
              "</style>\n",
              "<table border=\"1\" class=\"dataframe\">\n",
              "  <thead>\n",
              "    <tr style=\"text-align: right;\">\n",
              "      <th></th>\n",
              "      <th>Review-Title</th>\n",
              "      <th>rating</th>\n",
              "      <th>Review-Body</th>\n",
              "      <th>Product Name</th>\n",
              "    </tr>\n",
              "  </thead>\n",
              "  <tbody>\n",
              "    <tr>\n",
              "      <th>count</th>\n",
              "      <td>23775</td>\n",
              "      <td>23777</td>\n",
              "      <td>23160</td>\n",
              "      <td>23777</td>\n",
              "    </tr>\n",
              "    <tr>\n",
              "      <th>unique</th>\n",
              "      <td>15040</td>\n",
              "      <td>5</td>\n",
              "      <td>18597</td>\n",
              "      <td>8</td>\n",
              "    </tr>\n",
              "    <tr>\n",
              "      <th>top</th>\n",
              "      <td>Good</td>\n",
              "      <td>5.0 out of 5 stars</td>\n",
              "      <td>Good</td>\n",
              "      <td>Redmi 9 Activ (Carbon Black, 4GB RAM, 64GB Sto...</td>\n",
              "    </tr>\n",
              "    <tr>\n",
              "      <th>freq</th>\n",
              "      <td>1295</td>\n",
              "      <td>9399</td>\n",
              "      <td>962</td>\n",
              "      <td>4460</td>\n",
              "    </tr>\n",
              "  </tbody>\n",
              "</table>\n",
              "</div>\n",
              "      <button class=\"colab-df-convert\" onclick=\"convertToInteractive('df-0af2107e-430f-4902-bcc9-175e4cafde39')\"\n",
              "              title=\"Convert this dataframe to an interactive table.\"\n",
              "              style=\"display:none;\">\n",
              "        \n",
              "  <svg xmlns=\"http://www.w3.org/2000/svg\" height=\"24px\"viewBox=\"0 0 24 24\"\n",
              "       width=\"24px\">\n",
              "    <path d=\"M0 0h24v24H0V0z\" fill=\"none\"/>\n",
              "    <path d=\"M18.56 5.44l.94 2.06.94-2.06 2.06-.94-2.06-.94-.94-2.06-.94 2.06-2.06.94zm-11 1L8.5 8.5l.94-2.06 2.06-.94-2.06-.94L8.5 2.5l-.94 2.06-2.06.94zm10 10l.94 2.06.94-2.06 2.06-.94-2.06-.94-.94-2.06-.94 2.06-2.06.94z\"/><path d=\"M17.41 7.96l-1.37-1.37c-.4-.4-.92-.59-1.43-.59-.52 0-1.04.2-1.43.59L10.3 9.45l-7.72 7.72c-.78.78-.78 2.05 0 2.83L4 21.41c.39.39.9.59 1.41.59.51 0 1.02-.2 1.41-.59l7.78-7.78 2.81-2.81c.8-.78.8-2.07 0-2.86zM5.41 20L4 18.59l7.72-7.72 1.47 1.35L5.41 20z\"/>\n",
              "  </svg>\n",
              "      </button>\n",
              "      \n",
              "  <style>\n",
              "    .colab-df-container {\n",
              "      display:flex;\n",
              "      flex-wrap:wrap;\n",
              "      gap: 12px;\n",
              "    }\n",
              "\n",
              "    .colab-df-convert {\n",
              "      background-color: #E8F0FE;\n",
              "      border: none;\n",
              "      border-radius: 50%;\n",
              "      cursor: pointer;\n",
              "      display: none;\n",
              "      fill: #1967D2;\n",
              "      height: 32px;\n",
              "      padding: 0 0 0 0;\n",
              "      width: 32px;\n",
              "    }\n",
              "\n",
              "    .colab-df-convert:hover {\n",
              "      background-color: #E2EBFA;\n",
              "      box-shadow: 0px 1px 2px rgba(60, 64, 67, 0.3), 0px 1px 3px 1px rgba(60, 64, 67, 0.15);\n",
              "      fill: #174EA6;\n",
              "    }\n",
              "\n",
              "    [theme=dark] .colab-df-convert {\n",
              "      background-color: #3B4455;\n",
              "      fill: #D2E3FC;\n",
              "    }\n",
              "\n",
              "    [theme=dark] .colab-df-convert:hover {\n",
              "      background-color: #434B5C;\n",
              "      box-shadow: 0px 1px 3px 1px rgba(0, 0, 0, 0.15);\n",
              "      filter: drop-shadow(0px 1px 2px rgba(0, 0, 0, 0.3));\n",
              "      fill: #FFFFFF;\n",
              "    }\n",
              "  </style>\n",
              "\n",
              "      <script>\n",
              "        const buttonEl =\n",
              "          document.querySelector('#df-0af2107e-430f-4902-bcc9-175e4cafde39 button.colab-df-convert');\n",
              "        buttonEl.style.display =\n",
              "          google.colab.kernel.accessAllowed ? 'block' : 'none';\n",
              "\n",
              "        async function convertToInteractive(key) {\n",
              "          const element = document.querySelector('#df-0af2107e-430f-4902-bcc9-175e4cafde39');\n",
              "          const dataTable =\n",
              "            await google.colab.kernel.invokeFunction('convertToInteractive',\n",
              "                                                     [key], {});\n",
              "          if (!dataTable) return;\n",
              "\n",
              "          const docLinkHtml = 'Like what you see? Visit the ' +\n",
              "            '<a target=\"_blank\" href=https://colab.research.google.com/notebooks/data_table.ipynb>data table notebook</a>'\n",
              "            + ' to learn more about interactive tables.';\n",
              "          element.innerHTML = '';\n",
              "          dataTable['output_type'] = 'display_data';\n",
              "          await google.colab.output.renderOutput(dataTable, element);\n",
              "          const docLink = document.createElement('div');\n",
              "          docLink.innerHTML = docLinkHtml;\n",
              "          element.appendChild(docLink);\n",
              "        }\n",
              "      </script>\n",
              "    </div>\n",
              "  </div>\n",
              "  "
            ]
          },
          "metadata": {},
          "execution_count": 3
        }
      ],
      "source": [
        "df.describe()"
      ]
    },
    {
      "cell_type": "code",
      "execution_count": 4,
      "metadata": {
        "colab": {
          "base_uri": "https://localhost:8080/"
        },
        "id": "WNSnM17aR3Gq",
        "outputId": "c6d73fff-5ea9-48e3-d4f3-f8071556d24a"
      },
      "outputs": [
        {
          "output_type": "execute_result",
          "data": {
            "text/plain": [
              "Review-Title                         rating              Review-Body                                                                                                                                                                                                                                                                                                  Product Name                                              \n",
              "Good                                 5.0 out of 5 stars  Good                                                                                                                                                                                                                                                                                                         OPPO A31 (Mystery Black, 6GB RAM, 128GB Storage)              107\n",
              "                                                                                                                                                                                                                                                                                                                                                                      Redmi 10 Prime (Bifrost Blue 4GB RAM 64GB ROM                  62\n",
              "                                                                                                                                                                                                                                                                                                                                                                      Redmi 9 Activ (Carbon Black, 4GB RAM, 64GB Storage)            59\n",
              "                                                                                                                                                                                                                                                                                                                                                                      realme narzo 50A (Oxygen Blue , 4GB RAM + 64 GB Storage)       36\n",
              "                                                                                                                                                                                                                                                                                                                                                                      OnePlus Nord CE 2 5G (Gray Mirror, 8GB RAM, 128GB Storage)     34\n",
              "                                                                                                                                                                                                                                                                                                                                                                                                                                   ... \n",
              "Good Product, All in One Smartphone  5.0 out of 5 stars  All Purpose PhoneDecent CameraExcellent DisplayExtraordinary Battery                                                                                                                                                                                                                                         Samsung Galaxy M32                                              1\n",
              "Good Product with Good delivery:)    5.0 out of 5 stars  Everything is good                                                                                                                                                                                                                                                                                           OPPO A31 (Mystery Black, 6GB RAM, 128GB Storage)                1\n",
              "Good Product in low budget           5.0 out of 5 stars  Worth of money in low budget, No heating issue & is  to carry..mainly for games pubg n call of duty I can say very good product there is no hang in middle of the games.There is no Dolby so sound is huge we can sense that n camera is awesome.Can give 4/5 rating.. in low budget we can't expect more..  OnePlus Nord CE 2 5G (Gray Mirror, 8GB RAM, 128GB Storage)      1\n",
              "Good Product in Good Price           5.0 out of 5 stars  Over all good                                                                                                                                                                                                                                                                                                OnePlus Nord CE 2 5G (Gray Mirror, 8GB RAM, 128GB Storage)      1\n",
              "🥰🥰                                   5.0 out of 5 stars  Good mobile                                                                                                                                                                                                                                                                                                  OPPO A31 (Mystery Black, 6GB RAM, 128GB Storage)                1\n",
              "Length: 8277, dtype: int64"
            ]
          },
          "metadata": {},
          "execution_count": 4
        }
      ],
      "source": [
        "df[df[\"rating\"]=='5.0 out of 5 stars'].value_counts()"
      ]
    },
    {
      "cell_type": "code",
      "execution_count": 5,
      "metadata": {
        "colab": {
          "base_uri": "https://localhost:8080/"
        },
        "id": "ZP4mXzoMSOhj",
        "outputId": "c11e903e-7491-462b-9b55-1d320d77bd30"
      },
      "outputs": [
        {
          "output_type": "execute_result",
          "data": {
            "text/plain": [
              "5.0 out of 5 stars    9399\n",
              "1.0 out of 5 stars    5231\n",
              "4.0 out of 5 stars    4886\n",
              "3.0 out of 5 stars    2703\n",
              "2.0 out of 5 stars    1558\n",
              "Name: rating, dtype: int64"
            ]
          },
          "metadata": {},
          "execution_count": 5
        }
      ],
      "source": [
        "df.rating.value_counts()"
      ]
    },
    {
      "cell_type": "code",
      "execution_count": 6,
      "metadata": {
        "id": "zvQ0soH-8S6N"
      },
      "outputs": [],
      "source": [
        "#plt"
      ]
    },
    {
      "cell_type": "code",
      "execution_count": 7,
      "metadata": {
        "colab": {
          "base_uri": "https://localhost:8080/"
        },
        "id": "gpoz_iPqTm7g",
        "outputId": "e4eab821-e65b-4725-ed75-6d19df3bdfc1"
      },
      "outputs": [
        {
          "output_type": "stream",
          "name": "stdout",
          "text": [
            "rating              Product Name                                              \n",
            "5.0 out of 5 stars  OPPO A31 (Mystery Black, 6GB RAM, 128GB Storage)              2071\n",
            "                    OnePlus Nord CE 2 5G (Gray Mirror, 8GB RAM, 128GB Storage)    1678\n",
            "                    Redmi 9 Activ (Carbon Black, 4GB RAM, 64GB Storage)           1571\n",
            "                    Redmi 10 Prime (Bifrost Blue 4GB RAM 64GB ROM                 1390\n",
            "1.0 out of 5 stars  Redmi 10 Prime (Bifrost Blue 4GB RAM 64GB ROM                 1060\n",
            "                    Redmi 9 Activ (Carbon Black, 4GB RAM, 64GB Storage)           1022\n",
            "4.0 out of 5 stars  Redmi 9 Activ (Carbon Black, 4GB RAM, 64GB Storage)            993\n",
            "5.0 out of 5 stars  realme narzo 50A (Oxygen Blue , 4GB RAM + 64 GB Storage)       921\n",
            "                    Redmi Note 11 (Space Black, 4GB RAM, 64GB Storage)             869\n",
            "4.0 out of 5 stars  OPPO A31 (Mystery Black, 6GB RAM, 128GB Storage)               841\n",
            "1.0 out of 5 stars  OPPO A31 (Mystery Black, 6GB RAM, 128GB Storage)               804\n",
            "4.0 out of 5 stars  OnePlus Nord CE 2 5G (Gray Mirror, 8GB RAM, 128GB Storage)     728\n",
            "1.0 out of 5 stars  Redmi Note 11 (Space Black, 4GB RAM, 64GB Storage)             656\n",
            "4.0 out of 5 stars  Redmi 10 Prime (Bifrost Blue 4GB RAM 64GB ROM                  647\n",
            "                    Redmi Note 11 (Space Black, 4GB RAM, 64GB Storage)             611\n",
            "1.0 out of 5 stars  OnePlus Nord CE 2 5G (Gray Mirror, 8GB RAM, 128GB Storage)     581\n",
            "3.0 out of 5 stars  Redmi 9 Activ (Carbon Black, 4GB RAM, 64GB Storage)            571\n",
            "4.0 out of 5 stars  realme narzo 50A (Oxygen Blue , 4GB RAM + 64 GB Storage)       503\n",
            "5.0 out of 5 stars  vivo iQOO Z6 5G (Chromatic Blue, 6GB RAM, 128GB Storage)       473\n",
            "                    Samsung Galaxy M32                                             426\n",
            "3.0 out of 5 stars  Redmi 10 Prime (Bifrost Blue 4GB RAM 64GB ROM                  408\n",
            "1.0 out of 5 stars  realme narzo 50A (Oxygen Blue , 4GB RAM + 64 GB Storage)       390\n",
            "3.0 out of 5 stars  OPPO A31 (Mystery Black, 6GB RAM, 128GB Storage)               387\n",
            "                    Redmi Note 11 (Space Black, 4GB RAM, 64GB Storage)             378\n",
            "1.0 out of 5 stars  Samsung Galaxy M32                                             376\n",
            "3.0 out of 5 stars  OnePlus Nord CE 2 5G (Gray Mirror, 8GB RAM, 128GB Storage)     375\n",
            "1.0 out of 5 stars  vivo iQOO Z6 5G (Chromatic Blue, 6GB RAM, 128GB Storage)       342\n",
            "2.0 out of 5 stars  Redmi 9 Activ (Carbon Black, 4GB RAM, 64GB Storage)            303\n",
            "4.0 out of 5 stars  vivo iQOO Z6 5G (Chromatic Blue, 6GB RAM, 128GB Storage)       303\n",
            "2.0 out of 5 stars  Redmi 10 Prime (Bifrost Blue 4GB RAM 64GB ROM                  263\n",
            "4.0 out of 5 stars  Samsung Galaxy M32                                             260\n",
            "2.0 out of 5 stars  OPPO A31 (Mystery Black, 6GB RAM, 128GB Storage)               227\n",
            "3.0 out of 5 stars  realme narzo 50A (Oxygen Blue , 4GB RAM + 64 GB Storage)       227\n",
            "2.0 out of 5 stars  Redmi Note 11 (Space Black, 4GB RAM, 64GB Storage)             210\n",
            "                    OnePlus Nord CE 2 5G (Gray Mirror, 8GB RAM, 128GB Storage)     208\n",
            "3.0 out of 5 stars  vivo iQOO Z6 5G (Chromatic Blue, 6GB RAM, 128GB Storage)       192\n",
            "                    Samsung Galaxy M32                                             165\n",
            "2.0 out of 5 stars  realme narzo 50A (Oxygen Blue , 4GB RAM + 64 GB Storage)       125\n",
            "                    Samsung Galaxy M32                                             113\n",
            "                    vivo iQOO Z6 5G (Chromatic Blue, 6GB RAM, 128GB Storage)       109\n",
            "dtype: int64\n"
          ]
        }
      ],
      "source": [
        "print(df.value_counts(subset=['rating', 'Product Name']))"
      ]
    },
    {
      "cell_type": "code",
      "execution_count": 8,
      "metadata": {
        "colab": {
          "base_uri": "https://localhost:8080/"
        },
        "id": "UqTyFK6aU-d6",
        "outputId": "ac234b24-d66d-486c-f21b-4a5b2f3c1c46"
      },
      "outputs": [
        {
          "output_type": "execute_result",
          "data": {
            "text/plain": [
              "Review-Title      2\n",
              "rating            0\n",
              "Review-Body     617\n",
              "Product Name      0\n",
              "dtype: int64"
            ]
          },
          "metadata": {},
          "execution_count": 8
        }
      ],
      "source": [
        "df.isnull().sum()"
      ]
    },
    {
      "cell_type": "code",
      "execution_count": 9,
      "metadata": {
        "id": "vSEsJNYKVhGW"
      },
      "outputs": [],
      "source": [
        "new_df=df.drop_duplicates()"
      ]
    },
    {
      "cell_type": "code",
      "execution_count": 10,
      "metadata": {
        "colab": {
          "base_uri": "https://localhost:8080/"
        },
        "id": "CfiVe54LZqwU",
        "outputId": "591eddd7-8427-4142-95bf-26c90df51bfe"
      },
      "outputs": [
        {
          "output_type": "execute_result",
          "data": {
            "text/plain": [
              "Review-Title      2\n",
              "rating            0\n",
              "Review-Body     580\n",
              "Product Name      0\n",
              "dtype: int64"
            ]
          },
          "metadata": {},
          "execution_count": 10
        }
      ],
      "source": [
        "new_df.isnull().sum()"
      ]
    },
    {
      "cell_type": "code",
      "execution_count": 11,
      "metadata": {
        "colab": {
          "base_uri": "https://localhost:8080/"
        },
        "id": "BUpd_VM4XBgj",
        "outputId": "c993343e-ac67-4f2d-8692-1e9f4d137a32"
      },
      "outputs": [
        {
          "output_type": "execute_result",
          "data": {
            "text/plain": [
              "(22615, 4)"
            ]
          },
          "metadata": {},
          "execution_count": 11
        }
      ],
      "source": [
        "new_df.shape"
      ]
    },
    {
      "cell_type": "code",
      "execution_count": 12,
      "metadata": {
        "colab": {
          "base_uri": "https://localhost:8080/"
        },
        "id": "4qiC_K2FXQgt",
        "outputId": "68347e2d-c631-4518-b6a8-966dd934e4de"
      },
      "outputs": [
        {
          "output_type": "execute_result",
          "data": {
            "text/plain": [
              "array(['Hang problem',\n",
              "       \"I'm writing this review after using 3days !!!Be to honest this is normal Android phoneIt's not like OnePlusCamera quality very low it says 64mp but notSound also lowBattery 🔋 backup ok !!! For one day normal use itsIf ur Gamer don't go for itOverall price it High for this handsetIf u really wanna buy OnePlus ho for higher end modelI'm first time buying OnePlusLittle disappointment\",\n",
              "       \"Camera is so good n very fast phone back look is awesomeWith dis price segment it's worth it n d most important thing is the phone has dedicated memory card slot I think dis is the first one plus phone which has d dedicated slot for memory cardBattery backup is also good n wit the help of 65w charger u can charge ur phone frm 50-100% in just 15 minsIt has the super vooc charger frm Dat u can charge ur phone very fastVery smooth touch n very fast phone u can play games with no lagInternet connectivity is also fast n lightning wit my Jio sim as u can c I hav pasted one photo showing d downloading speed of 11mbps wit my cellular networkI think everyone who wants to buy dis phone just go for itI think oneplus launched dis phone with lots of good features n d most important thing is price is very lessI recommendJust go for itThank u oneplus n Amazon for dis wonderful product\",\n",
              "       ..., 'Must he Bhai iss range me bas cemra thoda sa shi nhi he',\n",
              "       \"Don't buy this mobile phone money weast screen tach problem,no camera quality, no battery 🔋 life, Phone very slow, please don't buy this mobile phone please 🙏🙏🙏🙏🙏\",\n",
              "       'Phone is Good . Camera not upto the mark. UI is complicated.'],\n",
              "      dtype=object)"
            ]
          },
          "metadata": {},
          "execution_count": 12
        }
      ],
      "source": [
        "new_df['Review-Body'].unique()"
      ]
    },
    {
      "cell_type": "code",
      "execution_count": 13,
      "metadata": {
        "colab": {
          "base_uri": "https://localhost:8080/"
        },
        "id": "y9cjE1PEZkju",
        "outputId": "aaa560df-afc3-480a-89a7-458756500062"
      },
      "outputs": [
        {
          "output_type": "stream",
          "name": "stderr",
          "text": [
            "/usr/local/lib/python3.7/dist-packages/pandas/util/_decorators.py:311: SettingWithCopyWarning: \n",
            "A value is trying to be set on a copy of a slice from a DataFrame\n",
            "\n",
            "See the caveats in the documentation: https://pandas.pydata.org/pandas-docs/stable/user_guide/indexing.html#returning-a-view-versus-a-copy\n",
            "  return func(*args, **kwargs)\n"
          ]
        }
      ],
      "source": [
        "new_df.dropna(inplace=True)"
      ]
    },
    {
      "cell_type": "code",
      "execution_count": 14,
      "metadata": {
        "colab": {
          "base_uri": "https://localhost:8080/"
        },
        "id": "sc4eqhtRZ6HY",
        "outputId": "4746f3c6-e43c-46e6-ca0b-281c93be4a42"
      },
      "outputs": [
        {
          "output_type": "execute_result",
          "data": {
            "text/plain": [
              "Review-Title    0\n",
              "rating          0\n",
              "Review-Body     0\n",
              "Product Name    0\n",
              "dtype: int64"
            ]
          },
          "metadata": {},
          "execution_count": 14
        }
      ],
      "source": [
        "new_df.isnull().sum()"
      ]
    },
    {
      "cell_type": "code",
      "execution_count": 15,
      "metadata": {
        "colab": {
          "base_uri": "https://localhost:8080/"
        },
        "id": "iK5LWJeSZ2KM",
        "outputId": "22f8687b-3830-4aa5-8a07-27d968829141"
      },
      "outputs": [
        {
          "output_type": "execute_result",
          "data": {
            "text/plain": [
              "(22034, 4)"
            ]
          },
          "metadata": {},
          "execution_count": 15
        }
      ],
      "source": [
        "new_df.shape"
      ]
    },
    {
      "cell_type": "markdown",
      "metadata": {
        "id": "S3h62AMY9RXK"
      },
      "source": [
        "**Pre-processing the data**"
      ]
    },
    {
      "cell_type": "markdown",
      "metadata": {
        "id": "7NUoLCxp9S3l"
      },
      "source": [
        "Some common Problems:\n",
        "\n",
        "Remove Punctuation\n",
        "\n",
        "Replace short words\n",
        "\n",
        "Making text lower case\n",
        "\n",
        "Remove stopwords\n",
        "\n",
        "Lemmatization "
      ]
    },
    {
      "cell_type": "markdown",
      "metadata": {
        "id": "QP9_suH39lv6"
      },
      "source": [
        "**Removing punctuation (.!<>{}’,”(/)-)**"
      ]
    },
    {
      "cell_type": "code",
      "execution_count": 16,
      "metadata": {
        "colab": {
          "base_uri": "https://localhost:8080/"
        },
        "id": "y_oRsbwH5gqd",
        "outputId": "91228ef8-d379-4fcd-958a-b387d6d0bb07"
      },
      "outputs": [
        {
          "output_type": "execute_result",
          "data": {
            "text/plain": [
              "0                                             Hang problem\n",
              "1        I'm writing this review after using 3days !!!B...\n",
              "2        Camera is so good n very fast phone back look ...\n",
              "3        The media could not be loaded.\\n              ...\n",
              "4        I got my delivery on 23 feb when I unboxed the...\n",
              "                               ...                        \n",
              "23772    Must he Bhai iss range me bas cemra thoda sa s...\n",
              "23773                                         Good product\n",
              "23774                                                 Good\n",
              "23775    Don't buy this mobile phone money weast screen...\n",
              "23776    Phone is Good . Camera not upto the mark. UI i...\n",
              "Name: Review-Body, Length: 23777, dtype: object"
            ]
          },
          "metadata": {},
          "execution_count": 16
        }
      ],
      "source": [
        "df['Review-Body']"
      ]
    },
    {
      "cell_type": "code",
      "execution_count": 17,
      "metadata": {
        "colab": {
          "base_uri": "https://localhost:8080/",
          "height": 484
        },
        "id": "nfC3TNxO8Ebo",
        "outputId": "19a507d7-01c0-499c-a7f4-bdd62df60504"
      },
      "outputs": [
        {
          "output_type": "stream",
          "name": "stderr",
          "text": [
            "/usr/local/lib/python3.7/dist-packages/ipykernel_launcher.py:2: FutureWarning: The default value of regex will change from True to False in a future version.\n",
            "  \n",
            "/usr/local/lib/python3.7/dist-packages/ipykernel_launcher.py:2: SettingWithCopyWarning: \n",
            "A value is trying to be set on a copy of a slice from a DataFrame.\n",
            "Try using .loc[row_indexer,col_indexer] = value instead\n",
            "\n",
            "See the caveats in the documentation: https://pandas.pydata.org/pandas-docs/stable/user_guide/indexing.html#returning-a-view-versus-a-copy\n",
            "  \n",
            "/usr/local/lib/python3.7/dist-packages/ipykernel_launcher.py:3: FutureWarning: The default value of regex will change from True to False in a future version.\n",
            "  This is separate from the ipykernel package so we can avoid doing imports until\n",
            "/usr/local/lib/python3.7/dist-packages/ipykernel_launcher.py:3: SettingWithCopyWarning: \n",
            "A value is trying to be set on a copy of a slice from a DataFrame.\n",
            "Try using .loc[row_indexer,col_indexer] = value instead\n",
            "\n",
            "See the caveats in the documentation: https://pandas.pydata.org/pandas-docs/stable/user_guide/indexing.html#returning-a-view-versus-a-copy\n",
            "  This is separate from the ipykernel package so we can avoid doing imports until\n"
          ]
        },
        {
          "output_type": "execute_result",
          "data": {
            "text/plain": [
              "                        Review-Title              rating  \\\n",
              "0                   Worst phone ever  1.0 out of 5 stars   \n",
              "1          Ok     Not up to the mark  2.0 out of 5 stars   \n",
              "2                       Awesome look  5.0 out of 5 stars   \n",
              "3  One plus losing is originality     3.0 out of 5 stars   \n",
              "4                               Read  1.0 out of 5 stars   \n",
              "\n",
              "                                         Review-Body  \\\n",
              "0                                       Hang problem   \n",
              "1  I m writing this review after using 3days    B...   \n",
              "2  Camera is so good n very fast phone back look ...   \n",
              "3  The media could not be loaded                 ...   \n",
              "4  I got my delivery on 23 feb when I unboxed the...   \n",
              "\n",
              "                                        Product Name  \n",
              "0  OnePlus Nord CE 2 5G (Gray Mirror, 8GB RAM, 12...  \n",
              "1  OnePlus Nord CE 2 5G (Gray Mirror, 8GB RAM, 12...  \n",
              "2  OnePlus Nord CE 2 5G (Gray Mirror, 8GB RAM, 12...  \n",
              "3  OnePlus Nord CE 2 5G (Gray Mirror, 8GB RAM, 12...  \n",
              "4  OnePlus Nord CE 2 5G (Gray Mirror, 8GB RAM, 12...  "
            ],
            "text/html": [
              "\n",
              "  <div id=\"df-cd43a7c8-9203-44cf-84a9-90e092d6eb7b\">\n",
              "    <div class=\"colab-df-container\">\n",
              "      <div>\n",
              "<style scoped>\n",
              "    .dataframe tbody tr th:only-of-type {\n",
              "        vertical-align: middle;\n",
              "    }\n",
              "\n",
              "    .dataframe tbody tr th {\n",
              "        vertical-align: top;\n",
              "    }\n",
              "\n",
              "    .dataframe thead th {\n",
              "        text-align: right;\n",
              "    }\n",
              "</style>\n",
              "<table border=\"1\" class=\"dataframe\">\n",
              "  <thead>\n",
              "    <tr style=\"text-align: right;\">\n",
              "      <th></th>\n",
              "      <th>Review-Title</th>\n",
              "      <th>rating</th>\n",
              "      <th>Review-Body</th>\n",
              "      <th>Product Name</th>\n",
              "    </tr>\n",
              "  </thead>\n",
              "  <tbody>\n",
              "    <tr>\n",
              "      <th>0</th>\n",
              "      <td>Worst phone ever</td>\n",
              "      <td>1.0 out of 5 stars</td>\n",
              "      <td>Hang problem</td>\n",
              "      <td>OnePlus Nord CE 2 5G (Gray Mirror, 8GB RAM, 12...</td>\n",
              "    </tr>\n",
              "    <tr>\n",
              "      <th>1</th>\n",
              "      <td>Ok     Not up to the mark</td>\n",
              "      <td>2.0 out of 5 stars</td>\n",
              "      <td>I m writing this review after using 3days    B...</td>\n",
              "      <td>OnePlus Nord CE 2 5G (Gray Mirror, 8GB RAM, 12...</td>\n",
              "    </tr>\n",
              "    <tr>\n",
              "      <th>2</th>\n",
              "      <td>Awesome look</td>\n",
              "      <td>5.0 out of 5 stars</td>\n",
              "      <td>Camera is so good n very fast phone back look ...</td>\n",
              "      <td>OnePlus Nord CE 2 5G (Gray Mirror, 8GB RAM, 12...</td>\n",
              "    </tr>\n",
              "    <tr>\n",
              "      <th>3</th>\n",
              "      <td>One plus losing is originality</td>\n",
              "      <td>3.0 out of 5 stars</td>\n",
              "      <td>The media could not be loaded                 ...</td>\n",
              "      <td>OnePlus Nord CE 2 5G (Gray Mirror, 8GB RAM, 12...</td>\n",
              "    </tr>\n",
              "    <tr>\n",
              "      <th>4</th>\n",
              "      <td>Read</td>\n",
              "      <td>1.0 out of 5 stars</td>\n",
              "      <td>I got my delivery on 23 feb when I unboxed the...</td>\n",
              "      <td>OnePlus Nord CE 2 5G (Gray Mirror, 8GB RAM, 12...</td>\n",
              "    </tr>\n",
              "  </tbody>\n",
              "</table>\n",
              "</div>\n",
              "      <button class=\"colab-df-convert\" onclick=\"convertToInteractive('df-cd43a7c8-9203-44cf-84a9-90e092d6eb7b')\"\n",
              "              title=\"Convert this dataframe to an interactive table.\"\n",
              "              style=\"display:none;\">\n",
              "        \n",
              "  <svg xmlns=\"http://www.w3.org/2000/svg\" height=\"24px\"viewBox=\"0 0 24 24\"\n",
              "       width=\"24px\">\n",
              "    <path d=\"M0 0h24v24H0V0z\" fill=\"none\"/>\n",
              "    <path d=\"M18.56 5.44l.94 2.06.94-2.06 2.06-.94-2.06-.94-.94-2.06-.94 2.06-2.06.94zm-11 1L8.5 8.5l.94-2.06 2.06-.94-2.06-.94L8.5 2.5l-.94 2.06-2.06.94zm10 10l.94 2.06.94-2.06 2.06-.94-2.06-.94-.94-2.06-.94 2.06-2.06.94z\"/><path d=\"M17.41 7.96l-1.37-1.37c-.4-.4-.92-.59-1.43-.59-.52 0-1.04.2-1.43.59L10.3 9.45l-7.72 7.72c-.78.78-.78 2.05 0 2.83L4 21.41c.39.39.9.59 1.41.59.51 0 1.02-.2 1.41-.59l7.78-7.78 2.81-2.81c.8-.78.8-2.07 0-2.86zM5.41 20L4 18.59l7.72-7.72 1.47 1.35L5.41 20z\"/>\n",
              "  </svg>\n",
              "      </button>\n",
              "      \n",
              "  <style>\n",
              "    .colab-df-container {\n",
              "      display:flex;\n",
              "      flex-wrap:wrap;\n",
              "      gap: 12px;\n",
              "    }\n",
              "\n",
              "    .colab-df-convert {\n",
              "      background-color: #E8F0FE;\n",
              "      border: none;\n",
              "      border-radius: 50%;\n",
              "      cursor: pointer;\n",
              "      display: none;\n",
              "      fill: #1967D2;\n",
              "      height: 32px;\n",
              "      padding: 0 0 0 0;\n",
              "      width: 32px;\n",
              "    }\n",
              "\n",
              "    .colab-df-convert:hover {\n",
              "      background-color: #E2EBFA;\n",
              "      box-shadow: 0px 1px 2px rgba(60, 64, 67, 0.3), 0px 1px 3px 1px rgba(60, 64, 67, 0.15);\n",
              "      fill: #174EA6;\n",
              "    }\n",
              "\n",
              "    [theme=dark] .colab-df-convert {\n",
              "      background-color: #3B4455;\n",
              "      fill: #D2E3FC;\n",
              "    }\n",
              "\n",
              "    [theme=dark] .colab-df-convert:hover {\n",
              "      background-color: #434B5C;\n",
              "      box-shadow: 0px 1px 3px 1px rgba(0, 0, 0, 0.15);\n",
              "      filter: drop-shadow(0px 1px 2px rgba(0, 0, 0, 0.3));\n",
              "      fill: #FFFFFF;\n",
              "    }\n",
              "  </style>\n",
              "\n",
              "      <script>\n",
              "        const buttonEl =\n",
              "          document.querySelector('#df-cd43a7c8-9203-44cf-84a9-90e092d6eb7b button.colab-df-convert');\n",
              "        buttonEl.style.display =\n",
              "          google.colab.kernel.accessAllowed ? 'block' : 'none';\n",
              "\n",
              "        async function convertToInteractive(key) {\n",
              "          const element = document.querySelector('#df-cd43a7c8-9203-44cf-84a9-90e092d6eb7b');\n",
              "          const dataTable =\n",
              "            await google.colab.kernel.invokeFunction('convertToInteractive',\n",
              "                                                     [key], {});\n",
              "          if (!dataTable) return;\n",
              "\n",
              "          const docLinkHtml = 'Like what you see? Visit the ' +\n",
              "            '<a target=\"_blank\" href=https://colab.research.google.com/notebooks/data_table.ipynb>data table notebook</a>'\n",
              "            + ' to learn more about interactive tables.';\n",
              "          element.innerHTML = '';\n",
              "          dataTable['output_type'] = 'display_data';\n",
              "          await google.colab.output.renderOutput(dataTable, element);\n",
              "          const docLink = document.createElement('div');\n",
              "          docLink.innerHTML = docLinkHtml;\n",
              "          element.appendChild(docLink);\n",
              "        }\n",
              "      </script>\n",
              "    </div>\n",
              "  </div>\n",
              "  "
            ]
          },
          "metadata": {},
          "execution_count": 17
        }
      ],
      "source": [
        "# Replacing punctuations with space\n",
        "new_df['Review-Body'] = new_df['Review-Body'].str.replace(\"[^a-zA-Z0-9]\", \" \")\n",
        "new_df['Review-Title'] = new_df['Review-Title'].str.replace(\"[^a-zA-Z0-9]\", \" \")\n",
        "# Re ordering columns\n",
        "#new_df = new_df[['Review-Title','rating','Review-Body','Product Name']]\n",
        "new_df.head(5)"
      ]
    },
    {
      "cell_type": "code",
      "execution_count": 18,
      "metadata": {
        "colab": {
          "base_uri": "https://localhost:8080/",
          "height": 424
        },
        "id": "23a7lPwc8thG",
        "outputId": "a84e31ca-1ffa-4717-e3b0-35c2c7879c80"
      },
      "outputs": [
        {
          "output_type": "execute_result",
          "data": {
            "text/plain": [
              "                            Review-Title              rating  \\\n",
              "0                       Worst phone ever  1.0 out of 5 stars   \n",
              "1              Ok     Not up to the mark  2.0 out of 5 stars   \n",
              "2                           Awesome look  5.0 out of 5 stars   \n",
              "3      One plus losing is originality     3.0 out of 5 stars   \n",
              "4                                   Read  1.0 out of 5 stars   \n",
              "...                                  ...                 ...   \n",
              "23772              Batten in this rangee  4.0 out of 5 stars   \n",
              "23773                        Good mobile  4.0 out of 5 stars   \n",
              "23774                        Good camera  5.0 out of 5 stars   \n",
              "23775                      Warest mobile  1.0 out of 5 stars   \n",
              "23776         Good phone complicated UI   4.0 out of 5 stars   \n",
              "\n",
              "                                             Review-Body  \\\n",
              "0                                           Hang problem   \n",
              "1      I m writing this review after using 3days    B...   \n",
              "2      Camera is so good n very fast phone back look ...   \n",
              "3      The media could not be loaded                 ...   \n",
              "4      I got my delivery on 23 feb when I unboxed the...   \n",
              "...                                                  ...   \n",
              "23772  Must he Bhai iss range me bas cemra thoda sa s...   \n",
              "23773                                       Good product   \n",
              "23774                                               Good   \n",
              "23775  Don t buy this mobile phone money weast screen...   \n",
              "23776  Phone is Good   Camera not upto the mark  UI i...   \n",
              "\n",
              "                                            Product Name  \n",
              "0      OnePlus Nord CE 2 5G (Gray Mirror, 8GB RAM, 12...  \n",
              "1      OnePlus Nord CE 2 5G (Gray Mirror, 8GB RAM, 12...  \n",
              "2      OnePlus Nord CE 2 5G (Gray Mirror, 8GB RAM, 12...  \n",
              "3      OnePlus Nord CE 2 5G (Gray Mirror, 8GB RAM, 12...  \n",
              "4      OnePlus Nord CE 2 5G (Gray Mirror, 8GB RAM, 12...  \n",
              "...                                                  ...  \n",
              "23772  vivo iQOO Z6 5G (Chromatic Blue, 6GB RAM, 128G...  \n",
              "23773  vivo iQOO Z6 5G (Chromatic Blue, 6GB RAM, 128G...  \n",
              "23774  vivo iQOO Z6 5G (Chromatic Blue, 6GB RAM, 128G...  \n",
              "23775  vivo iQOO Z6 5G (Chromatic Blue, 6GB RAM, 128G...  \n",
              "23776  vivo iQOO Z6 5G (Chromatic Blue, 6GB RAM, 128G...  \n",
              "\n",
              "[22034 rows x 4 columns]"
            ],
            "text/html": [
              "\n",
              "  <div id=\"df-bd5e88e3-2e4c-4a8a-85b7-4e90093b7043\">\n",
              "    <div class=\"colab-df-container\">\n",
              "      <div>\n",
              "<style scoped>\n",
              "    .dataframe tbody tr th:only-of-type {\n",
              "        vertical-align: middle;\n",
              "    }\n",
              "\n",
              "    .dataframe tbody tr th {\n",
              "        vertical-align: top;\n",
              "    }\n",
              "\n",
              "    .dataframe thead th {\n",
              "        text-align: right;\n",
              "    }\n",
              "</style>\n",
              "<table border=\"1\" class=\"dataframe\">\n",
              "  <thead>\n",
              "    <tr style=\"text-align: right;\">\n",
              "      <th></th>\n",
              "      <th>Review-Title</th>\n",
              "      <th>rating</th>\n",
              "      <th>Review-Body</th>\n",
              "      <th>Product Name</th>\n",
              "    </tr>\n",
              "  </thead>\n",
              "  <tbody>\n",
              "    <tr>\n",
              "      <th>0</th>\n",
              "      <td>Worst phone ever</td>\n",
              "      <td>1.0 out of 5 stars</td>\n",
              "      <td>Hang problem</td>\n",
              "      <td>OnePlus Nord CE 2 5G (Gray Mirror, 8GB RAM, 12...</td>\n",
              "    </tr>\n",
              "    <tr>\n",
              "      <th>1</th>\n",
              "      <td>Ok     Not up to the mark</td>\n",
              "      <td>2.0 out of 5 stars</td>\n",
              "      <td>I m writing this review after using 3days    B...</td>\n",
              "      <td>OnePlus Nord CE 2 5G (Gray Mirror, 8GB RAM, 12...</td>\n",
              "    </tr>\n",
              "    <tr>\n",
              "      <th>2</th>\n",
              "      <td>Awesome look</td>\n",
              "      <td>5.0 out of 5 stars</td>\n",
              "      <td>Camera is so good n very fast phone back look ...</td>\n",
              "      <td>OnePlus Nord CE 2 5G (Gray Mirror, 8GB RAM, 12...</td>\n",
              "    </tr>\n",
              "    <tr>\n",
              "      <th>3</th>\n",
              "      <td>One plus losing is originality</td>\n",
              "      <td>3.0 out of 5 stars</td>\n",
              "      <td>The media could not be loaded                 ...</td>\n",
              "      <td>OnePlus Nord CE 2 5G (Gray Mirror, 8GB RAM, 12...</td>\n",
              "    </tr>\n",
              "    <tr>\n",
              "      <th>4</th>\n",
              "      <td>Read</td>\n",
              "      <td>1.0 out of 5 stars</td>\n",
              "      <td>I got my delivery on 23 feb when I unboxed the...</td>\n",
              "      <td>OnePlus Nord CE 2 5G (Gray Mirror, 8GB RAM, 12...</td>\n",
              "    </tr>\n",
              "    <tr>\n",
              "      <th>...</th>\n",
              "      <td>...</td>\n",
              "      <td>...</td>\n",
              "      <td>...</td>\n",
              "      <td>...</td>\n",
              "    </tr>\n",
              "    <tr>\n",
              "      <th>23772</th>\n",
              "      <td>Batten in this rangee</td>\n",
              "      <td>4.0 out of 5 stars</td>\n",
              "      <td>Must he Bhai iss range me bas cemra thoda sa s...</td>\n",
              "      <td>vivo iQOO Z6 5G (Chromatic Blue, 6GB RAM, 128G...</td>\n",
              "    </tr>\n",
              "    <tr>\n",
              "      <th>23773</th>\n",
              "      <td>Good mobile</td>\n",
              "      <td>4.0 out of 5 stars</td>\n",
              "      <td>Good product</td>\n",
              "      <td>vivo iQOO Z6 5G (Chromatic Blue, 6GB RAM, 128G...</td>\n",
              "    </tr>\n",
              "    <tr>\n",
              "      <th>23774</th>\n",
              "      <td>Good camera</td>\n",
              "      <td>5.0 out of 5 stars</td>\n",
              "      <td>Good</td>\n",
              "      <td>vivo iQOO Z6 5G (Chromatic Blue, 6GB RAM, 128G...</td>\n",
              "    </tr>\n",
              "    <tr>\n",
              "      <th>23775</th>\n",
              "      <td>Warest mobile</td>\n",
              "      <td>1.0 out of 5 stars</td>\n",
              "      <td>Don t buy this mobile phone money weast screen...</td>\n",
              "      <td>vivo iQOO Z6 5G (Chromatic Blue, 6GB RAM, 128G...</td>\n",
              "    </tr>\n",
              "    <tr>\n",
              "      <th>23776</th>\n",
              "      <td>Good phone complicated UI</td>\n",
              "      <td>4.0 out of 5 stars</td>\n",
              "      <td>Phone is Good   Camera not upto the mark  UI i...</td>\n",
              "      <td>vivo iQOO Z6 5G (Chromatic Blue, 6GB RAM, 128G...</td>\n",
              "    </tr>\n",
              "  </tbody>\n",
              "</table>\n",
              "<p>22034 rows × 4 columns</p>\n",
              "</div>\n",
              "      <button class=\"colab-df-convert\" onclick=\"convertToInteractive('df-bd5e88e3-2e4c-4a8a-85b7-4e90093b7043')\"\n",
              "              title=\"Convert this dataframe to an interactive table.\"\n",
              "              style=\"display:none;\">\n",
              "        \n",
              "  <svg xmlns=\"http://www.w3.org/2000/svg\" height=\"24px\"viewBox=\"0 0 24 24\"\n",
              "       width=\"24px\">\n",
              "    <path d=\"M0 0h24v24H0V0z\" fill=\"none\"/>\n",
              "    <path d=\"M18.56 5.44l.94 2.06.94-2.06 2.06-.94-2.06-.94-.94-2.06-.94 2.06-2.06.94zm-11 1L8.5 8.5l.94-2.06 2.06-.94-2.06-.94L8.5 2.5l-.94 2.06-2.06.94zm10 10l.94 2.06.94-2.06 2.06-.94-2.06-.94-.94-2.06-.94 2.06-2.06.94z\"/><path d=\"M17.41 7.96l-1.37-1.37c-.4-.4-.92-.59-1.43-.59-.52 0-1.04.2-1.43.59L10.3 9.45l-7.72 7.72c-.78.78-.78 2.05 0 2.83L4 21.41c.39.39.9.59 1.41.59.51 0 1.02-.2 1.41-.59l7.78-7.78 2.81-2.81c.8-.78.8-2.07 0-2.86zM5.41 20L4 18.59l7.72-7.72 1.47 1.35L5.41 20z\"/>\n",
              "  </svg>\n",
              "      </button>\n",
              "      \n",
              "  <style>\n",
              "    .colab-df-container {\n",
              "      display:flex;\n",
              "      flex-wrap:wrap;\n",
              "      gap: 12px;\n",
              "    }\n",
              "\n",
              "    .colab-df-convert {\n",
              "      background-color: #E8F0FE;\n",
              "      border: none;\n",
              "      border-radius: 50%;\n",
              "      cursor: pointer;\n",
              "      display: none;\n",
              "      fill: #1967D2;\n",
              "      height: 32px;\n",
              "      padding: 0 0 0 0;\n",
              "      width: 32px;\n",
              "    }\n",
              "\n",
              "    .colab-df-convert:hover {\n",
              "      background-color: #E2EBFA;\n",
              "      box-shadow: 0px 1px 2px rgba(60, 64, 67, 0.3), 0px 1px 3px 1px rgba(60, 64, 67, 0.15);\n",
              "      fill: #174EA6;\n",
              "    }\n",
              "\n",
              "    [theme=dark] .colab-df-convert {\n",
              "      background-color: #3B4455;\n",
              "      fill: #D2E3FC;\n",
              "    }\n",
              "\n",
              "    [theme=dark] .colab-df-convert:hover {\n",
              "      background-color: #434B5C;\n",
              "      box-shadow: 0px 1px 3px 1px rgba(0, 0, 0, 0.15);\n",
              "      filter: drop-shadow(0px 1px 2px rgba(0, 0, 0, 0.3));\n",
              "      fill: #FFFFFF;\n",
              "    }\n",
              "  </style>\n",
              "\n",
              "      <script>\n",
              "        const buttonEl =\n",
              "          document.querySelector('#df-bd5e88e3-2e4c-4a8a-85b7-4e90093b7043 button.colab-df-convert');\n",
              "        buttonEl.style.display =\n",
              "          google.colab.kernel.accessAllowed ? 'block' : 'none';\n",
              "\n",
              "        async function convertToInteractive(key) {\n",
              "          const element = document.querySelector('#df-bd5e88e3-2e4c-4a8a-85b7-4e90093b7043');\n",
              "          const dataTable =\n",
              "            await google.colab.kernel.invokeFunction('convertToInteractive',\n",
              "                                                     [key], {});\n",
              "          if (!dataTable) return;\n",
              "\n",
              "          const docLinkHtml = 'Like what you see? Visit the ' +\n",
              "            '<a target=\"_blank\" href=https://colab.research.google.com/notebooks/data_table.ipynb>data table notebook</a>'\n",
              "            + ' to learn more about interactive tables.';\n",
              "          element.innerHTML = '';\n",
              "          dataTable['output_type'] = 'display_data';\n",
              "          await google.colab.output.renderOutput(dataTable, element);\n",
              "          const docLink = document.createElement('div');\n",
              "          docLink.innerHTML = docLinkHtml;\n",
              "          element.appendChild(docLink);\n",
              "        }\n",
              "      </script>\n",
              "    </div>\n",
              "  </div>\n",
              "  "
            ]
          },
          "metadata": {},
          "execution_count": 18
        }
      ],
      "source": [
        "new_df"
      ]
    },
    {
      "cell_type": "code",
      "source": [
        "ax = df['rating'].value_counts().sort_index().plot(kind='bar',title='Count of Reviews by Stars',figsize=(10,5))\n",
        "ax.set_xlabel('rating')\n",
        "plt.show()"
      ],
      "metadata": {
        "colab": {
          "base_uri": "https://localhost:8080/",
          "height": 425
        },
        "id": "A4-x3lR4F5br",
        "outputId": "323e7744-b270-47a6-9c5e-65ae636d4a3d"
      },
      "execution_count": 19,
      "outputs": [
        {
          "output_type": "display_data",
          "data": {
            "text/plain": [
              "<Figure size 720x360 with 1 Axes>"
            ],
            "image/png": "[encoded data removed]"
          },
          "metadata": {
            "needs_background": "light"
          }
        }
      ]
    },
    {
      "cell_type": "code",
      "execution_count": 20,
      "metadata": {
        "colab": {
          "base_uri": "https://localhost:8080/",
          "height": 350
        },
        "id": "vckFGR7GebMn",
        "outputId": "428732c6-3774-42d0-b4d4-c8fa78eb1069"
      },
      "outputs": [
        {
          "output_type": "display_data",
          "data": {
            "text/plain": [
              "<Figure size 720x360 with 1 Axes>"
            ],
            "image/png": "[encoded data removed]"
          },
          "metadata": {
            "needs_background": "light"
          }
        }
      ],
      "source": [
        "#import numpy as np\n",
        "import seaborn as sns\n",
        "fig=plt.figure(figsize = (10,5))\n",
        "x=new_df.loc[new_df['Product Name']=='OnePlus Nord CE 2 5G(Gray Mirror,8GB RAM,128GB Storage)',:]\n",
        "sns.countplot(x=df['rating'],data=x)\n",
        "# creating the bar plot\n",
        "\n",
        "#plt.bar(x,y)\n",
        " \n",
        "plt.xlabel(\"Product name\")\n",
        "plt.ylabel(\"Rating\")\n",
        "plt.title(\"Rating vs Product name\")\n",
        "plt.show()"
      ]
    },
    {
      "cell_type": "code",
      "source": [
        "new_df.dtypes"
      ],
      "metadata": {
        "colab": {
          "base_uri": "https://localhost:8080/"
        },
        "id": "-dMTrbCt5T4p",
        "outputId": "b7ac4ebf-8c6d-4ff1-f544-4c23d1178bff"
      },
      "execution_count": 21,
      "outputs": [
        {
          "output_type": "execute_result",
          "data": {
            "text/plain": [
              "Review-Title    object\n",
              "rating          object\n",
              "Review-Body     object\n",
              "Product Name    object\n",
              "dtype: object"
            ]
          },
          "metadata": {},
          "execution_count": 21
        }
      ]
    },
    {
      "cell_type": "code",
      "execution_count": 22,
      "metadata": {
        "colab": {
          "base_uri": "https://localhost:8080/"
        },
        "id": "PODdOD8R1IPo",
        "outputId": "95f367c1-47bf-491b-dcf8-9cde5e5c51c5"
      },
      "outputs": [
        {
          "output_type": "stream",
          "name": "stderr",
          "text": [
            "/usr/local/lib/python3.7/dist-packages/ipykernel_launcher.py:1: SettingWithCopyWarning: \n",
            "A value is trying to be set on a copy of a slice from a DataFrame.\n",
            "Try using .loc[row_indexer,col_indexer] = value instead\n",
            "\n",
            "See the caveats in the documentation: https://pandas.pydata.org/pandas-docs/stable/user_guide/indexing.html#returning-a-view-versus-a-copy\n",
            "  \"\"\"Entry point for launching an IPython kernel.\n",
            "/usr/local/lib/python3.7/dist-packages/ipykernel_launcher.py:2: SettingWithCopyWarning: \n",
            "A value is trying to be set on a copy of a slice from a DataFrame.\n",
            "Try using .loc[row_indexer,col_indexer] = value instead\n",
            "\n",
            "See the caveats in the documentation: https://pandas.pydata.org/pandas-docs/stable/user_guide/indexing.html#returning-a-view-versus-a-copy\n",
            "  \n"
          ]
        }
      ],
      "source": [
        "new_df['Review-Body'] = new_df['Review-Body'].apply(lambda row :  ' '.join([word for word in str(row).split() if len(word)>2]))\n",
        "new_df['Review-Title'] = new_df['Review-Title'].apply(lambda row :  ' '.join([word for word in str(row).split() if len(word)>2]))"
      ]
    },
    {
      "cell_type": "code",
      "execution_count": 23,
      "metadata": {
        "colab": {
          "base_uri": "https://localhost:8080/"
        },
        "id": "nucJm3Te1ILM",
        "outputId": "17cf3dae-92d0-4f0f-ed54-e88dcfb1b531"
      },
      "outputs": [
        {
          "output_type": "execute_result",
          "data": {
            "text/plain": [
              "0                                             Hang problem\n",
              "1        writing this review after using 3days honest t...\n",
              "2        Camera good very fast phone back look awesomeW...\n",
              "3        The media could not loaded average product dec...\n",
              "4        got delivery feb when unboxed the phone the di...\n",
              "                               ...                        \n",
              "23772          Must Bhai iss range bas cemra thoda shi nhi\n",
              "23773                                         Good product\n",
              "23774                                                 Good\n",
              "23775    Don buy this mobile phone money weast screen t...\n",
              "23776      Phone Good Camera not upto the mark complicated\n",
              "Name: Review-Body, Length: 22034, dtype: object"
            ]
          },
          "metadata": {},
          "execution_count": 23
        }
      ],
      "source": [
        "new_df['Review-Body']"
      ]
    },
    {
      "cell_type": "markdown",
      "source": [
        "**Converting lower case**"
      ],
      "metadata": {
        "id": "TEbaL4_ggcbd"
      }
    },
    {
      "cell_type": "code",
      "execution_count": 24,
      "metadata": {
        "colab": {
          "base_uri": "https://localhost:8080/"
        },
        "id": "4z6GjKT11H1o",
        "outputId": "92041152-05a0-47e6-81ff-a0293839d58f"
      },
      "outputs": [
        {
          "output_type": "stream",
          "name": "stderr",
          "text": [
            "/usr/local/lib/python3.7/dist-packages/ipykernel_launcher.py:1: SettingWithCopyWarning: \n",
            "A value is trying to be set on a copy of a slice from a DataFrame.\n",
            "Try using .loc[row_indexer,col_indexer] = value instead\n",
            "\n",
            "See the caveats in the documentation: https://pandas.pydata.org/pandas-docs/stable/user_guide/indexing.html#returning-a-view-versus-a-copy\n",
            "  \"\"\"Entry point for launching an IPython kernel.\n",
            "/usr/local/lib/python3.7/dist-packages/ipykernel_launcher.py:2: SettingWithCopyWarning: \n",
            "A value is trying to be set on a copy of a slice from a DataFrame.\n",
            "Try using .loc[row_indexer,col_indexer] = value instead\n",
            "\n",
            "See the caveats in the documentation: https://pandas.pydata.org/pandas-docs/stable/user_guide/indexing.html#returning-a-view-versus-a-copy\n",
            "  \n"
          ]
        }
      ],
      "source": [
        "new_df['Review-Body']=[review.lower() for review in new_df['Review-Body']]\n",
        "new_df['Review-Title']=[review.lower() for review in new_df['Review-Title']]"
      ]
    },
    {
      "cell_type": "code",
      "execution_count": 25,
      "metadata": {
        "colab": {
          "base_uri": "https://localhost:8080/"
        },
        "id": "tTVWeezN1W6I",
        "outputId": "b7981eeb-9988-4a03-83c4-f8d301f512ae"
      },
      "outputs": [
        {
          "output_type": "execute_result",
          "data": {
            "text/plain": [
              "0                                             hang problem\n",
              "1        writing this review after using 3days honest t...\n",
              "2        camera good very fast phone back look awesomew...\n",
              "3        the media could not loaded average product dec...\n",
              "4        got delivery feb when unboxed the phone the di...\n",
              "                               ...                        \n",
              "23772          must bhai iss range bas cemra thoda shi nhi\n",
              "23773                                         good product\n",
              "23774                                                 good\n",
              "23775    don buy this mobile phone money weast screen t...\n",
              "23776      phone good camera not upto the mark complicated\n",
              "Name: Review-Body, Length: 22034, dtype: object"
            ]
          },
          "metadata": {},
          "execution_count": 25
        }
      ],
      "source": [
        "new_df['Review-Body']"
      ]
    },
    {
      "cell_type": "code",
      "execution_count": 26,
      "metadata": {
        "colab": {
          "base_uri": "https://localhost:8080/"
        },
        "id": "DK73_QysAzl6",
        "outputId": "f7c0759a-c61e-4d70-c980-81bfc6729986"
      },
      "outputs": [
        {
          "output_type": "execute_result",
          "data": {
            "text/plain": [
              "0                   worst phone ever\n",
              "1                       not the mark\n",
              "2                       awesome look\n",
              "3        one plus losing originality\n",
              "4                               read\n",
              "                    ...             \n",
              "23772             batten this rangee\n",
              "23773                    good mobile\n",
              "23774                    good camera\n",
              "23775                  warest mobile\n",
              "23776         good phone complicated\n",
              "Name: Review-Title, Length: 22034, dtype: object"
            ]
          },
          "metadata": {},
          "execution_count": 26
        }
      ],
      "source": [
        "new_df['Review-Title']"
      ]
    },
    {
      "cell_type": "markdown",
      "source": [
        "**Tokenization**"
      ],
      "metadata": {
        "id": "Ve9EBmLvghXI"
      }
    },
    {
      "cell_type": "code",
      "execution_count": 27,
      "metadata": {
        "colab": {
          "base_uri": "https://localhost:8080/"
        },
        "id": "sllb62Ne1Z7d",
        "outputId": "c1b56e08-fabc-463c-90b2-73d1dea945cd"
      },
      "outputs": [
        {
          "output_type": "stream",
          "name": "stderr",
          "text": [
            "[nltk_data] Downloading package stopwords to /root/nltk_data...\n",
            "[nltk_data]   Unzipping corpora/stopwords.zip.\n"
          ]
        }
      ],
      "source": [
        "#Tokenization\n",
        "import nltk\n",
        "from nltk import word_tokenize \n",
        "nltk.download('stopwords')\n",
        "from nltk.corpus import stopwords\n",
        "from nltk import word_tokenize\n",
        "stop_words = stopwords.words('english')\n",
        "#stop_words = stopwords.words('hindi')"
      ]
    },
    {
      "cell_type": "code",
      "execution_count": 28,
      "metadata": {
        "colab": {
          "base_uri": "https://localhost:8080/"
        },
        "id": "WMPgc8nA1Zuf",
        "outputId": "7f3a3bdf-3413-4a89-e772-8612325d46b5"
      },
      "outputs": [
        {
          "output_type": "stream",
          "name": "stderr",
          "text": [
            "[nltk_data] Downloading package punkt to /root/nltk_data...\n",
            "[nltk_data]   Unzipping tokenizers/punkt.zip.\n"
          ]
        },
        {
          "output_type": "execute_result",
          "data": {
            "text/plain": [
              "True"
            ]
          },
          "metadata": {},
          "execution_count": 28
        }
      ],
      "source": [
        "import nltk\n",
        "nltk.download('punkt')"
      ]
    },
    {
      "cell_type": "markdown",
      "source": [
        "**Lemmatization**"
      ],
      "metadata": {
        "id": "qoKcPdGggn4G"
      }
    },
    {
      "cell_type": "code",
      "execution_count": 29,
      "metadata": {
        "colab": {
          "base_uri": "https://localhost:8080/"
        },
        "id": "jzuZ7ueyKJap",
        "outputId": "77ed1d6a-510e-46d5-d246-e473fd093513"
      },
      "outputs": [
        {
          "output_type": "stream",
          "name": "stderr",
          "text": [
            "[nltk_data] Downloading package wordnet to /root/nltk_data...\n",
            "[nltk_data] Downloading package averaged_perceptron_tagger to\n",
            "[nltk_data]     /root/nltk_data...\n",
            "[nltk_data]   Unzipping taggers/averaged_perceptron_tagger.zip.\n",
            "[nltk_data] Downloading package omw-1.4 to /root/nltk_data...\n",
            "/usr/local/lib/python3.7/dist-packages/ipykernel_launcher.py:43: SettingWithCopyWarning: \n",
            "A value is trying to be set on a copy of a slice from a DataFrame.\n",
            "Try using .loc[row_indexer,col_indexer] = value instead\n",
            "\n",
            "See the caveats in the documentation: https://pandas.pydata.org/pandas-docs/stable/user_guide/indexing.html#returning-a-view-versus-a-copy\n",
            "/usr/local/lib/python3.7/dist-packages/ipykernel_launcher.py:44: SettingWithCopyWarning: \n",
            "A value is trying to be set on a copy of a slice from a DataFrame.\n",
            "Try using .loc[row_indexer,col_indexer] = value instead\n",
            "\n",
            "See the caveats in the documentation: https://pandas.pydata.org/pandas-docs/stable/user_guide/indexing.html#returning-a-view-versus-a-copy\n"
          ]
        }
      ],
      "source": [
        "# Begin Lemmatization \n",
        "nltk.download('wordnet')\n",
        "from nltk.stem import WordNetLemmatizer\n",
        "from nltk.corpus import wordnet\n",
        "nltk.download('averaged_perceptron_tagger') # Run atleast once \n",
        "\n",
        "# function to convert nltk tag to wordnet tag\n",
        "lemmatizer = WordNetLemmatizer()\n",
        "nltk.download('omw-1.4')\n",
        "\n",
        "# Finds the part of speech tag\n",
        "# Convert the detailed POS tag into a shallow information\n",
        "def nltk_tag_to_wordnet_tag(nltk_tag):\n",
        "    if nltk_tag.startswith('J'):\n",
        "        return wordnet.ADJ\n",
        "    elif nltk_tag.startswith('V'):\n",
        "        return wordnet.VERB\n",
        "    elif nltk_tag.startswith('N'):\n",
        "        return wordnet.NOUN\n",
        "    elif nltk_tag.startswith('R'):\n",
        "        return wordnet.ADV\n",
        "    else:          \n",
        "        return None\n",
        "\n",
        "# lemmatize sentence using pos tag\n",
        "def lemmatize_sentence(sentence):\n",
        "  # word tokenize -> pos tag (detailed) -> wordnet tag (shallow pos) -> lemmatizer -> root word\n",
        "    #tokenize the sentence and find the POS tag for each token\n",
        "    nltk_tagged = nltk.pos_tag(nltk.word_tokenize(sentence))  \n",
        "    #tuple of (token, wordnet_tag)\n",
        "    wordnet_tagged = map(lambda x: (x[0], nltk_tag_to_wordnet_tag(x[1])), nltk_tagged)\n",
        "    lemmatized_sentence = []\n",
        "    for word, tag in wordnet_tagged:\n",
        "        if tag is None:\n",
        "            #if there is no available tag, append the token as is\n",
        "            lemmatized_sentence.append(word)\n",
        "        else:        \n",
        "            #else use the tag to lemmatize the token\n",
        "            lemmatized_sentence.append(lemmatizer.lemmatize(word, tag))\n",
        "    return \" \".join(lemmatized_sentence)\n",
        "\n",
        "\n",
        "new_df['Review-Body'] = new_df['Review-Body'].apply(lambda x: lemmatize_sentence(x))\n",
        "new_df['Review-Title'] = new_df['Review-Title'].apply(lambda x: lemmatize_sentence(x))"
      ]
    },
    {
      "cell_type": "code",
      "execution_count": 30,
      "metadata": {
        "colab": {
          "base_uri": "https://localhost:8080/"
        },
        "id": "5Pmpo_x7LmwQ",
        "outputId": "95c382ae-2179-4115-8bcd-eec1b1fd1b32"
      },
      "outputs": [
        {
          "output_type": "execute_result",
          "data": {
            "text/plain": [
              "0                                             hang problem\n",
              "1        write this review after use 3days honest this ...\n",
              "2        camera good very fast phone back look awesomew...\n",
              "3        the medium could not load average product dece...\n",
              "4        get delivery feb when unbox the phone the disp...\n",
              "                               ...                        \n",
              "23772           must bhai iss range ba cemra thoda shi nhi\n",
              "23773                                         good product\n",
              "23774                                                 good\n",
              "23775    don buy this mobile phone money weast screen t...\n",
              "23776       phone good camera not upto the mark complicate\n",
              "Name: Review-Body, Length: 22034, dtype: object"
            ]
          },
          "metadata": {},
          "execution_count": 30
        }
      ],
      "source": [
        "new_df['Review-Body']"
      ]
    },
    {
      "cell_type": "code",
      "execution_count": 31,
      "metadata": {
        "colab": {
          "base_uri": "https://localhost:8080/"
        },
        "id": "CDCUrD1dMgaH",
        "outputId": "b3338822-4743-42a0-be65-67e2455f489a"
      },
      "outputs": [
        {
          "output_type": "execute_result",
          "data": {
            "text/plain": [
              "0                 worst phone ever\n",
              "1                     not the mark\n",
              "2                     awesome look\n",
              "3        one plus lose originality\n",
              "4                             read\n",
              "                   ...            \n",
              "23772           batten this rangee\n",
              "23773                  good mobile\n",
              "23774                  good camera\n",
              "23775                warest mobile\n",
              "23776        good phone complicate\n",
              "Name: Review-Title, Length: 22034, dtype: object"
            ]
          },
          "metadata": {},
          "execution_count": 31
        }
      ],
      "source": [
        "new_df['Review-Title']"
      ]
    },
    {
      "cell_type": "markdown",
      "metadata": {
        "id": "7EjLsydgNv9q"
      },
      "source": [
        "**Stopwords Removal**\n"
      ]
    },
    {
      "cell_type": "code",
      "execution_count": 32,
      "metadata": {
        "colab": {
          "base_uri": "https://localhost:8080/"
        },
        "id": "fvcJAwpw1gNO",
        "outputId": "15504c44-2ef2-448b-fd69-8c6c12dbb1c4"
      },
      "outputs": [
        {
          "output_type": "stream",
          "name": "stderr",
          "text": [
            "/usr/local/lib/python3.7/dist-packages/ipykernel_launcher.py:10: SettingWithCopyWarning: \n",
            "A value is trying to be set on a copy of a slice from a DataFrame.\n",
            "Try using .loc[row_indexer,col_indexer] = value instead\n",
            "\n",
            "See the caveats in the documentation: https://pandas.pydata.org/pandas-docs/stable/user_guide/indexing.html#returning-a-view-versus-a-copy\n",
            "  # Remove the CWD from sys.path while we load stuff.\n",
            "/usr/local/lib/python3.7/dist-packages/ipykernel_launcher.py:11: SettingWithCopyWarning: \n",
            "A value is trying to be set on a copy of a slice from a DataFrame.\n",
            "Try using .loc[row_indexer,col_indexer] = value instead\n",
            "\n",
            "See the caveats in the documentation: https://pandas.pydata.org/pandas-docs/stable/user_guide/indexing.html#returning-a-view-versus-a-copy\n",
            "  # This is added back by InteractiveShellApp.init_path()\n"
          ]
        }
      ],
      "source": [
        "# Function to remove stop words \n",
        "def remove_stopwords(rev):\n",
        "    # iNPUT : IT WILL TAKE ROW/REVIEW AS AN INPUT\n",
        "    # take the paragraph, break into words, check if the word is a stop word, remove if stop word, combine the words into a para again\n",
        "    review_tokenized = word_tokenize(rev)\n",
        "    rev_new = \" \".join([i for i in review_tokenized  if i not in stop_words])\n",
        "    return rev_new\n",
        "\n",
        "# Removing stopwords\n",
        "new_df['Review-Body'] = [remove_stopwords(r) for r in new_df['Review-Body']]\n",
        "new_df['Review-Title'] = [remove_stopwords(r) for r in new_df['Review-Title']]"
      ]
    },
    {
      "cell_type": "code",
      "execution_count": 33,
      "metadata": {
        "colab": {
          "base_uri": "https://localhost:8080/"
        },
        "id": "92Bd9pJX1lUo",
        "outputId": "d57749f9-8157-45a0-c148-ccb2eecf939a"
      },
      "outputs": [
        {
          "output_type": "execute_result",
          "data": {
            "text/plain": [
              "0                                             hang problem\n",
              "1        write review use 3days honest normal android p...\n",
              "2        camera good fast phone back look awesomewith d...\n",
              "3        medium could load average product decent day d...\n",
              "4        get delivery feb unbox phone display damage re...\n",
              "                               ...                        \n",
              "23772           must bhai iss range ba cemra thoda shi nhi\n",
              "23773                                         good product\n",
              "23774                                                 good\n",
              "23775    buy mobile phone money weast screen tach probl...\n",
              "23776               phone good camera upto mark complicate\n",
              "Name: Review-Body, Length: 22034, dtype: object"
            ]
          },
          "metadata": {},
          "execution_count": 33
        }
      ],
      "source": [
        "new_df['Review-Body']"
      ]
    },
    {
      "cell_type": "code",
      "execution_count": 34,
      "metadata": {
        "colab": {
          "base_uri": "https://localhost:8080/"
        },
        "id": "NmUSRJ7kA84k",
        "outputId": "692fdd2d-2be1-43f5-9de4-464fbde413f6"
      },
      "outputs": [
        {
          "output_type": "execute_result",
          "data": {
            "text/plain": [
              "0                 worst phone ever\n",
              "1                             mark\n",
              "2                     awesome look\n",
              "3        one plus lose originality\n",
              "4                             read\n",
              "                   ...            \n",
              "23772                batten rangee\n",
              "23773                  good mobile\n",
              "23774                  good camera\n",
              "23775                warest mobile\n",
              "23776        good phone complicate\n",
              "Name: Review-Title, Length: 22034, dtype: object"
            ]
          },
          "metadata": {},
          "execution_count": 34
        }
      ],
      "source": [
        "new_df['Review-Title']"
      ]
    },
    {
      "cell_type": "code",
      "execution_count": 34,
      "metadata": {
        "id": "1SPB6CKKT5e0"
      },
      "outputs": [],
      "source": [
        ""
      ]
    },
    {
      "cell_type": "code",
      "execution_count": 35,
      "metadata": {
        "colab": {
          "base_uri": "https://localhost:8080/"
        },
        "id": "rBhWP9OjQW0H",
        "outputId": "66de030e-305c-4fdd-dbc0-d0af38db2930"
      },
      "outputs": [
        {
          "output_type": "execute_result",
          "data": {
            "text/plain": [
              "[('good', 10182),\n",
              " ('phone', 9406),\n",
              " ('camera', 6781),\n",
              " ('quality', 4469),\n",
              " ('battery', 3762),\n",
              " ('mobile', 3327),\n",
              " ('product', 2971),\n",
              " ('buy', 2412),\n",
              " ('bad', 2408),\n",
              " ('use', 2143),\n",
              " ('price', 2055),\n",
              " ('nice', 2011),\n",
              " ('like', 1908),\n",
              " ('work', 1712),\n",
              " ('best', 1490),\n",
              " ('display', 1486),\n",
              " ('also', 1485),\n",
              " ('get', 1434),\n",
              " ('charge', 1413),\n",
              " ('one', 1402),\n",
              " ('life', 1392),\n",
              " ('money', 1300),\n",
              " ('day', 1259),\n",
              " ('time', 1211),\n",
              " ('performance', 1194),\n",
              " ('screen', 1089),\n",
              " ('poor', 1076),\n",
              " ('issue', 1069),\n",
              " ('amazon', 1048),\n",
              " ('could', 1012)]"
            ]
          },
          "metadata": {},
          "execution_count": 35
        }
      ],
      "source": [
        "from collections import Counter\n",
        "frequent_words=Counter(\" \".join(new_df['Review-Body']).split()).most_common(30)\n",
        "frequent_words"
      ]
    },
    {
      "cell_type": "markdown",
      "source": [
        "**Plotting the Repeated Words**\n"
      ],
      "metadata": {
        "id": "G9gZvDT8hMXm"
      }
    },
    {
      "cell_type": "code",
      "execution_count": 36,
      "metadata": {
        "colab": {
          "base_uri": "https://localhost:8080/",
          "height": 320
        },
        "id": "2AnVKO4mS_h6",
        "outputId": "0ec70389-22bd-48c7-a191-ad1600f1db6e"
      },
      "outputs": [
        {
          "output_type": "display_data",
          "data": {
            "text/plain": [
              "<Figure size 1440x360 with 1 Axes>"
            ],
            "image/png": "[encoded data removed]"
          },
          "metadata": {
            "needs_background": "light"
          }
        }
      ],
      "source": [
        "words=[]\n",
        "count=[]\n",
        "for i,j in frequent_words:\n",
        "  words.append(i)\n",
        "  count.append(j)\n",
        "\n",
        "plt.figure(figsize=(20,5))\n",
        "ax = plt.barh(words,count)\n",
        "plt.show()"
      ]
    },
    {
      "cell_type": "markdown",
      "source": [
        "**Plotting Wordclound**"
      ],
      "metadata": {
        "id": "1HfZF0yyhUH1"
      }
    },
    {
      "cell_type": "code",
      "execution_count": 37,
      "metadata": {
        "colab": {
          "base_uri": "https://localhost:8080/",
          "height": 607
        },
        "id": "T9qRlFunRExq",
        "outputId": "c0d78dd6-92de-491e-bfbf-32483a4b7764"
      },
      "outputs": [
        {
          "output_type": "display_data",
          "data": {
            "text/plain": [
              "<Figure size 576x576 with 1 Axes>"
            ],
            "image/png": "[encoded data removed]"
          },
          "metadata": {
            "needs_background": "light"
          }
        }
      ],
      "source": [
        "from wordcloud import WordCloud, STOPWORDS\n",
        "import matplotlib.pyplot as plt\n",
        "import pandas as pd\n",
        " \n",
        "\n",
        "#new_df = pd.read_csv(r\"/content/Flipkart_Amazon Mobile Reviews - Flipkart_Amazon Mobile Reviews.csv\", encoding =\"latin-1\")\n",
        " \n",
        "comment_words = ''\n",
        "stopwords = set(STOPWORDS)\n",
        " \n",
        "# iterate through the csv file\n",
        "for val in new_df['Review-Body']:\n",
        "     \n",
        "    # typecaste each val to string\n",
        "    val = str(val)\n",
        " \n",
        "    # split the value\n",
        "    tokens = val.split()\n",
        "     \n",
        "    # Converts each token into lowercase\n",
        "    for i in range(len(tokens)):\n",
        "        tokens[i] = tokens[i].lower()\n",
        "     \n",
        "    comment_words += \" \".join(tokens)+\" \"\n",
        " \n",
        "wordcloud = WordCloud(width = 800, height = 800,\n",
        "                background_color ='white',\n",
        "                stopwords = stopwords,\n",
        "                min_font_size = 10).generate(comment_words)\n",
        " \n",
        "# plot the WordCloud image                      \n",
        "plt.figure(figsize = (8, 8), facecolor = None)\n",
        "plt.imshow(wordcloud)\n",
        "plt.axis(\"off\")\n",
        "plt.tight_layout(pad = 0)\n",
        " \n",
        "plt.show()"
      ]
    },
    {
      "cell_type": "markdown",
      "metadata": {
        "id": "Kh6PXZ6WvLP1"
      },
      "source": [
        "BAG OF WORDS MODEL"
      ]
    },
    {
      "cell_type": "code",
      "execution_count": 38,
      "metadata": {
        "colab": {
          "base_uri": "https://localhost:8080/"
        },
        "id": "pFMJP6eXxDcx",
        "outputId": "ef173c06-d175-483c-9a7c-dcc08a103321"
      },
      "outputs": [
        {
          "output_type": "stream",
          "name": "stdout",
          "text": [
            "Key : ['good', 'phone', 'camera', 'quality', 'battery', 'mobile', 'product', 'buy', 'bad', 'use', 'price', 'nice', 'like', 'work', 'best', 'display', 'also', 'get', 'charge', 'one', 'life', 'money', 'day', 'time', 'performance', 'screen', 'poor', 'issue', 'amazon', 'could', 'hang', 'look', 'call', 'redmi', 'problem', 'medium', 'range', 'overall', 'load', 'slow', 'fast', 'well', 'feature', 'average', 'low', 'budget', 'much', 'great', 'even', 'back', 'month', 'take', 'purchase', 'samsung', 'value', 'backup', 'awesome', 'hai', 'really', 'game', 'fingerprint', 'give', 'touch', 'sound', 'experience', 'please', 'return', 'service', 'heat', 'excellent', 'expect', 'processor', 'waste', 'worth', 'need', 'front', 'charger', 'video', 'thing', 'want', 'super', 'speaker', 'device', 'everything', 'feel', 'normal', 'ram', 'light', 'apps', 'happy', 'properly', 'many', 'lag', 'come', 'sensor', 'oneplus', 'finger', 'note', 'review', 'worst', 'usage', 'brand', 'plus', 'user', 'love', 'option', 'last', 'make', 'smooth', 'say', 'print', 'mark', 'high', 'lot', 'play', 'photo', 'face', 'app', 'speed', 'compare', 'picture', 'recommend', 'superb', 'ever', 'think', 'decent', 'fine', 'full', 'update', 'pro', 'customer', 'see', 'start', 'go', 'support', 'new', 'receive', 'first', 'every', 'oppo', 'hour', 'little', 'show', 'sometimes', 'old', 'long', 'would', 'heavy', 'model', 'dont', 'software', 'still', 'replace', 'never', 'delivery', 'design', 'less', 'provide', 'satisfy', 'within', 'box', 'amaze', 'upto', 'realme', 'exchange', 'reader', 'available', 'replacement', 'weight', 'bit', 'big', 'smartphone', 'android', 'thanks', 'disappointed', 'perfect', 'find', 'open', 'network', 'totally', 'without', 'year', 'week', 'amoled', 'okay', 'rate', 'segment', 'type', 'per', 'far', 'switch', 'voice', 'know', 'miss', 'drain', 'improve', 'cover', 'always', 'storage', 'company', 'mode', 'heating', 'cheap', 'try', 'colour', 'record', 'order', 'build', 'quite', 'cost', 'since', 'dislike', 'offer', 'point', 'change', 'people', 'hand', 'class', 'automatically', 'nothing', 'amazing', 'care', 'clear', 'nord', 'enough', 'seem', 'clarity', 'otherwise', 'must', 'side', 'thank', 'suggest', 'disappoint', '100', 'sim', 'item', 'except', 'write', 'keep', 'camara', 'minute', 'online', 'response', 'prime', 'run', 'daily', 'power', 'another', 'till', 'refund', 'card', '6gb', 'though', 'color', 'two', 'function', 'selfie', 'easy', 'image', 'deliver', 'pathetic', 'may', 'youtube', 'expectation', 'able', 'volume', 'check', 'basic', 'nahi', 'set', 'night', 'case', 'bhi', 'damage', 'rest', 'stop', 'refresh', 'wifi', 'application', 'charging', 'brightness', 'defective', 'restart', 'system', 'pretty', 'con', 'condition', 'rear', 'center', '4gb', 'etc', 'connect', 'almost', 'buying', 'satisfied', 'second', 'help', 'due', 'contact', 'nhi', 'star', 'watch', 'handset', 'memory', 'mention', 'dual', 'pic', '90hz', 'size', 'audio', 'button', 'request', 'mah', 'min', 'policy', 'miui', 'lock', 'iqoo', 'process', 'bug', 'person', 'centre', 'smart', 'xiaomi', 'warranty', '128', 'main', 'accord', 'fully', 'already', 'gaming', 'end', 'wise', 'quick', 'pay', 'part', 'gud', '50mp', 'premium', 'friendly', 'beautiful', 'version', 'hanging', 'happen', 'add', 'around', 'hear', 'body', 'worthy', 'bahut', 'google', 'rating', 'chinese', 'deal', 'name', 'gift', 'else', 'auto', 'ask', 'useless', 'whatsapp', 'consider', 'however', 'specification', 'easily', 'top', 'tell', 'series', 'm32', 'small', 'proper', 'click', 'sell', 'cam', 'task', 'guy', 'half', 'way', 'single', 'win', 'unlock', 'earphone', 'internet', 'previous', 'close', 'resolution', 'pls', 'loud', 'late', 'level', 'handle', 'plz', 'instead', 'something', 'data', 'talk', 'choice', 'others', 'notification', 'perform', 'smoothly', 'definitely', '10k', 'bgmi', 'instal', 'message', 'capacity', 'fantastic', 'become', 'trust', 'completely', 'better', 'headphone', 'mother', 'send', '15k', 'sure', 'glass', 'anything', 'connectivity', 'free', 'cool', 'purpose', 'vivo', 'team', 'market', 'negative', 'a31', 'quickly', 'number', 'anyone', 'drop', 'regret', 'blur', 'piece', 'mom', 'kind', 'today', 'right', 'fix', 'place', 'turn', 'sale', 'frequently', 'respond', 'aur', 'blue', 'real', 'slim', 'yet', 'bettery', 'india', 'include', 'amount', 'pack', 'unable', 'satisfactory', 'wrost', 'plastic', '25k', 'spec', 'complaint', 'actually', 'handy', 'capture', 'hard', 'date', 'hota', 'thik', 'bekar', 'mean', 'wait', 'let', 'hope', 'job', 'next', 'stereo', 'pixel', 'multiple', 'affordable', '6000', 'bed', 'visit', 'paisa', 'slot', 'yes', 'upgrade', 'total', 'scanner', 'bright', 'complete', 'cheat', 'black', 'wonderful', 'lose', 'someone', 'hr', 'lack', 'improvement', 'pubg', 'simple', 'simply', 'different', 'put', 'poco', 'read', 'major', 'discount', 'moderate', '6000mah', 'soon', 'sometime', 'extra', 'notice', 'bluetooth', 'music', 'usb', 'meet', 'mid', 'setting', 'seller', 'possible', '5000', 'lover', 'highly', 'zoom', 'cable', 'package', 'repair', 'accept', 'dull', 'raha', 'although', 'scratch', 'future', 'bakwas', 'useful', 'third', 'line', 'ear', 'result', 'koi', '2021', 'narzo', 'claim', 'megapixel', '128gb', 'important', 'regular', 'non', 'defect', 'reasonable', 'horrible', 'iam', 'whole', 'par', 'term', 'absolutely', 'interface', 'snapdragon', 'three', 'faster', 'processing', 'adapter', 'tha', 'band', 'bloatware', 'often', 'specially', 'signal', 'faulty', 'store', 'resolve', 'suddenly', 'everyone', 'technician', 'photography', 'jack', 'especially', 'operate', 'hot', 'slightly', 'mind', '64gb', '2022', 'dark', 'extremely', 'view', 'impressive', 'hardware', 'break', 'father', 'acha', 'ago', 'panel', 'spend', 'disconnect', 'remove', 'choose', 'avoid', 'disappointing', 'home', 'kar', 'variant', 'reason', 'camra', 'videos', 'rom', 'inside', 'west', 'space', 'gamer', 'oxygen', 'detail', 'china', 'early', 'hit', 'search', 'huge', 'wow', 'cant', 'redmi9', 'believe', 'hold', 'complain', 'mediatek', 'powerful', 'wrong', 'parent', 'pin', 'continue', 'slowly', 'goodcamera', 'lena', 'atleast', 'watt', 'notch', 'internal', 'save', '2mp', 'friend', 'pick', 'bought', 'increase', 'batter', 'window', '65w', 'launch', 'felt', 'difference', 'twice', 'macro', 'management', '1st', 'mistake', 'wonder', 'dad', 'kam', 'difficult', 'security', 'wide', 'thought', 'pocket', 'galaxy', 'us', 'solve', '000', 'working', 'kindly', 'white', '12k', 'mast', 'nyc', 'sunlight', 'social', 'mic', 'operation', 'max', 'feeling', 'valuable', 'period', 'gamers', 'avarage', 'laggy', 'mat', 'headset', 'clean', 'drawback', 'require', 'original', 'facility', 'doubt', 'aspect', 'apart', 'kuch', 'short', 'helio', 'disappointment', 'fan', 'recording', 'stock', 'perfectly', 'technical', 'clearly', 'family', 'fone', 'suggestion', 'reboot', 'recognition', 'automatic', 'lcd', 'appear', 'phn', 'configuration', 'lags', 'graphic', 'ce2', 'battry', 'dead', 'earlier', 'mai', 'requirement', 'osm', 'gyroscope', '64mp', 'download', 'finish', 'base', 'compromise', 'stand', 'dialer', 'fool', 'abt', 'sleek', 'finally', '3rd', 'delay', 'soo', 'karta', 'hotspot', 'comfortable', 'movie', 'standard', 'stick', 'special', 'prize', 'shop', 'member', 'strong', 'file', 'moto', 'pre', 'weak', 'present', 'default', 'concern', 'large', 'focus', 'bring', 'might', 'fit', 'overheat', 'comment', 'net', 'hate', 'immediately', 'goodbattery', 'liye', 'suitable', 'rather', 'blaster', 'jio', 'ad', 'move', 'ultra', 'speak', 'leave', 'reach', 'despite', 'multimedia', 'comparison', 'responsive', 'reset', 'port', 'instagram', 'phon', 'attractive', 'mega', 'lagging', '18w', 'vga', 'honest', 'rupee', 'crash', 'water', 'test', '120hz', 'least', 'solution', 'cause', 'post', 'eye', 'enjoy', 'past', 'lead', 'list', 'connection', 'blank', 'accessory', 'flash', 'lovely', 'incoming', 'irritate', '2020', '12000', 'split', 'wish', 'iphone', 'primary', 'cell', 'daylight', 'maybe', 'raise', 'decision', 'press', 'log', 'background', 'mostly', 'everytime', 'opinion', 'prefer', 'mob', 'avg', 'kharab', '680', 'na', 'alot', 'remain', 'head', 'fhd', 'shoot', 'maximum', 'bank', 'near', 'regard', 'hence', 'flagship', 'outstanding', 'annoy', '10000', 'hrs', 'brilliant', 'bhai', 'accha', '10prime', 'dis', 'flipkart', 'similar', 'guard', '8mp', 'struggle', 'carry', 'lens', 'recorder', 'key', 'stay', 'freeze', 'ring', 'fall', 'personal', 'osamm', 'ahead', 'seriously', 'dial', 'sab', 'protector', 'nahin', '5mp', 'wastage', 'sahi', 'description', 'content', '13k', 'g80', 'later', 'matter', 'apply', 'percent', 'lite', 'understand', 'packaging', 'shot', 'true', 'morning', 'office', 'noise', '8gb', 'away', 'stylish', 'suck', 'fail', 'feedback', 'loss', 'access', 'sad', 'ghatiya', 'nic', 'terrible', 'bhut', 'verry', '50a', 'protection', 'area', 'hardly', 'continuous', 'setup', 'tag', 'usual', '5battery', '2nd', 'error', 'amazone', 'previously', 'micro', 'whenever', 'ready', 'satisfaction', 'zero', 'jyada', 'compass', 'fabulous', 'balance', 'discharge', 'multi', 'aap', 'worest', 'bcz', 'bilkul', 'listen', 'create', 'yesterday', 'adaptor', 'minor', 'angle', 'promise', 'plan', 'fps', 'lightweight', 'sharp', 'bulky', 'scroll', 'along', 'detect', 'slider', 'upset', 'match', 'outside', 'dear', 'nokia', 'observe', 'continuously', 'karne', 'descent', 'bettry', '2days', 'rha', 'awsome', 'student', 'mobil', '9000', 'shopping', '33w', 'effect', 'approx', 'share', 'material', 'decide', '1080p', 'pricing', 'reduce', 'cut', 'either', 'outdoor', 'fair', 'location', 'sufficient', 'personally', 'visible', 'wont', 'fake', 'player', 'impressed', 'multitasking', '1000', 'thousand', 'touchscreen', 'gya', 'achha', 'diya', 'baki', 'din', 'board', 'trouble', 'cemera', 'cemra', 'packing', 'kid', 'selfi', 'install', 'saw', 'thin', 'indoor', 'whether', 'microphone', 'surprise', 'priority', 'thats', 'occur', 'factory', 'word', 'dolby', 'boy', 'edit', 'website', 'cancel', 'allow', 'solid', 'disadvantage', 'select', 'blow', 'baad', 'pad', 'attend', 'facebook', 'm31', 'bill', 'dedicate', 'guess', 'seal', '120', 'red', 'frame', '20k', 'beast', 'scan', 'regularly', 'acceptable', 'alert', 'technology', 'recieved', 'brought', 'glitch', 'expensive', 'earn', 'slight', 'nicely', 'ignore', 'recently', 'motion', 'page', 'somewhat', 'necessary', '5000mah', 'several', 'surely', 'contain', 'march', 'delete', 'bar', 'dnt', 'keypad', '15000', 'vedio', 'category', 'reply', 'temperature', 'fraud', 'credit', 'disgust', 'via', 'processer', 'jata', 'forget', 'emi', 'nearly', 'refurbish', '12500', 'book', 'site', 'brother', 'achcha', '14k', '695', 'activity', 'compact', '60hz', 'uninstalled', 'soft', 'superfast', 'chipset', 'browse', 'report', 'output', 'nit', 'mainly', 'local', 'literally', 'opt', 'bcoz', 'hell', 'crap', 'middle', 'wife', 'payment', 'fir', 'remote', 'wast', 'bye', 'gaya', 'thoda', 'sir', 'motherboard', 'smartphones', 'account', 'xiomi', 'g35', 'sexy', 'accurate', 'style', 'operating', 'luck', 'form', 'selfies', 'inbuilt', 'sturdy', 'shock', 'costly', 'performs', 'kabhi', 'ordinary', 'honor', 'doesnt', 'live', 'produce', 'theme', 'sensitivity', 'grip', 'toh', 'unfortunately', 'iska', 'camer', 'god', 'liya', 'double', 'deny', '2gb', 'sabse', 'indian', 'copy', 'rounder', 'everyday', 'fire', 'outdated', 'worthless', 'thak', 'anywhere', 'force', 'flicker', 'orange', 'inspection', 'chat', 'filter', 'attach', 'effective', 'consumption', 'paper', 'additional', 'impress', 'fluid', 'tech', 'crisp', 'honestly', 'coz', 'damn', 'beat', '17k', 'executive', 'basis', 'inform', 'blink', 'specific', 'mein', 'hain', 'lasting', 'clearity', 'sense', 'reception', 'varient', 'tried', 'ringtone', 'cemara', 'trash', 'krta', 'used', 'active', 'control', 'tool', 'insta', 'vary', 'basically', 'redme', 'minimum', 'okk', 'couple', 'gyro', 'worry', 'age', '15w', 'stable', 'gallery', 'functionality', 'mirror', 'gorilla', 'dimensity', 'ease', 'edge', 'bite', 'natural', 'perfomance', '16k', 'corner', 'tap', 'world', 'apple', 'pure', '5camera', 'secondary', 'invest', 'justify', 'initially', 'classy', 'green', 'depend', '25000', 'remember', 'mute', 'lots', 'stream', 'release', '15days', 'careful', 'room', 'karna', 'rahi', 'surf', 'self', 'agar', 'frustrate', 'ejector', 'chal', 'mera', 'mujhe', 'sorry', 'situation', '10s', 'sensitive', 'five', 'positive', 'position', 'malfunction', 'uninstall', 'bahot', '500', 'badhiya', 'chalta', 'm12', '4th', 'october', 'unbox', 'stutter', 'pattern', '900', 'none', 'bloatwares', 'safe', '30fps', 'gon', 'inch', '6nm', 'business', '3gb', 'facing', 'general', 'impression', 'direct', 'transfer', 'current', 'professional', 'animation', 'headache', 'genuine', 'unique', 'common', 'stuff', 'answer', 'frequent', 'interested', '11k', 'bend', 'wala', 'kiya', 'swipe', 'confuse', 'usually', 'midrange', 'sister', 'unexpected', '2000', 'song', '999', 'specs', 'normally', 'thanku', 'tooo', 'quantity', 'fastly', 'fon', 'sky', 'thankyou', 'joke', 'unwanted', 'blurry', 'hua', '13mp', '10w', 'insurance', 'note11', 'wan', 'agent', 'feb', 'disable', 'buggy', 'tray', 'loudspeaker', 'fell', 'throw', 'anymore', 'transparent', 'competitor', 'truly', 'badly', 'upload', 'hdr', 'carrier', 'loose', 'casual', 'wire', 'reliable', '60fps', 'moreover', 'specifically', 'suffer', 'disappear', 'utterly', 'penny', 'unit', 'birthday', 'pickup', 'gps', 'kya', 'alternative', 'manufacture', 'draw', 'jaisa', 'physical', 'chahiye', 'lekin', 'bhot', 'lil', 'tak', 'ghost', 'describe', 'jati', 'downgrade', 'efficient', 'theek', 'serious', 'got', 'information', 'motorola', '5performance', 'navigation', 'smoothness', 'consumer', 'beware', 'm21', 'oct', 'durable', 'equal', 'law', 'invoice', 'study', 'goodbut', 'cashback', 'festival', 'activ', 'whereas', 'vooc', 'suppose', 'detection', 'bloat', 'surprisingly', 'lighting', 'party', 'triple', 'advertisement', 'chrome', 'icon', 'optimise', 'prblm', 'research', '5overall', 'audible', 'samoled', 'follow', 'chip', 'initial', 'recharge', 'inr', 'backside', 'imagine', 'humble', 'chance', 'advantage', 'directly', 'scam', 'neither', 'correct', 'blindly', 'buyer', 'warm', 'register', 'example', 'alexa', 'arrive', '1month', 'firstly', 'attempt', 'sudden', 'jaldi', 'section', 'failure', 'refuse', 'icici', 'sec', 'reality', 'recognise', 'garbage', 'dissatisfy', 'longer', 'highlight', 'stuck', 'crack', 'serve', 'department', 'hello', 'gooddisplay', 'kaam', 'fun', 'battary', 'slowness', 'gadget', 'unhappy', 'vasool', 'elderly', 'keyboard', 'suit', 'somehow', 'junk', 'jan', 'mail', 'capable', 'minimal', 'imei', 'among', 'flaw', 'knox', 'okayish', 'manager', 'bottom', 'standby', 'eis', 'gesture', 'decrease', '5mm', '4500mah', 'supervooc', 'caller', 'external', 'wireless', 'dream', 'mono', 'downside', '5th', 'optimization', 'mine', '5display', 'pros', 'hardcore', 'fact', 'email', 'question', 'submit', 'elder', 'tone', 'moment', 'state', 'duty', 'deserve', 'shame', 'tube', 'status', 'grt', 'quiet', 'coverage', 'strongly', 'isme', 'logo', 'actual', 'isse', 'mediocre', 'affect', 'anyway', 'sample', 'phonecamera', '6th', 'aware', 'isko', 'temper', 'action', 'batery', 'abhi', 'itna', 'dot', 'chala', 'rhi', 'sony', 'functioning', 'worrest', 'mobail', 'diwali', 'ship', 'durability', 'obviously', 'hung', 'thickness', 'consume', 'hassle', 'hone', 'house', 'massive', 'november', 'together', 'particular', 'sluggish', 'advise', 'mere', 'm30s', 'shape', 'msg', 'bother', 'apne', 'grainy', '14000', 'ufs', 'cod', 'offering', 'netflix', 'conclusion', 'catch', '3000', 'extend', 'portrait', 'core', 'pros1', 'sims', 'cameras', 'aggregation', '800', 'senser', 'rahe', 'april', 'spare', 'june', 'irritating', 'installation', 'act', 'fault', 'upper', 'surface', 'insert', 'spending', 'currently', 'rectify', 'protect', 'verdict', 'playing', 'code', 'offline', 'recommended', 'anytime', 'electronics', 'forever', 'whatever', 'tight', 'naam', 'maine', 'address', 'history', 'degrade', '3hrs', 'dekh', 'opening', 'loaded', 'false', 'pop', 'yeh', 'prise', 'extraordinary', 'dailer', 'prodect', 'hona', 'adequate', 'laga', 'pura', 'child', 'iske', 'anybody', 'goood', 'dim', 'becomes', 'fill', 'waist', 'broken', '10days', 'hitting', 'login', 'hisab', 'son', 'badiya', 'blurr', 'okey', 'mony', 'final', '8000', 'preference', 'absolute', 'worse', 'didnt', 'probably', 'drive', 'ten', 'portal', 'duplicate', 'arrange', 'compete', 'supply', 'karke', '11000', 'khrab', 'bohot', 'repeat', '13000', 'disaster', 'usable', 'dam', '5ghz', 'weird', '48mp', 'shake', 'six', 'allrounder', 'fingure', 'g88', 'frm', 'merge', 'comparatively', 'grey', 'manage', 'preety', 'step', 'throughout', 'extent', '16mp', 'health', 'prompt', '10battery', '10camera', 'm51', 'browsing', 'warn', 'lookwise', 'outdoors', 'spot', 'unless', 'depth', 'overprice', 'silent', 'monster', 'lie', 'hype', 'kinda', 'manually', 'stupid', 'helpful', 'saver', 'peace', 'proximity', 'prove', 'summer', 'permission', 'kill', 'entire', 'shut', 'mobiles', 'lol', 'map', 'karte', 'menu', 'yaar', 'mene', 'wasool', 'realmi', 'elegant', 'replaced', 'beyond', 'spent', 'sort', 'limit', 'benefit', 'separate', 'nowadays', 'upon', 'ratio', 'sirf', 'problm', 'garam', 'wallpaper', 'visited', '7000', 'manual', 'king', 'shall', '4500', 'vibration', 'die', 'iss', 'phonebut', 'boot', 'totaly', 'chalti', 'baat', 'heng', 'okok', 'amezon', 'strange', 'ip', 'optimize', 'shift', 'atmos', 'instant', 'demand', 'realy', 'dec', 'daughter', 'manner', 'responsible', 'rough', '12mp', 'nov', 'manufacturing', 'push', 'certain', 'vry', 'dispaly', 'struck', 'grand', 'purchasing', 'ppl', 'excite', '8500', 'supar', 'film', 'g85', 'generation', 'yellowish', 'baar', 'aata', 'course', 'barely', 'goodoverall', 'jada', 'travel', 'beginner', 'acko', '3days', 'resistance', 'gray', 'thick', 'banking', '16999', 'membership', 'ois', 'recommendation', 'infinix', 'charm', 'tempered', 'shit', 'sit', 'besides', 'yeah', 'punchy', 'aperture', 'safety', 'nfc', 'impact', 'learn', 'otg', 'marketing', '22k', 'gorgeous', 'sm', 'hat', 'gr8', 'contrast', 'entertainment', 'agree', 'good3', 'showing', 'faith', 'bahamas', 'practical', 'coupon', 'applicable', 'sooo', 'confirm', 'pain', 'figure', 'advice', 'recognize', 'grade', 'everywhere', 'upcoming', 'engineer', 'bike', 'enable', 'snappy', 'steal', 'enter', 'comfort', 'tab', 'privacy', 'unlike', 'provider', 'custom', 'thumb', 'feed', 'problematic', 'trustworthy', 'combination', 'importantly', 'tho', 'browser', 'fairly', 'butter', 'leg', 'char', 'blast', 'appearance', '3hr', 'cellphone', 'dabba', 'radio', 'flashlight', 'electronic', 'exist', 'exllent', 'shutdown', 'mila', 'dirty', 'unlocking', 'encounter', 'thodi', 'favorite', 'exact', 'recent', 'everybody', 'dslr', 'quility', 'likely', 'unbelievable', 'lelo', 'goog', 'hesitation', 'toch', 'bekaar', 'limited', 'sakte', 'september', 'activate', 'twitter', 'disturb', 'upgraded', 'sum', 'otp', '499', 'mike', 'randomly', 'crush', 'whats', 'hide', 'compatible', 'wear', 'goodgood', '7days', 'bakwaas', 'appreciate', 'platform', 'prosser', 'schedule', 'goodperformance', 'reading', 'jaye', '11500', 'built', 'busy', 'rare', 'goodand', 'acchi', 'hoga', 'young', 'badi', 'blowing', 'krne', 'sencer', 'manufacturer', 'factor', 'cons1', 'installed', 'score', 'block', 'cheep', 'hoti', 'pyara', 'ota', 'goodfingerprint', 'ideal', 'strike', 'ghz', 'watching', 'alarm', 'pata', 'liquid', 'oneui', 'phoneit', 'maintain', 'patch', 'amazingly', 'soc', 'reject', 'sar', 'floor', 'rat', 'inbox', 'proof', '1hr', 'left', 'efficiency', 'optimised', 'receiver', 'inferior', 'yellow', 'cherry', 'seamless', 'taking', '700', 'settle', 'stabilization', 'producti', 'dimension', 'forward', 'hop', 'group', 'reno', 'plug', '24k', 'interest', 'bettary', 'explain', 'sleep', 'guide', 'indeed', 'slide', 'news', 'inspect', 'lifecamera', 'city', 'boost', 'notify', 'profit', '30mins', 'afford', 'photos', 'barbaad', 'blunder', 'duration', 'hopefully', 'loop', 'burn', 'hole', 'constantly', 'entry', 'screenshot', 'owner', 'operator', 'goodlook', 'awasome', 'superior', 'mood', 'random', 'niche', 'dekho', 'routine', 'becoz', 'certainly', 'jab', 'sbi', 'kro', 'exactly', 'clone', 'qulity', 'quilty', 'gpay', 'phonei', 'phonebattery', 'awsm', 'unresponsive', 'goodcharging', 'bat', 'avrage', 'thi', 'round', 'sakta', '1day', 'walo', 'aaya', 'kuchh', 'selection', 'season', 'mobilei', 'ba', 'across', 'buttery', 'exlent', 'duper', 'rich', 'lower', 'grain', 'resmi', 'bay', 'format', 'outgo', 'barbad', 'flipcart', 'link', 'usefull', 'emergency', 'opportunity', 'grab', 'fancy', 'airtel', 'seamlessly', 'irritation', 'satisfying', 'packet', 'm30', 'various', 'pause', 'realise', 'trap', 'cheapest', 'empty', 'july', 'purchased', 'plzz', 'dissatisfied', 'covid', 'thnks', 'sun', 'needful', 'education', 'goodi', 'font', 'behaviour', 'valu', 'ache', 'ott', 'updated', 'senior', 'galti', 'returnable', 'mil', 'wale', 'lastly', 'kisi', 'behave', 'parameter', 'deta', 'unlocks', 'alone', 'cash', 'megapixels', 'reel', 'december', '6000mh', 'tough', 'mount', 'respect', '10499', 'valid', 'iski', 'percentage', 'sake', 'weigh', 'asus', 'dummy', 'dumb', 'gimmick', '4000mah', 'performence', 'somebody', 'candy', 'achi', '665', 'lenovo', 'width', 'shade', 'assure', 'anyways', 'attract', 'gmail', 'behind', 'conference', 'man', 'unusable', 'strictly', 'identify', 'emmc', 'gcam', '25w', 'accidental', 'beep', 'wit', 'lightning', 'cellular', '12499', 'coloros', 'official', '18k', 'master', '9pro', 'sot', 'transaction', 'expansion', 'bump', 'glossy', 'thay', 'guarantee', 'improved', 'boast', 'octa', 'secure', 'ambient', 'sweet', 'microsd', 'field', 'saturation', '5fingerprint', 'silicon', 'thankful', 'lte', 'yr', 'punch', 'fond', 'competitive', 'lighter', 'lagta', 'absent', 'vibrate', 'camera2', 'good4', 'mins', 'loving', 'adjustment', 'recieve', 'breaking', 'ridiculous', 'glad', 'heart', 'somewhere', 'driver', 'mix', 'delicate', 'remind', 'meeting', 'judge', 'wil', 'sticker', 'dent', 'verification', 'wasted', 'toooo', '18000', 'snap', 'balanced', '16000', 'ver', '2hrs', 'secondly', 'vey', 'disappoints', 'inhand', 'paint', 'hurt', 'mild', '2months', 'asap', 'advance', 'comparable', 'kare', 'lucky', 'weast', 'rise', 'courier', 'jst', 'dry', 'newly', 'shortcut', 'vibrant', 'flip', 'partner', 'dust', 'flawless', 'mess', 'manageable', 'stucked', 'allover', 'krke', 'lense', 'krna', 'phle', 'dono', 'aacha', 'unsatisfied', 'ensure', 'realize', 'flickering', 'ban', 'aisa', 'ise', 'span', 'loved', 'indoors', 'ultimate', 'goodit', 'nai', '3months', 'streaming', 'textured', 'mst', 'mint', 'clearty', 'cheer', 'relate', 'goodfinger', 'investment', 'confusion', 'accuracy', 'dispointed', 'defected', 'mobaile', 'supper', 'clock', 'utter', 'cuz', 'hey', 'reference', 'physically', 'object', 'paste', 'pub', 'ruin', 'begin', 'withstand', 'continuesly', 'hotstar', 'touchpad', 'phone1', 'attention', 'aslo', 'lockdown', 'gamming', 'tuff', 'sellar', 'appointment', 'warrenty', 'expire', 'cameragood', 'password', 'communication', 'required', 'folder', 'micromax', 'sarvice', 'opp', 'faltu', 'convenient', 'citizen', 'tune', 'loot', 'nam', 'cast', 'diplay', 'itam', 'specify', 'excelent', 'shi', 'pasand', 'stucks', 'recd', 'deduct', 'separately', 'waisa', 'unnecessary', 'buffer', 'dailing', 'problam', 'gameplay', 'carefully', 'production', 'capability', 'awful', 'trusted', 'promotion', 'straight', 'canera', 'sharpness', 'typical', 'occupy', 'risk', 'm20', 'info', 'food', 'adorable', 'rude', 'generally', 'disturbance', 'krte', 'stun', 'thinking', 'adjust', '1500', 'achhi', 'delivered', 'orient', 'wali', 'closing', 'receiving', 'zenfone', 'idle', 'milta', '200', 'channel', 'bifrost', 'bass', 'isnt', 'nicebattery', 'whose', 'rainbow', 'looks', 'collect', 'lub', 'nobody', 'kafi', 'rhe', 'liked', 'rotation', 'indicator', '8999', 'trick', 'generate', 'carbon', 'idea', 'root', 'reputation', 'virtual', 'odd', 'wake', 'sadly', 'navigate', 'dissapointed', 'title', 'purana', 'occasionally', '1gb', 'binge', 'kiye', 'note11lub', 'centric', 'exynos', 'hdfc', 'dat', 'hav', 'originality', 'finishing', '40min', 'instantly', 'oxygenos', 'afterwards', 'expandable', 'exp', '30min', 'exclude', 'conclude', 'obvious', 'brake', 'document', 'customization', 'counter', 'ranger', 'jitter', 'battey', 'overnight', 'longevity', 'camera3', 'polite', 'updation', 'wrap', 'promote', 'shiny', 'performer', 'nano', 'haptic', 'steel', 'ample', '7th', '10display', 'photographer', '5build', 'reverse', 'wat', 'skeptical', 'earpiece', 'edition', '8hrs', '19k', 'excellentcamera', 'input', 'structure', 'locate', 'pressure', 'statement', 'sacrifice', 'launcher', 'extreme', '15th', 'criterion', 'oled', 'eventhough', 'haptics', '10x', '5no', 'osam', 'silver', '24000', 'insist', 'frequency', 'famous', 'torch', 'averagedisplay', 'rate2', 'dint', 'trip', 'branding', 'classic', 'duel', 'segement', 'excuse', 'doest', 'incase', 'frustrating', '1hour', 'phir', 'girl', 'burst', 'rarely', 'camere', 'announce', 'detailed', 'effectively', 'relative', 'mrp', 'fluctuate', 'sub', 'sare', '25th', 'overal', 'paytm', 'problemcamera', 'oly', 'pass', '32mp', 'batary', '8th', '10overall', 'circle', 'buck', '9th', 'uske', 'supportive', 'upar', 'bata', 'm52', 'moth', 'enhance', 'padta', 'massage', 'following', '17000', 'modal', 'kbhi', 'hii', 'exception', 'fulfil', 'zabardast', 'phonevery', 'ofcourse', 'swear', 'performace', 'experiance', 'fusion', 'baught', 'retailer', 'powerfull', 'ita', 'performing', '24hrs', 'qwality', 'strucking', 'car', 'smoother', 'angry', 'okbattery', 'cameraoverall', 'reasonably', 'draining', 'vera', 'dum', 'dil', 'marvelous', 'avail', 'unboxing', '6months', 'announcement', 'character', 'bada', 'bolte', 'fed', 'heavily', 'phonebest', 'bracket', 'bangalore', 'nearby', 'blame', 'approach', 'bajaj', 'expert', 'credibility', 'spoil', 'terribly', 'prob', 'happens', 'screen2', 'nightmare', 'poorly', 'court', 'unnecessarily', 'desire', 'upi', 'crappy', 'inspite', 'convince', 'stucking', 'repute', 'favourite', 'urgent', 'letter', 'timely', 'nehi', 'procedure', 'goto', 'youngster', 'restarts', 'ruk', 'bol', 'staff', 'equivalent', 'gayi', 'pas', 'complicate', 'batry', 'hangup', 'lit', 'naya', 'bast', 'length', 'goodback', 'campare', 'web', 'iike', 'delevery', 'havey', 'exellent', 'witness', 'making', 'express', 'flat', 'dosto', 'overlap', 'velu', '15999', 'wowjust', 'walk', 'aprox', 'tpu', 'slip', 'minus', 'nominal', 'appreciable', 'kavi', 'fat', 'youth', '720p', 'noisy', 'lesser', 'jaise', 'yrr', 'surprised', '2017', 'ultrawide', 'lifeaverage', '50megapixel', 'behavior', 'vidio', '9999', 'kharb', '10500', 'snapchat', 'era', '2hr', 'eco', 'cheating', 'sath', 'missing', 'bhaut', 'tuch', 'headphones', 'soch', 'tire', 'symbol', 'infrared', 'gaurd', 'rang', 'evening', 'strength', 'mtlb', '4000', 'potrait', 'cpu', 'initiate', 'appeal', 'noticeable', 'antutu', 'hve', '2010', 'irrespective', 'sabhi', 'simultaneously', 'reliability', 'meter', 'unsatisfactory', 'ordered', 'mini', 'eligible', 'dena', 'amazonvery', 'amzon', 'cake', 'qualify', 'bina', 'useage', 'property', 'fornt', 'industry', 'okkk', 'damege', 'kharidna', 'bro', 'disply', 'productcamera', 'correctly', 'ugly', 'volte', 'ware', 'censor', 'pricebattery', 'paas', 'heated', '020mah', '7500', 'eventually', 'bear', 'unboxed', '4ghz', 'abd', 'representative', 'irritated', 'extensive', '27th', 'sporty', 'quad', 'strain', 'conscious', 'magnetic', '5min', 'engine', 'folk', '2015', 'itne', '2day', 'cry', '1080', 'adopter', 'unexpectedly', 'hangging', 'purple', 'donot', 'float', 'ti', 'altogether', 'hume', 'checkout', 'louder', 'karni', 'observation', '33watt', 'ton', 'bud', '11s', 'exceptional', 'artificial', 'wen', 'dialler', 'tour', 'leke', 'goodprocessor', 'flop', 'uncle', '13500', 'mpx', '14999', '30k', '25watt', 'g95', 'lowbattery', 'neglect', 'tether', 'preinstalled', 'survive', 'exposure', 'chin', 'competition', 'stability', 'develop', 'curve', 'unusual', 'hdr10', 'bonus', 'youtubers', 'thus', 'qualitynot', 'concerned', 'breaker', 'ossom', 'instruction', 'label', 'forum', 'proud', 'accesories', 'backcase', 'reviewer', 'piss', 'meanwhile', '30w', 'slow4', 'support6', '10speaker', 'hurry', '2016', 'texting', 'bomb', 'lady', 'constant', 'immediate', 'claimed', 'crystal', 'fourth', 'deteriorate', 'assemble', 'dedicated', '20th', 'authorised', 'sreen', '2018', 'table', 'foot', 'goodsound', 'goodno', 'fruitful', 'photograph', 'fastcamera', '24999', 'delhi', 'fear', 'mentioned', 'beauty', 'subjective', 'whatsup', 'tooth', 'crop', '20x', 'familiar', 'associate', 'clarify', 'albeit', 'inthis', 'thems', 'miracle', 's20', '15mins', 'happening', 'simcard', 'charging3', 'ldac', 'thru', 'robust', 'proccessor', 'refer', 'messaging', 'performancegood', 'skin', 'enthusiastic', '5screen', '5front', 'hidden', 'embarrass', 'm31s', 'needs', 'minimise', 'proceed', 'disconnected', 'progress', 'goodfast', '1100', 'module', 'genuinely', 'screen3', 'quality5', 'funtouch', 'badcamera', 'greatcamera', 'freak', 'widget', 'bcs', 'achieve', 'f11', 'hazy', 'hight', 'kudos', 'inbuild', 'radiation', 'challenge', 'onward', 'hanged', '1plus', 'perhaps', 'analysis', 'warning', 'planning', 'ohone', 'provision', 'introduce', 'repent', 'backcover', 'qualityphone', 'fastfingerprint', '65watt', 'recode', 'saaf', 'usmein', 'screenguard', 'havent', 'door', 'qaulity', 'reflection', 'galley', '45min', 'dusra', 'selling', 'ball', 'enthusiast', '10charging', 'goodonly', 'starting', 'pdf', 'mach', 'jayada', 'passionate', 'performance2', 'bus', '30days', 'batt', 'eat', 'waight', 'bettercamera', 'arround', 'comparing', 'bang', 'galat', 'dete', 'leta', 'khaas', 'holder', 'camare', 'owsome', 'vasul', 'khelta', 'hun', 'ness', 'subject', 'goodphone', 'cart', 'addict', 'processor2', 'approximately', 'rocket', 'qualitybattery', 'socket', 'timebattery', 'huye', 'hanking', 'ghante', 'jate', 'jyda', 'gayab', 'rec', 'aswom', '15min', 'bikul', 'incredible', 'mixed', 'facelock', 'phonenice', 'assurance', 'understanding', 'qality', 'asphalt', 'drainage', 'opposite', 'amd', 'magnet', 'desplay', 'race', 'frant', 'to100', 'canara', 'dispoint', 'toy', 'recieving', 'prefect', 'goodall', 'der', 'maza', 'bleed', 'rupees', 'strucked', 'lightly', 'truely', 'raddi', 'suport', 'excessive', '20000', 'nive', '1week', 'mobilevery', 'dependent', 'coustomer', 'arrival', 'sbse', 'parformance', 'rapidly', 'beter', 'problum', 'hank', 'no1', 'goo', 'stunning', 'finance', 'sync', 'btw', 'expand', 'wet', 'mar', 'boat', '1200', 'reconnect', 'fastbattery', '5design', '3500', 'disgusting', 'aapko', 'demerit', 'related', 'brick', 'vfm', 'delight', 'pleasure', 'heard', 'tension', 'treat', 'chase', 'gain', 'slower', 'oppoa31', 'stretch', 'trading', 'significant', 'stress', 'equip', 'article', 'booklet', 'van', 'tablet', 'wall', 'goodscreen', 'seek', 'exterior', 'wight', 'addition', 'described', 'bubble', 'goodnot', 'hesitate', '2014', 'station', 'visibility', '32gb', 'hearing', 'friends', 'fantasy', '990', 'purchse', '11990', 'ony', 'wrist', '14th', 'earphones', 'amzone', 'matlab', 'khush', 'darkness', 'phonegood', 'wost', 'school', 'gye', 'essential', 'commitment', 'guilty', 'preview', 'baby', 'unclear', '2019', 'heavyweight', 'hoon', 'rubbish', 'supreme', 'pta', 'recommendable', 'checking', 'digital', 'arise', 'butcamera', 'exelent', 'corrupt', 'nly', 'remaing', 'tarah', 'muje', 'gst', 'recive', 'swift', 'noce', 'hanset', 'gold', 'worthful', 'husband', 'nat', 'tach', 'thise', 'bogus', 'hange', 'kharid', 'amezing', 'tik', 'vest', 'seven', 'august', '999realme', 'layer', '500rs', 'mobileno', 'miner', 'clue', 'pahle', 'productnice', 'distribute', 'adb', 'typing', 'dusri', 'likha', 'disruption', 'cycle', 'availability', 'cheated', 'greatly', 'battle', 'noice', 'shuts', 'ground', 'recovery', 'occupied', 'republic', 'fluctuation', 'skte', 'averageprocessor', '4hours', 'dekhte', 'huaa', 'fhone', 'individual', 'tow', 'productthank', 'bakvas', 'ganda', 'everthing', 'halka', 'kami', 'chose', 'nevertheless', 'varry', 'blinking', 'advertise', 'gaming3', 'improper', '5days', 'codm', 'darshita', 'uncomfortable', 'batterygood', 'summary', 'good6', 'quality2', 'cheater', '9500', 'sturdiness', '10999', 'wisely', 'wash', 'sincere', 'joy', '50mega', 'usse', 'bura', 'kahi', 'atssa', 'unlocked', 'explore', 'tuesday', 'indicate', 'daytime', 'overpriced', 'vibe', 'qualcomm', 'use1', '5hours', 'combo', 'life2', 'handel', 'nvr', 'extension', 'shandar', 'prodct', 'helpless', 'goodaverage', 'cameraworst', 'january', 'sms', 'instance', 'switching', 'fade', 'ekdam', 'dekhne', 'okdisplay', 'packed', 'hertz', 'khelne', 'cammera', 'gatiya', 'profile', 'kaise', 'motionless', 'popular', 'tym', 'bunch', 'replacment', 'gor', '12999', 'dosent', 'hote', 'hue', 'biometric', 'connector', 'complement', 'economical', 'tan', 'text', 'kachra', 'bhul', 'responsibility', 'lete', 'dikha', 'land', 'epic', 'jai', 'ayega', '24th', 'produt', 'haicamera', 'ata', 'bgim', 'border', 'displaybattery', 'oder', 'continously', '1mp', 'tick', 'aya', 'killer', 'tasking', 'inke', 'gram', 'spectacular', 'bet', 'visual', 'stage', '5finger', 'scope', 'coral', 'wanted', 'thankfully', '3ghz', 'nikal', 'issuesbattery', 'annoying', 'fight', 'aug', 'sector', 'rotate', 'bundle', 'majority', 'untill', 'autofocus', 'xaiomi', 'excitement', 'count', 'veryyy', 'frustrated', 'elsewhere', 'accidentally', 'grant', 'discussion', 'bandwidth', 'unfortunate', 'whatsoever', 'hyper', 'goodbudget', '3mp', 'display2', 'country', '4days', 'ultimately', 'insanely', 'persist', 'viewing', 'ice', 'costumer', 'kuda', 'insane', 'poorbattery', 'brighter', 'shadow', 'g90', 'okcamera', 'milove', 'camerai', 'agood', 'beside', 'shaky', 'advanced', 'bana', 'chine', 'fee', 'peice', 'desk', 'okbut', 'veri', 'doesnot', 'adepter', 'baikar', 'fulfill', '5look', '5for', '5face', 'automaticaly', 'metro', 'tip', 'splash', 'bare', 'sbc', 'vlog', 'idk', 'square', 'bulid', 'responsiveness', 'apko', 'stardust', 'g40', 'boxy', 'laggs', 'gaye', 'ther', '20mp', 'matt', 'predecessor', 'proble', 'chaging', 'running', 'turbo', 'slo', 'printer', 'usages', 'alright', '25gb', 'mtk', 'nail', 'plenty', '15watt', '24hr', 'tortoise', 'justice', 'chynese', 'ability', 'cameragreat', 'particularly', 'dosen', 'cooling', 'genshin', '18watt', 'onepluscamera', 'modeli', 'cardbattery', 'fastvery', 'pasted', 'recommendjust', 'warp', 'thanx', 'fab', 'unofficial', 'unsure', 'disabled', 'rubber', 'degree', 'bezel', 'plain', 'estimate', 'decently', 'scannercamera', 'omnivison', 'attached', 'dts', 'aesthetic', 'metal', 'vowifi', 'earbuds', 'corn', 'consideration', 'niether', 'consistent', 'batteryfast', 'phe', 'worthable', 'wonderfully', 'certify', 'smarter', 'environment', 'intelligent', 'geek', 'goodcons', 'only3', 'best4', 'speaker7', 'dac', 'chord', 'developer', 'alignment', 'accommodate', 'grow', 'smoothen', 'maintainedis', 'attractive2', 'support3', 'brigthness5', 'soothing', 'usagecons', 'bracket2', 'loud3', 'lpddr4x', 'ratring', 'provided5', 'cheaprating', '10network', '10value', '5user', '5connectivity', 'forgot', 'severely', 'pixelate', '5cons', 'loud4', 'suggestible', 'apps3', 'exit', 'erratic', 'lodge', 'pluse', 'motor', 'midranger', 'sail', 'method', 'noida', 'critic', 'bech', '25days', 'relieve', 'ringer', 'older', 'broke', 'shell', 'onei', 'ves1', 'saturate', 'prosgood', 'scatter', 'nords', 'exclusive', '30000', 'happily', 'legit', 'rangethe', 'interrupt', 'req', 'roam', 'blah', 'retain', 'nova', 'hectic', 'looks2', 'spotify', 'invisible', '1080p60', 'rugged', 'goodtouch', 'qualityno', 'zen', 'codec', 'angel', 'insufficient', 'excel', 'inam', 'outlet', 'whitish', 'good2', 'weight3', 'a52s', 'outcome', 'dynamic', '10a', 'minspect', 'geniune', '5phone', 'beacuse', 'featured', 'constraint', 'slick', 'displaycons', 'collage', 'updating', 'stead', 'spite', 'harass', 'lucrative', 'bless', 'swap', 'homescreen', 'lift', 'inconvenient', 'tbh', 'apparently', 'misplace', 'boatload', '10screen', '13th', 'smooth4', '23k', 'offcourse', 'becz', '10th', 'phonedisplay', 'sterio', 'ignorable', 'utilisation', 'morethan', 'excellentbattery', 'impossible', 'tata', 'catching', 'attracts', 'shine', 'lyk', 'wid', 'bty', 'guys', 'prior', 'moneyif', 'buddy', 'shout', 'maker', 'bbk', '4500mh', 'severe', 'club', 'photoshoot', 'revert', 'blutooth', 'aluminium', 'iron', 'explode', 'slighty', '2ce', 'finely', 'defactive', 'calender', 'usp', '30th', 'sea', '10mins', 'camper', 'disatisfied', 'shortcoming', 'isliye', 'eith', 'sand', 'biased', 'meant', 'thnx', 'iii', 'clearance', 'cancellation', 'phoneprocessor', 'tower', 'io', 'found', 'sence', 'instalment', 'tripod', 'awesomecamera', 'blaze', 'bag', 'maal', 'mms', 'loudly', 'terrific', 'reflect', 'moblie', 'woh', 'baap', 'listening', '10front', 'fare', 'wired', 'appropriate', 'colleague', 'february', 'definately', 'buygo', 'spl', 'goodvery', 'therebattery', 'prone', 'indisplay', 'hopeless', 'v17', 'poor3', 'nexon', 'compaire', 'greati', 'onplus', 'poop', 'knowledge', 'pubj', '30am', '10processor', 'pricebut', 'import', 'precious', 'justified', 'betterspeaker', 'awesomedisplay', 'weightcons', 'bade', 'uska', 'm33', 'poordon', 'cameraquality', 'verygood', 'outlook', 'confused', '1days', 'incomplete', 'aayi', 'apk', '20min', 'tabhi', 'apr', 'heating3', 'worm', 'ausum', 'charging2', 'omit', 'authorise', 'co', 'query', 'whosoever', 'maintenance', 'wrt', 'baare', 'luxury', 'a30', 'ful', 'chargingcons', 'chargingdecent', 'pakage', 'goodwaste', 'traditional', 'mujhse', 'gir', 'eska', 'haii', 'art', 'chlti', 'jana', '5sound', 'fullfill', 'displayand', 'ish', 'wapas', 'workingphone', 'omnivision', 'performancecamera', 'parallel', 'comming', 'hiccup', 'displaynice', 'vise', 'reachable', 'showroom', 'fresh', 'cameravery', 'nightmode', '3hour', 'rebranded', 'dude', 'alternate', 'careless', 'veryy', 'naa', 'lov', 'monthi', '2160', 'releted', '15000rs', 'yah', 'vision', 'mod', 'phonemust', 'mobileis', 'dayscamera', 'dene', 'premiumness', 'bake', 'heeting', 'qualitycons', 'frount', 'dant', 'accepted', 'issu', '23000', 'worste', '7hrs', 'sceen', 'kia', 'onepuls', 'superp', 'valve', 'slimand', 'legging', 'nonsense', 'nad', 'nay', 'behalf', 'bos', 'camaera', 'betery', 'osum', 'vast', 'grate', 'pour', 'veery', 'tge', 'kaafi', 'nyccc', 'trade', 'lookinggood', 'jabardast', 'bugdet', 'a32', 'charg', 'ossm', 'setisfy', 'gudbattery', 'gameing', 'awesone', 'proceser', '21k', 'maney', 'charjer', 'ossam', 'reaction', 'weather', 'primium', 'brief', '28k', 'expected', 'nexus', 'batteryi', 'camerathe', 'plasticky', 'tired', 'crowd', 'aaa', 'aytandi', '2160p', '40k', 'jaisi', 'public', 'dega', 'bajeh', 'lia', 'usme', 'glitchy', 'rain', 'glassy', 'oky', '6days', 'note8', 'qualitycamera', 'beutiful', 'mobileand', 'ood', 'intimate', 'received', 'ander', 'ashamed', '30minutes', 'mbl', 'itin', 'join', 'weightcamera', 'perception', 'batteryoverall', 'useing', 'backupdisplay', 'unbeatable', 'tottaly', 'gadiya', 'jese', 'coat', 'speeker', 'relatively', 'bohat', 'strategy', 'thnku', 'erase', 'troublesome', 'export', 'cancelation', 'amp', 'dpi', 'abnormal', '4month', 'redirect', 'redmi6', 'thts', 'extensively', 'aswmm', 'optns', 'den', 'cmng', 'battery2', 'exclusively', 'ejecter', 'protective', 'expertise', 'foe', '4300', 'phobe', 'cache', 'p35', 'reinstall', 'qualitybad', 'lvl', 'feather', 'goodface', 'willing', 'itvery', 'scary', 'eod', 'kewal', 'bcom', 'billion', 'substandard', '3star', 'drians', 'draft', 'hundred', 'betterin', 'vale', 'goodthank', 'madam', 'didnot', 'hee', 'fringer', 'companion', 'thrice', 'ane', 'proformance', 'mobils', 'swiftness', 'hogaya', 'cliked', 'ink', 'camerabattery', '4months', 'resale', 'slag', 'coll', 'phonelook', 'scrap', 'workingcamera', 'abruptly', 'pricecamera', 'pehle', 'distress', 'swith', 'desired', '12th', '19th', 'puzzle', 'soooooo', 'musice', 'khatam', 'disine', 'supeb', 'warmth', 'illa', 'pricethanks', 'equally', 'sai', 'rehta', 'shoud', 'qualtiy', 'oppo31', 'sens', 'goid', 'wht', 'sooper', 'eak', 'perfamence', 'timethanks', 'til', 'aux', 'nicebut', 'heet', 'supr', 'ret', 'chief', 'suparb', 'chineese', 'air', 'marta', 'wery', 'verey', 'hotahe', 'demage', 'boxcamera', 'advertised', 'traffic', 'route', 'rally', 'yatra', 'rule', 'guideline', 'variety', 'illiterate', 'convert', 'optimal', 'shatter', 'glance', 'quote', '17th', 'verify', 'moneycamera', 'gai', 'compatibility', 'typically', 'dusre', 'poorplease', 'thx', 'hme', 'moneybattery', 'timing', 'freefire', 'drag', 'jayega', 'fund', 'bead', 'perch', 'hei', 'velyu', 'costume', 'recommed', 'commit', 'amzing', 'conside', 'ji', 'battery6', 'helo', 'assistant', 'satified', 'vere', 'productiongood', 'delivary', 'gorrila', 'kidu', 'evenly', 'compere', '5star', 'men', 'sealed', 'babu', 'bettrey', 'bht', 'cap', 'lene', 'notable', 'goodplease', 'weirdly', 'fulfills', 'divide', 'dailly', 'hum', 'delivers', 'authorized', 'suffice', 'crazy', 'friday', 'sharechat', 'beginning', 'sudhar', 'confirmed', 'reciver', 'productno', 'reminder', 'computer', 'started', 'averagebattery', 'glichty', 'league', 'exceed', '850rs', 'mobileall', 'tek', 'asthetic', 'hangout', 'loser', 'kabbdi', 'surfing', 'fro', 'chair', 'restore', 'eski', 'battrey', 'fast2', 'reame', 'mouse', 'singal', 'okfinger', 'splendid', 'slowthe', 'itz', 'aage', 'chargecamera', 'whistle', 'savvy', 'cnt', 'realm', 'cal', 'fayda', 'awaaz', 'goodcall', 'kre', 'config', 'greatgood', 'bent', 'trial', 'exilent', 'backupbest', 'jot', 'amazonthanks', 'samay', 'bala', 'lekar', 'ush', 'nikla', 'chuka', 'chahe', 'lga', 'karti', 'qualitywaste', 'productsmooth', 'wowww', 'inner', 'malfunctioning', 'noy', 'niceee', 'admit', 'reale', 'usage1', 'usage2', 'corporate', '50k', 'mobilenot', 'suspect', 'isi', 'phonethis', 'aswm', 'glti', 'kasa', 'jitna', 'distribution', '50mpxl', 'powerhouse', 'trend', 'feture', 'youtuber', 'phine', 'camar', 'nazar', 'disconnecting', 'fist', 'lifeexcellent', 'critique', 'goodif', 'advertising', 'thanq', 'pixal', 'ese', 'ham', 'lifegreat', '26th', 'prime10', 'neutral', 'ghatia', 'thicker', 'customizable', 'patience', 'lifetime', 'mp4', '10performance', 'seperate', 'proudect', 'rn4', '18gb', 'superbb', 'uninstalling', 'remark', 'sunday', 'times', 'raw', 'great3', 'quard', 'restrict', '4000mh', 'servise', 'issue4', 'unpack', 'effort', '48hrs', 'pixcel', 'streo', 'dhanyvad', 'sundar', 'mangal', 'kamna', 'naye', 'varsh', 'sari', 'disconnection', 'goodnetwork', 'phoneworst', 'reviewing', 'buget', 'sep', 'disagree', 'sincerely', 'clearing', 'pachta', 'evry', 'initiative', 'pasnd', 'chargingno', 'camerano', 'boring', 'toll', '10primesuperb', 'bugget', 'lacking', 'alawa', 'chalana', 'dhyan', 'butt', 'camery', 'performancei', 'purely', 'occasion', 'cameranice', 'kripya', 'ker', 'havy', 'bs', 'prosessor', 'story', 'rahata', 'blackout', '14499', 'issues2', 'rahul', 'singh', 'awesomeprocessor', 'bout', 'heaven', 'commonly', 'narmal', 'wrose', '5charging', 'pixle', 'miui12', 'variation', 'optimisation', 'qualityall', 'chutiya', 'echo', 'tatti', '50m', 'worst2', 'phonephone', 'goodvalue', 'lining', 'absence', 'purchese', 'watsapp', 'comedy', 'cousin', '4camera', 'batteryand', 'tend', 'predict', 'jayda', 'afraid', 'okkkkk', 'screan', 'moneydon', 'chage', 'sabkuch', 'warest', 'problem2', 'problem3', 'achaa', 'pouch', '10hours', 'worstbattery', 'badperformance', 'avareg', 'strucks', 'inexpensive', 'onscreen', 'lagy', 'quailty', 'blog', 'bakwash', 'lijiye', 'wakwaas', 'baten', 'mukable', 'ghanta', 'nicee', 'gzb', 'badmobile', 'khas', 'tint', 'note9', 'freezes', 'portion', 'lay', 'kahu', 'xiome', 'phoneand', 'responding', '5back', 'videography', 'normalbattery', 'tremendous', 'averagely', 'byee', 'chl', 'kamiya', 'bcm', '240p', 'tnx', '14500', 'apt', 'fack', 'amazongood', 'okaydisplay', 'awkward', 'lure', 'usedisplay', 'qualitysound', 'promising', 'featurs', 'mimi', 'potential', 'vgud', 'qualty', 'phoen', 'karo', 'qualitygood', 'verybad', 'middling', 'ace', 'sleeve', 'sink', 'offset', 'naked', 'admirable', 'humongous', 'spacious', 'diagonal', 'bleak', 'lackluster', 'fortunately', 'combined', '168', 'merely', 'permanently', '3gp', 'soldout', 'prosbattery', 'employee', '3weeks', '5speaker', 'texture', 'exaggerate', 'speakerscons', 'charge3', 'argue', 'indians', 'sensation', '512', 'demerrits', 'unethical', 'prey', 'pleasant', 'phoneyou', 'argument', 'varification', 'boss', 'bord', 'dekha', 'khuch', 'gooddesign', 'finecamera', 'chager', '10seconds', 'roughly', 'differ', 'significantly', 'indefinite', 'receiptant', 'loosen', '5000mh', 'mobilemy', 'medicore', 'enabled', 'kiss', 'happend', 'on5', 'sport', 'gsm', '802', 'presentation', 'enquire', 'global', 'note4', 'negetive', 'grandparent', 'definitly', 'camrea', 'frustating', '10fingerprint', 'raksha', 'bandhan', '22nd', 'organize', 'speaking', 'sheen', 'deg', '180', 'thee', 'sensorcamera', 'void', 'transition', 'looksbut', 'y81', 'tat', '100s', 'reconsider', 'redial', '150', 'gammer', 'pen', 'unfriendly', 'bhoot', 'hopless', 'serive', '9499', '8499', 'microsoft', 'modern', 'booster', 'handsfree', 'mentined', 'freez', 'successful', '9active', 'cheaper', 'inconvenience', 'experienced', 'recheck', 'nuisance', 'woking', 'dose', 'usageit', '8700', 'average4', 'prblms', 'silly', 'dikhta', 'logon', 'hilighting', 'origin', 'couldnt', 'rush', 'pannel', 'benifit', 'unrealistic', 'technically', 'bellow', 'economically', 'sooner', 'prominent', 'jump', 'hrs4', 'problemvery', 'backup4', '720', '1sec', 'displayed', '1year', 'markfront', 'duo', 'onn', 'tue', 'lyf', 'clr', 'loking', 'cord', 'repeatedly', 'assign', 'onwards', 'awfully', 'childrens', 'vertical', 'human', 'unsuccessful', 'tisukovadam', 'unacceptable', 'productplease', 'feeble', 'metallic', '2month', 'sochna', 'needed', 'teacher', 'exceptionally', 'efficiently', 'worthfull', 'khi', 'recycle', 'complains', '6month', 'monthsi', 'purchsed', 'deni', 'salary', 'four', 'entirely', 'intermediate', 'assist', 'distributor', '3000mah', 'responds', 'overheating', 'vendor', 'amezone', 'ber', 'utna', 'playback', 'distortion', 'haibattery', 'vdo', 'backupcamera', 'sender', 'lightbattery', 'avaerage', 'seencamera', '200mbps', 'cheapand', 'bola', 'combine', 'deti', 'hor', 'krti', 'rhti', 'mei', 'branch', 'melt', 'radmi', 'boht', 'retur', 'pooor', 'shud', 'battray', 'agr', 'difficulty', 'compair', 'shutter', '6hr', 'enjoyable', 'magnetometer', 'availble', 'batteryaverage', '31st', 'camerabest', 'fingureprint', 'weaste', 'prosesor', 'wrorst', 'moneybest', 'onlyi', 'leak', 'eject', 'laptop', 'discus', 'bruel', 'kab', 'gooood', 'misisng', 'flexible', 'oftenly', 'server', 'utni', 'performe', 'chiee', 'saste', 'plugin', 'goodthis', '5cameras', 'camera360', '5fast', 'dissapoinment', 'architecture', '5pro', 'kinemaster', 'software5', 'display7', 'beautify', 'turnoff', 'speakers5', 'adaptive', '90hrz', 'widevine', 'andi', '13499', 'sd695', 'uwa', 'axis', 'aac', 'dialpad', 'imp', 'happiness', 'pair', '15hrs', 'placement', 'polish', 'creator', 'readmi', 'mental', 'sd680', 'buri', 'kijiye', '600', 'shooter', 'itni', 'goodcameras', 'wroste', 'pixelated', 'woth', 'chargeronly', 'matte', 'primarily', 'lat', 'throat', '20gb', 'legend', 'douran', 'ati', 'bolo', 'phonenot', '9audio', 'chahte', 'alway', 'lage', 'simcards', '7pro', 'practically', 'mii', 'handling', 'cameracamera', 'rhai', 'ups', 'anyhow', 'hunged', 'harsh', 'procesor', 'flight', 'wierd', '4yr', 'displayi', 'dunga', 'alredy', 'pricefor', 'okayall', 'performamce', 'await', 'displaydislike', '90hrtz', '40gb', 'chargercons', 'frndly', 'expose', 'displaygood', 'thumbnail', 'aag', 'honer', 'selecting', 'ekdum', 'phonedesign', 'avreg', 'backp', 'minimize', 'gigabyte', 'polymer', 'removable', 'journey', 'snd', 'customize', 'techie', 'design3', 'experiencecons', 'reload', 'rid', 'bdhuya', 'g60', 'chargingit', 'guyz', 'exciting', 'moile', 'hag', 'bhone', 'ratesnapdragon', '10design', 'infinity', 'chart', '17999', 'bummer', 'utility', 'sacaner', 'usagepros', 'tinny', 'palm', 'mumma', 'scenario', 'smudge', 'lagbattery', 'phonescreen', 'extended', 'fragile', 'hind', 'nxt', 'unneeded', 'speedy', 'tft', 'prepare', 'parcel', 'proved', '12nm', 'bing', 'f32', 'processor3', 'counterpart', 'decade', 'doubtful', 'thy', 'sansung', 'workingi', 'deatailing', 'behaves', 'nowhere', 'substantially', 'goodlock', 'atrocious', 'telegram', 'design2', '2hours', 'goodrefresh', 'preloaded', 'accidentall', 'goodcons1', 'lifecons', 'outer', 'rs1250', 'deeply', 'superamoled', '12400', 'bhahut', 'baje', 'hangy', 'hojata', 'peer', 'hubby', 'alrounder', 'averagecharging', 'dail', 'properlyand', 'huta', 'phenomenal', 'pink', 'glow', '110', 'apex', 'caption', 'n77', 'n78', '730', 'zitter', 'kyonki', 'vai', 'lagginess', 'hea', 'phonetouch', 'doge', 'biker', 'tipe', 'thes', 'notsound', 'itsif', 'itoverall', 'handsetif', 'onepluslittle', 'awesomewith', 'minsit', 'laginternet', '11mbps', 'networki', 'iti', 'lessi', 'itthank', '10100', 'amazoncoming', 'hasselfree', 'possibleedit', 'perfectoverall', 'bestyou', 'gaana', 'linkedin', 'unlockmost', 'chagemany', 'neatcons', 'nowdetailed', 'submersion', 'saturated', 'translucent', '6years', 'manageble', 'rm9pro', 'polycarbonate', 'matterdisplay', 'wellperformance', 'lppdr4x', 'usagesoftware', 'oos', 'ideacamera', 'expecting', 'frank', 'ultratwide', 'thingsbattery', 'fastspeakers', 'moderate5g', 'futuristiccall', 'mumbledso', '023', 'earning', 'extraa', 'aod', 'immersive', 'plethora', 'pointer', 'hz2', 'important3', 'extreme5', 'pray', 'webpage', 'path', 'modehope', 'cameralagging', 'chargingbuild', 'qualityslimnfcsmooth', 'oscons', 'gaminglow', 'usagedesign', 'cop', 'experiment', 'versus', 'perspective', 'benchmark', 'dobly', 'longetivity', '4500more', '409ppi', 'density64mp', 'backside16mp', 'shooter6gb', 'mt6877', 'chipset65w', 'charging128gb', 'osoneplus', 'nightscape', 'sharable', 'consist', '500mah', 'also2', 'apps4', 'opposite5', 'issue6', 'again7', 'speakerfew', '12bands', 'courteous', 'dedinately', 'society', 'expanda', 'handy2', 'lightweight3', 'scrolling4', '35min5', 'week6', 'good7', 'angle8', 'day9', 'noise11', 'good13', '122', '60fps5', 'slider6', 'charger8', 'oxgenos', 'confusing', 'fiio', 'earman', 'tramp', 'mojo', 'irony', 'phoneafter', 'pessimistic', 'lifesaver', 'negligible', '8gbram', 'updatemarch', '2022pro', 'ssim', 'enhancersuper', 'migration', 'onelight', 'enhancement', '119', 'cons90', 'literall', 'breakfast', 'threaten', 'war', 'relly', 'uptomark', 'arond', '5hardware', '5features', '5loudspeaker', '5sim', 'yeslight', '5preinstalled', '5ipx5', 'resistant', 'yesin', '5gaming', '5daily', '5just', 'tec', 'samsungprovides', 'neuclear', 'slimmest', '5g2', 'indisply', 'fast4', 'hdr5', 'network6', 'lag7', 'awesome8', 'charging10', 'better2', 'backup5', 'well6', 'things1', 'norde', 'are1', 'fairely', 'facial', 'recognition4', 'useit', 'professionalu', 'cameraplease', 'mate', 'assistance', 'exotic', 'usgae', 'arethe', 'multibands', 'accomplish', 'consthe', 'efficienct', 'hogger', 'fingerpriny', 'misreads', 'monday', 'fot', 'giant', 'iconic', 'hrd10', '16500', 'plant', 'establish', 'dissipation', 'typo', 'reproduction', 'heavier', 'hotter', '65supervoc', 'amaaaazziingg', 'badalke', '29th', 'jammu', 'purcahse', '6500rs', 'soooo', 'unplug', 'nowdays', 'relief', 'multipurpose', 'a83', 'wallet', 'accomodate', 'awesomemost', 'minsvery', 'touchinternet', 'featuresi', 'excellentdisplay', 'effectcalling', 'issuecons', 'syn', 'touch3', 'readiness', 'relief5', 'adaption', 'tricky3', 'performanceexcellent', 'qualitynatural', 'chargehighly', 'displaydecent', 'designfast', 'biometricconsbattery', '2mpno', 'stabilizationnight', 'displaymy', '25k2', 'rom7', 'pixels', 'frankly', 'phonethe', 'igot', 'kirin', '970', 'dimesity', 'firmware', 'apperance', 'higher', 'broadband', 'proboem', 'hearig', 'versionif', 'atleaset', 'curvature', 'supercars', 'jargon', 'commend', 'pricey', 'ribbon', 'roll', 'givinng', '10000rs', 'reg', 'deposit', 'segment2', '200cc', 'fuel', 'bengaluru', 'buzz', 'internally', 'estimation', '6872', '40day', 'pull', 'rock', '1000s', 'tedious', 'patient', 'intially', 'cam4', 'display5', 'uicons', 'owe', 'miscellaneous', 'cover2', 'faild', 'lasting3', 'fumble', 'debate', 'thatbattery', 'slippery', 'lifei', 'comapare', 'itplease', 'flagshipbattery', 'slowcamara', 'featuresonly', 'copyit', 'amountone', 'amountdon', 'handover', 'tethering5', 'supportedand', 'vivid', 'previously2', 'glide', 'heed', 'upfront', 'retial', 'definatly', '2023', 'chargingdesign', 'snapdragonoverall', 'awesomebad', 'is1', 'missing2', 'speaker3', 'summarizingpros', 'oledgood', '11loud', 'monosuper', 'wabove', '900better', 'samsungcons', 'colouring', 'rangeso', 'cameradisplaytouchselfi', 'canperformance10', 'expecations', 'continoisly', '173', 'callsdid', 'optionworst', 'errors', 'darinout', '25mpix', 'usagesfinger', '5selfie', 'smartfones', 'searched', 'edgy', '23999', '3250', 'diagnosis', 'pace', 'goodsmoothsuitable', 'gaminggorilla', 'glasscons', '12bit', 'bulkybattery', 'oneplusehowever', 'preserve', 'beautification3', 'speaker4', 'calculator', 'aside', 'generic', 'holdup', 'amonth1', 'community', 'presence', 'declare', 'disappers', 'wakeup', 'nanosecond', '400', 'chnage', 'issuecall', 'settingfingerprint', 'welldevice', 'supportrear', 'selfy', 'aprrox', 'chargebuild', 'lookingoxygenos', 'regardless', 'gripe', 'incompetency', 'harm', 'foul', 'sloweronly', 'memorythanks', '10finger', '10call', 'allram', 'yeshdr', 'yescharging', '10best', 'jackcan', '128gbprice', 'exchangenot', 'arised', '35k', 'shak', 'chested', 'hrlookwise', 'rs20000', 'too3', 'policyplease', 'scammed', 'plus1', 'okk5', 'okkthanks', 'inscreen', 'camara2', 'use4', 'hazard', 'iooq', 'minecraft', 'daythe', 'agai', 'one2', '28th', 'speeddisplayfast', 'chargingspeaker', 'glosssy', 'cricket', 'banner', 'thisbattery', '37min', 'complanesperformance', 'lagmissing', 'positives', 'designnegatives', '9hrs', 'uniqueness', 'payed', 'devise', 'phoneissue', 'available2', 'intensity', 'awake', 'goodnegativeonly', 'availablility', 'neu', 'exceptcall', 'informs', 'receiverbuild', 'weekall', 'optionsbattery', 'fastfront', 'goodmemory', 'slotsound', 'superback', 'goodgorllaglass', 'editing', 'device2', 'memorycons', 'figer', 'enthusiasm', 'absurd', 'laminate', 'component', 'dayfast', 'hourprocessor', 'speedaccessory', 'casing', 'complimentarycamera', 'supremely', 'flimsy', 'que', 'blotting', '6400', 'ques', 'blurred', 'invested', 'lowsound', 'lowoverheatingbattery', 'itsoverall', 'onepluscomplete', 'appcamera', 'oneplusif', '8advantages', 'countiesly', 'utra', 'untra', 'sounds', 'alspath', 'dro', 'cross', 'taint', 'ce2price', 'worthyonly', 'toe', 'signature', 'feom', 'calldespite', 'issuei', 'photoes', 'prty', 'recoirder', 'phase', 'thorough', 'modelnot', 'okthe', 'shorter', 'dried', 'buletooth', 'leading', 'beenmore', 'aince', '2011', '2700', 'whooever', 'feasible', 'swtiched', 'perk', 'usefast', 'covercons', 'expectedgets', 'appssince', 'consistency', 'choosen', 'insteade', 'accpet', 'unsatisfaction', 'streamer', 'qualityawesome', 'featuresslightly', 'sustainable', 'digest', 'comfert', 'glaas', 'builtbut', 'wrongthey', 'seriesmobile', 'policystill', 'jean', 'repaired', 'outofwarranty', 'a52', 'khane', 'chor', 'sabke', 'bavk', 'qualityvery', 'qualitymany', 'improvementand', '62mp', 'mobilecould', 'ospros', 'hangingcons', 'mediateck', '5audio', '5plastic', 'bessel', 'frint', 'urgency', 'quratine', 'returnand', 'unworthy', 'padega', 'use5', 'refill', 'advisor', 'trail', 'bahama', 'purchase1st', 'issue2', 'drain3rd', 'issue4th', 'mp5', 'timechutiyagiri', 'markcharging', 'issuebed', 'servicepoor', 'litil', 'slowstock', 'androidneed', 'upgradevary', 'plusunable', 'dicline', 'censer', 'catagory', '120gw', 'shooting', 'plua', 'but1', 'stylishly', 'revise', 'oxigen', 'heath', 'fliters', 'phonebakwas', 'taste', 'inbilt', 'phoneuse', 'bilt', 'proxy', 'mutipal', 'ticket', 'buydon', 'blurrey', 'bloatwarescons', 'nonfunction', 'dropping', 'command', 'humne', 'prayog', 'chalate', 'bataiye', 'karen', 'wapasi', 'ok2', 'work3', 'go4', '10sometime', 'towards', 'detector', '2002', '1oneplus', 'scratche', 'tiny', 'coverd', 'chrage', 'dgree', 'contionus', 'rangebattery', 'greatgaming', 'satisfyingand', 'soopervooc', 'f19', 'lifecould', 'clarityvolume', 'mediaonly', 'understandoverall', 'procured', '256gb', 'amazonthey', 'productsdon', 'kitti', 'ithis', 'thatthis', 'reward', 'magic', 'reviewlooks', 'iphone4500', 'userscharger', 'minutesnot', 'neo7', 'whiten', 'mangwa', '101', 'overview', 'abide', 'nagetive', 'hangt', 'dissatisfaction', 'define', 'gorgeous2', 'suported', 'rebate', 'cheatingbattery', 'quicklycamera', 'markspeaker', 'goodat', 'hangged', 'ievery', 'oneplua', '20hours', 'weeek', '60min', '11i', 'hypercharge', 'drill', 'announces', 'embrace', 'ocean', 'magically', 'pinkish', 'amo', 'nirashajank', 'skat', 'fais', 'transmit', '10handling', 'fastphone', 'oppooverall', 'buycons', 'searchingoverallunder', 'okit', 'upgrage', 'etcprocesser', 'wana', 'desent', '3mm', 'waiting', 'topld', 'dissapointing', 'oviedo', 'requested', 'phonefingerprint', 'goodsuper', 'charginggood', 'lifedisplay', 'nicei', 'wellthis', 'prosdisplay', 'stunningspeakers', 'cancer', 'brilliantly', 'experienceplease', 'proactive', 'fate', 'idel', 'lightbut', 'a50', 'impresive', 'backcamara', '33mm', '25000rs', 'chargung', '60w', 'cherged', '10and', 'apx', 'appx', 'phonw', 'tremendously', 'si', 'surroundings', 'involve', 'kgf2', 'trailer', 'featuresoverall', 'rangeyou', 'smoothy', 'cancl', 'alphabet', 'le', 'problemsits', 'wuickly', 'ufff', 'onepluse', 'problem4', 'repenting', 'v29', 'puchased', 'premiums', 'constructive', 'wowscreen', 'sailent', 'generator', 'legendary', 'hangama', 'relaxation', 'mirrorcam', 'chargingoverall', 'usingthank', 'gcamera', 'suna', 'paaya', 'withbest', 'matchnice', 'bust', 'deleverd', 'completly', 'crispy', 'heatiing3', 'cameraas', 'dilivery', 'flapship', 'definetly', 'scrooling', 'oklight', 'weightbetter', 'pointnice', 'displayos', '12mono', 'average3', 'finecolor', '25knice', 'lifefront', 'performanceback', 'ratingbattery', '5starcamera', 'stardisplay', '5starperformance', 'staroverall', 'xellent', '10sound', '10for', 'scene', '10200amazing', 'valueproduct', 'greatsmooth', 'displayfast', 'uiproduct', 'averagevideo', 'workingmobile', 'defrent', 'continous', 'awasomebattery', 'onepulse', 'hestation', 'awesomebattery', 'rangeheating', 'bsic', 'failing', 'betrayal', 'coustomers', 'kadian', 'prathamesh', 'foto', 'adore', 'with1', 'finnalymuch', 'sasta', 'shahrukh', 'khan', 'pakra', 'goodbettery', 'rkho', 'jamin', 'vocc', 'someday', 'optjon', 'ihad', 'amazoing', 'amotions', 'nuance', 'handsate', 'bafter', '2nano', 'inki', 'tumko', 'aayega', 'fark', 'balki', 'cardi', 'seriesi', 'nore', 'slowphone', 'confrence', 'audiable', 'bull', 'fingprint', 'dailyamazing', 'refine', 'ce1', 'banane', 'lagi', 'rokna', 'roko', 'visite', 'hanging2', 'poorso', 'fixeing', 'haigood', 'performanceno', 'clarityafter', 'hangingbattery', 'displaytouch', '1full', 'pedigree', 'redmi4', 'ahalf', 'goodbutcamera', 'hickups', '4mp', 'multiply', 'shoddy', 'exchanged', 'workholic', 'miiam', 'oneplusoneplus', 'launched', 'glasscamera', 'days1', 'battery3', 'fit4', 'superb5', 'weight6', 'sexyblindly', 'bikne', 'phonepeople', 'woofer', 'fela', 'rkhi', 'patten', 'lock2', 'backround', 'run3', 'expected4', '9rt', 'minalexa', 'properlyfirst', 'kommerce', 'llp', 'phoneunder', 'productthanks', '22000', 'othervise', 'weightoverall', 'biy', 'wosul', 'uifast', 'fastheating', 'issuesnot', '2times', '25kmust', 'camerakeypad', 'speedtouch', 'screenresolutionlocking', 'systemscreenshotthickness', 'mobilefinishing', 'phonelight', 'handsuper', 'updiplay', 'okoverall', 'averagenight', 'goodgo', 'meaccording', 'charginglag', 'interfaceworks', 'daykeeps', 'cancelling', 'talkingvery', 'monthheating', 'problemhanging', 'than10', 'brandi', 'uesd', 'robo', 'bestand', 'letestand', 'adopt', 'nord2', '35000', 'wese', 'jisse', 'lugi', 'bestexternal', 'availablephone', 'fastbest', 'rupees8gb', 'storagebest', 'nhii', 'compabilty', '8gp', 'painter', 'haicharging', 'lagbhag', 'subah', 'soke', 'utho', 'fuss', 'dekhke', 'suggestable', 'coverhow', '5body', '5money', '5amazon', '5review', 'annonce', '21000', '4500battery', 'releme', 'slowdown', 'react', 'differently', 'nutshell', 'sensivity', 'deluxive', 'productplz', 'ovreall', 'olease', 'camerait', 'realme8', 'wiil', 'garm', 'ande', 'obaal', 'khata', 'bawasir', 'weightgood', 'qualityclear', 'audiocrystal', 'flawlessly', 'osssamm', 'raring', 'hotautomatic', 'restartseems', 'deliveryman', 'cameraandroid', 'poorbatry', 'okscreen', 'embarassing', '5software', 'fullnord', '2se', 'qualitycheap', 'holf', 'chi', 'lovebit', 'haipar', 'hpure', 'performancesmooth', 'experiencelooking', 'premiumit', 'delayed', 'clicking', 'ultrafasr', 'caamera', 'thetd', 'asame', 'resresh', 'shotbest', 'feelaverage', '35mints', 'qmong', 'qyality', 'toomuch', 'okwith', 'feeloverall', 'frind', 'amej', 'aor', 'passion', 'calulettar', 'outo', 'padata', 'safely', 'oppen', 'stylishneed', 'slope', 'chargingexpendeble', 'storageno', 'issueoneplus', 'markor', 'satisfiedsim', 'activation', 'aresome', 'wing', 'prooo', 'thingsif', 'bone', 'showingno', 'flaws', 'chargefingerprint', 'effectivebattery', 'loading', 'frome', '15mint', 'smoothad', 'poublam', 'goodlagging', 'designwise', 'ine', 'exlilent', 'flikering', 'performancebut', 'okphonenicephonethik', 'fringerprint', 'itcamera', 'awesomeperformance', 'awesomeoverall', 'poore', 'chargerbattery', 'orice', 'surprising', 'speekar', 'butwhen', 'camerain', 'dealthanks', 'andorid', 'stii', '3task', 'withthe', 'pessa', 'paroblams', 'maha', 'redmik20', 'thier', 'lumb', 'swell', 'vibrator', 'str', 'reating', 'wowwww', 'continusely', 'drawning', 'dayit', 'leather', 'batteryphone', 'reconiged', 'gjb', 'batarry', 'charager', 'demege', 'wastmoney', 'gifgbcgvsrthgch', 'hifgjk', 'yiggb', 'ydh', '2minutes', 'qualily', 'cofortable', '108', 'cahida', 'problemheating', 'issuesboth', 'beloved', 'fastperformance', 'guysz', 'phonedelevery', 'excilentcamera', 'markbut', 'nordce2', 'alsooverall', 'expirence', 'pennelamazing', 'singals', '4starbattery', 'starcamera', '4atar', 'to5000', 'turms', 'serching', 'loosing', 'locker', 'enroll', 'manfacturing', 'pritey', 'butiful', 'warking', 'thisbis', 'complaintmobile', 'gallary', 'sleepes', 'qualityget', 'upsystem', 'unlikes', 'speakerelse', 'accilent', 'lightweighted', 'phoneclear', 'uigood', 'damge', 'teatures', 'etny', 'ledu', 'feeting', 'wellbut', 'vehy', 'praice', 'competetive', 'madul', 'buler', 'overlay', 'optimiz', 'chahiyabattery', 'oparate', 'opration', 'cumbersome', 'miniman', 'frient', 'butsad', 'aspects', 'woosool', 'toda', 'aurr', 'jaa', 'rejector', 'issuethat', 'sharpe', 'bas', 'aisi', 'umeed', 'fingerpry', 'lifeand', 'solves', 'goodmobail', 'problemmobail', 'elegance', 'fount', 'wqnts', 'hamesa', 'tnq', 'batteryback', 'excutive', 'forsin', 'replacementg', 'ofline', 'prafomense', 'ovarall', 'practicality', 'jabse', 'disoppinted', 'accordingbrand', 'cheez', 'vishes', 'isu', 'ohhhk', 'technicain', 'li', 'sumit', 'weakbest', 'lifefinger', 'workingit', 'locking', 'lowbad', 'problemdo', 'batteryminimum', 'vgood', 'cha', 'kraycha', 'worstt', 'hotspots', 'camerabatterytouchpadeverythingworth', 'mahnga', 'ehte', 'aam', 'khab', 'osmbattery', 'ganta', 'canteenucamera', 'moneythere', 'vala', 'katai', 'zaher', 'onl', 'mazor', 'becaz', 'segmentcamera', 'quickely', 'vera11', 'cer', 'mgp', 'quiltey', 'poorvery', 'horsome', 'averageui', 'directing', 'unsaved', 'everyonethis', 'ce2maja', 'amozn', 'axi', 'tooks', 'runing', '40th', 'meridien', 'rambut', 'rah', 'gay', 'bute', 'pluscamera', 'badhia', 'camerabatterydesign1plus', 'tottal', 'purchesed', '5000mha', 'softwear', 'looow', 'pan', 'queue', 'affected', 'dsiaply', 'owasome', 'lke', 'expections', 'jiyyo', 'mitra', 'clinic', 'alothighly', 'mobiletheir', 'kolite', 'nard', 'pakka', 'enufhh', '20days', 'guickly', 'funtion', 'amajan', 'feacture', 'hisaab', 'bablu', 'bindas', 'kara', 'hinge', 'backlight', 'betari', 'exxlent', 'prablem', 'asha', 'goooddddddddddd', 'nae', 'tod', 'wualy', 'quntinu', 'fingetprint', 'bestest', 'majedaar', 'wastee', 'cghj', 'kdk', 'inaf', 'branad', 'gooddddddfff', 'suprr', 'dhd', 'pi', 'ntg', 'nyv', 'indiaprosvery', 'attractivecamera', 'canon', 'stero', 'photographyanddidn', 'youreally', 'playstation', 'usagethe', 'logically', 'oppomight', 'goodluck', 'm01s', 'marketsamsung', 'm52samsung', 'm53mi11xmi11imi11', 'liteoneplus', 'hereexperienceon', 'bootup', 'onboarding', 'displaywhen', 'performanceas', 'personalisationoxygen', 'greeting', 'verdictoneplus', 'scorecamera', '5own', 'chinesd', 'makker', 'feelvery', 'premiumbattary', 'purchasei', '75k', 's21', 'idem', 'nayana', 'nijam', 'nenaaa', 'emo', 'assam', 'inka', 'sloow', 'editmany', 'niggles', 'mumbai', 'sellor', 'simplecons', 'fulll', '26k', 'investing', 'releasing', 'exposed', 'messeging', 'back2', 'speakers3', 'batteryother', '45k', 'lagti', 'alag', 'ummeed', 'apki', '5premiumness', 'roof', 'pocker', 'wreck', 'desert', 'inga', 'wieght', 'trusting', 'abou', 'rebadged', 'vivi', 'phnone', '2081', 'evrything', 'one1', 'sham', 'hereno', 'croma', 'weightedelegant', 'lookamibent', 'displaysleek', 'styleflawless', 'experiencegood', 'goodstorage', 'vastno', 'issueno', 'lackingsuper', 'chargering', 'refreshing', '25000good', 'fansone', 'rakha', 'chaye', 'drastic', 'superr', 'alien', 'indipendent', 'handybattery', 'averagecameras', 'missingin', 'earth', 'somrtine', 'seat', 'kiraak', 'apan', 'hyderabadi', 'jhoot', 'chik', 'pethatic', '23500', 'betray', 'urself', 'zooooooom', 'superrrrrrrrr', 'speeeedsmooth', 'retuns', 'batteryy', 'lifee', 'phonee', 'nycback', 'badand', 'goodcharge', 'fastw', '65watts', 'onceone', '5brand', 'rs10000', 'qualitiesoneplus', 'patchnote', 'painful', 'gaminggamers', 'normallooking', 'normallow', 'onsplus', 'uimid', 'oisthe', 'mobileone', 'fancamera', 'besttop', 'proformancetop', '25000best', 'cameraone', 'buyinga', 'nuhhji', 'osme', '25camera', 'hiting', 'bid', 'darsan', 'chhote', 'achche', 'milte', 'khali', 'mobilescamera', 'westage', 'atomic', 'goodpremium', 'lookand', 'problemmobile', 'hangeddon', 'itthough', 'dissopment', 'phoneworth', 'moneygreat', 'hyy', 'prope', 'opposition', 'fasana', 'atom', 'hoc', 'milega', 'bindass', 'kheloo', 'superpower', 'aitam', 'veraty', 'quietly', 'fhichar', 'lookingin', 'ndbattery', 'roddly', 'optical', 'loud05', 'icecream', 'foolling', 'satifiable', 'packup', 'phonemetlena', 'ratting', '0ne', 'phnnormal', 'rangefor', 'roadside', 'dusty', 'deject', 'cite', '450', 'phones3', 'average6', 'slow7', '4g9', '174', 'compalsary', 'phonesonly', 'tean', 'agers', 'moor', 'imay', 'amzaon', '21st', 'century', 'technology1', 'restoration', 'night5', 'oodbut', 'region', 'opopo', 'rought', 'bussiness', 'provessor', 'surffing', 'enought', 'resistence', 'compansation', 'exchangeg', 'mystery', 'mend', 'favour', 'gentl', 'towatds', 'establishment', 'capabilitu', 'xperia', 'fabrication', 'helios', 'phonebox', 'overheats', 'oudated', 'practice', 'itgoes', '4250mah', 'funny', 'shear', 'keeper', 'inited', 'battletoyale', 'plsssss', 'tbis', 'aim', 'fastcons', 'applock', 'time3', 'systemic', 'catchy', 'comapred', '4230mah', 'browing', 'hobby', 'guidei', 'asthetically', 'apealing', 'designing', 'unsuccessfully', 'cloud', 'forcibly', 'meddle', 'alwaysperformance', 'cancled', 'unlucky', 'endless', 'kick', 'judgement', 'phonesuser', 'withy', 'bange', 'fromamazon', 'pervious', 'mymoney', 'guessing', 'welcome', 'experties', 'handsome', 'thisslow', 'phonecan', 'workinglooking', 'satisfactoryover', 'wehn', 'vagueness', 'screencast', 'college', 'evar', 'bargaining', '490', 'gelio', 'denies', 'isue', 'lookscomparatively', 'fastsleek', 'designcan', 'qualityhas', 'timethe', 'tasksthe', 'posse', 'ovaral', '12490', 'pathetic2', 'associated', 'delevary', 'workingbutback', 'secondand', 'passwordplease', 'implementation', 'lance', 'purchaseit', 'stopable', 'muchi', 'herevery', 'appslow', 'bullshit', 'habitual', 'crt', 'monitor', 'mkney', 'itmobile', '128storage', 'exploit', 'danger', 'neie', 'skw', 'eos', 'eor', 'alz', 'dof', 'likethis', '16th', 'asset', 'iuse', 'hotquickly', '00pm', 'cognition', '9no', 'modebattery', 'recommendd', 'f1s', 'f15', 'lightening', 'prevents', 'shes', 'memmory', 'offiine', 'servicw', 'oppoa15', 'jaata', 'amazonit', 'offiline', 'exicted', 'offere', 'client', 'radiant', 'ergonomic', 'cumpulsory', 'reveived', 'mabile', 'thanksafter', 'percel', 'remover', 'missingrequest', 'defecate', 'kindlu', 'critical', 'wine', 'zthis', 'lianing', 'cooperate', '7200', '11495', 'timeloop', '9990', 'concentrate', 'mobility', 'mesh', 'bareilly', 'deks', 'litttle', '1aste', 'monee', 'sometimeelse', 'expend', '5020', 'ge', 'kno', 'muc', 'multiscreen', 'diliver', 'slid', 'bottam', 'rotetd', 'iton', 'gng', 'orderd', 'neighbor', 'nees', 'cud', 'chargingif', 'selleroppo', '6gbram', 'allround', 'somuch', 'sober', 'complan', 'costumber', 'contomber', 'antypa', 'accident', 'fulthanking', 'younethaji', 'iplay', 'poin', 'lake', 'gaget', 'budge', 'index', 'engineering', 'throwaway', 'plusgood', '3years', 'disike', 'shaan', 'daar', 'jabarjust', 'jindabaad', '000but', 'charing', '31may', 'phoneprice', 'highif', 'ghatiyaa', 'puraane', 'baich', 'lakh', 'proudly', 'recomend', 'worthit', 'activitied', 'displays', 'storngly', 'sustain', 'fringe', 'phoneredme', 'costwise', 'caluvity', 'requestcharger', 'budjet', '2phones', 'lookingnice', 'batterynice', 'is2', 'screevery', 'monthsthe', 'outwithout', 'scretchthe', 'satitisfied', 'completion', 'popup', 'thantwo', 'appreciation', 'rs1200', '2012', 'insider', 'sso', 'processbut', 'heatimg', 'disappointedfeeling', 'ausat', 'faisla', 'baithe', 'whoever', 'daun', 'porches', 'comfortably', 'tink', 'a31less', 'axactly', 'sttucked', 'rival', 'attalend', 'sharpphone', '9not', 'provding', 'cantrol', 'braitness', 'offf', 'badd', 'oppoand', 'brower', '86gb', 'k10', 'scar', 'monry', 'jiske', 'hoonwo', 'qualitypicture', 'prety', 'dullness', '550', 'zeroscope', 'rub', 'paise', 'phono', 'workingsoftware', 'lowonly', 'goodbig', 'displayoverall', 'prblom', 'slowbattery', 'batterypoor', 'probable', 'fails', 'hainevikesa', 'blossom', 'abundant', 'duller', 'salute', 'silm', 'horrendous', 'pro2', 'medical', 'quirky', 'othhers', 'lovable', 'soomthly', 'guest', 'enablement', 'fanaly', 'convart', 'gripping', 'moneyit', 'adobe', 'fisplayed', 'for11', 'offed', 'lifebest', 'qualitysmooth', 'sach', 'economy', 'relpace', 'technicial', 'chahata', 'bakvaaas', 'is128', 'blanke', 'plsscontact', '10700', 'screennot', 'agey', 'encourage', 'operting', 'ammezing', 'superbly', 'ghtiya', 'forgat', 'dusar', 'refersh', 'talkingsometime', 'laggingbattery', 'poorfacerecognition', 'indoorand', 'duet', 'excellentbest', 'idiotic', 'shipping', 'skrech', 'clearsignal', 'problemwastage', 'fin', 'qualitysuperb', 'welli', 'bee', 'poerformancegood', 'backupoverall', 'tobreplace', 'colati', 'interfacegood', 'ramreally', 'mobial', 'purchaed', 'ingot', 'tempt', 'moble', 'proformmance', 'aewsome', 'thkankssss', 'secret', 'oosam', 'tysm', 'mobileoppo', 'f31', '2star', 'receved', 'scence', 'recommendthanks', 'giod', 'availbe', 'vedios', 'moneny', 'calirty', 'everythy', 'poster', 'acreen', 'fanstatic', 'stylist', 'proformens', 'mobilegetting', 'changingproblem', 'moneyno', 'workingbest', 'ilike', 'esko', 'touchit', 'capoot', 'annd', 'amazo', 'trustfull', 'abc', 'qualtity', 'proct', 'nott', 'rangeloved', 'arley', 'comphartable', 'nicr', '1hours', 'diaply', 'doenot', 'productso', 'speakers', 'snooze', 'werry', 'wiight', 'najir', 'uddin', 'bekkarrr', 'mim12houre', 'rong', 'aaps', 'mideuim', 'dyamage', '128romgood', 'xio', 'fancyi', 'sahil', 'khup', 'chan', 'ahe', 'besti', 'josjid', 'puri', 'selar', 'hfy', 'furfamenc', 'isjuet', 'wwn', 'tto', 'perfeect', 'opsgine', 'jira', 'slike', 'ans', 'seraaaa', 'chellam', 'lowdevice', 'hifibut', 'thingotherwise', 'osmmmm', 'kadak', 'stretched', 'producttuch', 'badbrightness', 'bole', 'evidence', 'immidiatly', 'momment', 'warast', 'struckneed', 'u10', 'dikkt', 'faboulous', 'mobilebad', 'goodone', 'che', 'peso', 'price10', 'warrant', 'poorspeaker', 'waqt', 'porduct', 'downlode', 'demes', 'chargerslow', 'hia', 'featuresas', 'todayand', 'iwsom', 'remarkable', 'onnig', 'lineing', 'a31oppo', 'betifull', 'bsttery', 'nuce', 'bfor', 'phne', 'uasage', 'ghh', 'nil', 'brushtvery', 'britnesss', 'soct', 'doo', 'voluam', 'slows', 'vikas', 'comportable', 'fullyfied', 'behtar', 'streak', 'promisedon', 'onlywe', 'goodpesa', 'pkg', 'chargr', 'mostof', 'chargeing', 'avarge', 'dupar', 'economic', 'screenawesome', 'optimam', 'pricevalue', 'sigment', 'buttn', 'detar', 'appoint', 'hart', 'chipest', 'fiture', 'amh', 'phonebahut', 'sleem', 'amazingwith', 'ghnt', 'ranjan', 'baau', 'wron', 'hig', 'avreeg', 'ist', 'fabulaus', '4230', 'betteri', 'rhoda', 'wastegae', 'subodh', 'farformance', 'produts', 'bestoverall', 'awesomevalu', 'nycccc', 'dish', 'supaf', 'slowdon', 'supreb', 'qulitiy', 'daam', 'peter', '1000rs', 'likeit', 'overhaul', 'defeat', 'oldest', 'dislick', 'badnice', 'availsble', 'properly6day', 'xcellent', 'likd', 'okpiece', 'pordakt', 'guud', 'pintu', 'notbad', 'hlo', 'goodexcellentsuper', 'pricetq', 'goodnight', 'opo', 'nce', 'offerrrate', 'gajab', 'nie', 'hend', 'profar', 'baditem', 'dlewar', 'ancient', 'pry', 'victim', 'devicecons', 'spam', 'android9', 'jam', 'participation', 'restriction', 'religious', 'protocol', 'ashirwad', 'bjp', 'violation', 'scindia', 'formally', 'puja', 'kshipra', 'river', 'suppodting', 'clause', 'astonish', 'incur', 'desription', 'rita', 'b2b', 'umang', 'escalation', 'unavailable', 'induct', 'lavda', 'finge', 'possitive', 'parchase', 'refursshined', 'depreciate', 'anythg', '999redmi', '999these', 'comprise', 'intact', 'branded', 'thnxx', 'againg', 'represent', 'oftentimes', 'award', 'tonl', '13999', 'indityf', 'goodproduct', 'andeasily', 'optional', 'inmy', 'properlyvery', 'avery', 'experiencevalue', 'goodlooking', 'gooddelivery', 'mahine', 'clarityno', 'featuresonce', 'itiam', 'wwaranti', 'madhe', 'riples', 'notbt', 'bell', 'khatm', 'kebad', 'kharidana', 'hui', 'gooddwould', 'samenice', 'experienceseemless', 'designgood', 'bodyvivo', 'cress', 'replenishment', 'prouduct', 'seka', 'upaye', 'bataye', 'taki', 'hame', 'lush', 'ske', 'dhanywad', 'aapka', 'aabhar', 'intrusive', 'easier', 'encreage', 'badit', 'disappointedphone', 'wantdon', 'elseuse', 'nicetouch', 'headshot', 'occure', 'moneythis', 'amazonthankyou', 'whencharginggamingwatching', 'videoslow', 'hangingpoor', 'moneyrealme', '31is', 'reviewsi', 'selfdue', 'rab', 'opp31a', 'moneyother', 'frnd', 'sujeet', 'byed', 'bya', 'wowfree', 'prodaact', 'betat', 'thaten', 'aproach', 'onjune20', 'unlikely', 'nowi', 'jaysa', 'rire', 'khel', 'poornima', 'anchan', 'chatha', 'amazongift', 'boycott', 'accpect', 'mobileai', 'tripple', 'camera4230mah', 'storageoppo', 'icc', 'supppppperb', 'muchoppo', 'a31company', 'alsophone', 'badthanks', 'pcice', 'mobie', 'qualityuseless', 'cheepest', 'letteraly', 'backupso', 'sulo', 'pur', 'prosr', 'solo', 'tome', 'surtified', '3camera', 'maorry', 'corana', 'virus', 'camera4gb', '853', 'appliedcompares', 'usedbigger', 'screenweight', 'holdlooks', 'gorgeousoperation', 'smootho', 'issueram', 'pleasureconscamera', 'advertises', 'amazonduring', 'seprately', 'ahard', 'screenshots', 'private', 'speech', 'iteam', 'fraindly', 'macha', 'performancce', 'rhis', 'samung', 'camerachoose', 'raja', 'noorchak', 'happyto', 'disclose', '5000ahm', 'mervelous', 'medially', 'exclent', '128good', 'battre', 'reviews1', 'hai2', 'dhang', 'chla', 'diya3', 'kizoom', 'zerohindi', 'sabko', 'samjh', 'dukan', 'lagekulmila', 'fas', '844', '578', '12mpdisplay', 'goodcharger', 'rangeprocessor', 'onthis', 'rangelike', 'repititive', 'ongoing', 'persistently', 'bigtime', 'dwarfed', 'prudent', 'day1', '102', 'colorfull', '103', 'scheme', 'occassions', 'wynkmusic', 'eol', 'consumables', 'peanut', '80per', 'unmatchable', 'displlay', 'pricebis', 'carefull', 'fast3', 'budget4', 'amazing5', 'fasterthe', 'khass', 'phli', 'yrbahut', 'bta', 'falsely', 'nah', 'feels', 'plasticcamera', 'averagespeaker', 'thisyou', 'sophisticated', 'gentle', 'fyi', 'profomse', 'ruff', '4xl', 'sensor3', 'life4', 'resolutioncons1', 'weight2', 'briteness', 'liteoverall', 'oil', 'improvements', '11499', 'awesometouch', '12kso', 'devicetalk', 'phoneperformance', 'taskcamera', 'usefinger', 'blck', 'riding', 'keypoints', 'enlarge', 'sideswipe', 'omg', 'royal', 'rpg', 'overe', 'progressively', 'defunct', 'scrached', 'hitch', 'rummy', 'replicate', '16gb', '128g', 'seller10', 'hourse', '14hrs', '40minfinger', 'awsmfront', 'goodworthy', '80km', 'kiripya', 'madat', 'karwaye', 'moneycompared', 'wrks', 'authorize', 'nicephone', 'swich', 'valur', 'rational', 'decesion', 'yallow', 'goodleaving', 'toobest', 'tooooo', 'competitively', 'hdd', 'deffective', 'seemles', 'faceunlock', 'unknown', 'grace', 'accordingly', 'khud', 'rakhti', 'backupgreat', 'hjo', 'naahi', 'milti', 'hstep', 'tracker', 'hcharging', 'mosel', 'hstarting', 'problemphone', 'jayegiab', 'bhaiyo', 'desapoint', 'rupeesyou', 'qith', 'added', 'after2', 'recived', 'bulk', 'shwon', 'ride', 'guidenot', 'waightbig', 'agobut', 'nowbut', 'nowadaysvalues', 'decreasedi', '1or', '2year', 'kahna', 'pawer', 'faetures', 'bhndiya', 'oknot', 'view1', 'purchase3', 'great4', 'nazro', '12kas', '0hone', 'loght', 'appriciated', 'purchasebattery', 'mpdon', '13kilometer', 'moneysame', 'featues', 'scaner', '15seconds', 'suggesties', 'westeg', 'acche', 'poor2', 'worst3', 'hangingplease', 'pep', 'complaintall', 'segmentcons', 'dop', '5hrs', 'narazo', '7jan2022', 'jun', 'harassment', 'excellentperformance', 'processesr', 'supperb', 'kaisa', '3500rs', 'outtakes', 'veryheavy', 'ironcamera', 'gooy', 'kahete', 'kese', 'shez', 'ddnt', 'startup', 'usevalue', 'bacause', 'svery', 'evrage', 'propely', 'butey', 'digit', '10mp', 'pricephone', 'slowvery', 'hoursplease', 'supp', '10kgaming', 'retun', 'evarge', 'tagthanks', 'greag', 'useles', 'normalquick', 'gadbadi', 'nazo', 'lam', 'averagerest', 'privacycontacts', 'haior', 'bhejte', 'thisplease', 'accellent', '100lid', 'purposedisplay', 'mobilewithin', 'purchaaing', 'upnand', 'inbult', 'transperent', 'downs', 'within12', 'rh', 'frezz', 'qualitywerest', 'vanish', 'rateover', 'phone5', 'gyadead', 'chrging', 'pice', 'aoduio', 'isalso', 'reassinable', 'bakwaa', '1980', 'slowover', 'huyi', '8din', 'finenetwork', 'vulnerable', 'mobille', 'living', 'chhi', 'karungadelivery', 'locked', 'worts', 'finnally', 'proccesing', 'therefore', 'deactivate', 'moneyone', 'qulality', 'formal', 'butore', 'qualityother', 'bhari', 'hbaki', 'okkkkkkk', 'regarding', 'occursdisplay', 'achchhi', 'farnt', 'aawaz', 'rahne', 'sunta', 'goodhd', 'everage', 'minuts', 'supermobile', 'pachtana', 'camplent', 'okh', 'readerbattery', 'supportbad', 'empressive', 'aati', '1unit', 'heg', 'mahina', 'nnhi', '10din', 'aawaj', 'relame', 'opeating', 'recipt', 'vice', 'fichars', 'mobileworking', 'notnice', 'thk', 'exalent', 'bhqi', 'buit', 'karan', '3day', 'problemthere', 'badpersonal', 'productcheap', 'fechar', 'satting', 'exhausted', 'heiting', 'money50mp', 'hein', 'chlta', 'blure', 'purches', 'byatary', 'dipaly', 'kamjor', 'allthing', 'likel', 'lavel', 'nonof', 'damag', 'backe', 'betty', 'socialist', 'draginger', 'woooo', 'aavarej', 'bahohi', 'aachha', 'recmedit', 'cellfone', 'carmera', 'seth', 'marge', 'programme', 'siraaaas', 'siraaaa', 'kemra', 'yoo', 'shandhar', 'huwaei', 'better4', 'bulkierhonestly', 'thingsi', 'usealy', 'rugh', 'skrath', 'bodyor', 'increased', 'itis', 'malpractice', 'tocustomers', 'workaround', 'daysuseless', 'flipkartselfish', 'okfor', 'writting', 'hoursheating', 'hoursdelay', 'uicamera', 'reviewthe', 'goodthe', 'buyin', 'pramotion', 'itrest', 'detebut', 'goodthey', 'thatvery', 'sepeed', 'marvellous', 'creation', 'performance4', 'design5', 'dispay', 'suberb', 'gt2', 'compliance', 'camerabody', 'disagreesome', 'markprice', 'exra', 'forgets', 'ctried', 'paid', 'realmemobile', '5000mahcamer', 'internet2', 'fast5', 'price3', 'trust4', 'shipment6', 'narzo50a', '6to7', 'activitythis', 'batterybest', 'videocalling', 'goodnice', 'weght', 'lifeactually', 'wastei', 'vlable', 'moneycamara', 'viodeos', 'cancelle', 'resetted', 'bethe', 'dassapointing', 'classesoverall', 'luv', 'synchrozed', 'idiat', 'fithere', 'abaleble', 'foolish', 'fart', 'hangs', 'marzi', 'batterybad', 'baitri', 'goodphon', 'smartreyal', 'phongood', 'lukgood', 'kaimraglass', 'devlivery', 'afer', '25mp', 'g86', 'cute', 'zack', 'wed', 'ill', 'hassitation', 'purchesh', 'freinds', 'touchable', 'yaaa', 'lekriska', 'runrealme', 'uniqe', 'phonespeechless', '12000i', 'pdtok', 'ligth', 'bapas', 'bhe', 'kha', 'usase', 'etne', 'etty', 'achhy', 'blotware', 'scale', 'devalue', 'pleasantly', 'look5', 'moneycons1', 'high4', '9800', 'qwerty', '200gms', 'sharper', 'smartphonebut', 'accessible', 'hurrahh', 'volumn', 'likhu', 'storoge', 'guysszz', 'lengthy', '18v', 'got128gb', '3hours', 'happenes', 'qquality', 'rs9999', 'overrall', 'productiveperfectvery', 'wao', 'productiononly', 'bttery', 'tine', 'erage', 'produck', 'yar', 'colety', 'heppys', 'yuos', 'bujet', 'skrin', 'automatocally', 'unsatisted', 'charge50', 'tripal', 'phoneheating', 'muchcamera', 'bakvassworking', 'kachhuaa', 'helmet', 'modify', 'utterflap', '50mb', 'phoneexcellent', 'displayall', 'explanation', 'showen', 'highlightly', 'stingy', 'hesitant', 'otherif', 'etccons', 'catalogue', 'ating', 'nowprevious', 'fabulousnow', '10year', 'usuable', 'highonly', 'uploaded', 'dikhya', 'traf', 'koe', 'kehte', 'sagest', 'karuga', 'electonic', 'kyu', 'bolega', 'karege', 'prosnice', 'panel90hz', 'displaybetter', 'speakersconspoor', 'featuresno', 'photogenic', 'difected', '10599', 'features2', 'model2', 'it3', 'painno', 'collor', 'preferable', 'ekdm', 'sipkaya', 'andar', 'thouch', 'preinsttall', 'wherein', 'causing', 'selfee', 'etna', 'chargging', 'dully', 'specifies', 'fairy', 'moderately', 'wfh', 'prothe', 'shopkeeper', 'affired', 'loophole', 'intelligence', 'praising', '10style', 'teenager', '20s', 'miworst', '10i', '10am', 'friday2', 'youtubecons', 'bulky2', 'integrate', 'disgraceful', 'stature', 'runtime', 'legal', 'clipboard', 'butvu', 'inche', 'soundpros', '5minat', '9hours', '3400mah', 'hair', 'viewfinder', '24mp', 'sharpen', 'tnc', 'unticked', 'personalizations', 'getapps', 'disney', 'sonyliv', 'treble', '30mbps', 'b40c', 'hike', 'beggar', 'choosers', 'goodya', 'whwt', '300mh', 'rupess', 'productpros', 'drom', 'okeyish', 'aftr', 'displyed', 'thinkpositive1', 'processornegative1', 'delay3', 'eligibility', 'procceser', 'whicch', 'drained', 'shocking', 'retail', 'precisely', 'productbattry', 'gale', 'atakne', 'underated', 'nevermind', 'onlyfor', 'panicking', 'forcefully', 'convey', 'chargingi', 'reat', 'bild', 'pathtic', 'underperform', 'worselose', 'moneysound', 'goodheating', 'problemfirstly', 'psychology', 'awared', 'emotional', 'psychological', 'uploading', 'receipt', 'tapan', 'coneference', 'redmipls', '10percent', 'in2', 'uselesss', 'expectatio', 'cheted', 'poorsound', 'cameraheat', 'fasy', 'kgo', 'aggressively', 'likers', 'yougot', 'protrude', '8mpbattery', 'thatdon', 'behtarin', 'majboot', 'tikau', 'lambi', 'dikhao', 'sambhavna', 'jay', 'gurudev', 'dher', 'shubhkamnaen', 'bluthoot', 'videothis', 'frusted', 'dasy', 'pixelmobile', 'goodside', 'niceoverall', 'trait', 'processior', 'pblm', 'badgo', 'wtsup', 'voce', 'blurdear', '2sec', 'choppy', 'slowgame', 'sluggishcamera', 'spentdisplay', '6000mahback', 'zealand', '300', 'nzd', 'monthe', 'radise', 'deliverd', 'disappointedcamera', 'disappointingdisplay', 'averageit', '1980s', 'pathetic3', 'markselfie', 'displayworst', 'batteryplease', 'printsensor', 'regretbattery', 'usercamera', 'deployment', 'favor', 'samumsun', 'notethe', 'descriptionso', 'phonethey', 'tworst', 'seenjust', 'betterywaste', 'oppoa54', 'rame', 'feaures', '5day', 'qualitty', 'specialy', 'goodspeaker', 'streao', 'effectprocessor', 'gamingall', 'availablebattery', 'usagecharger', 'kassam', 'shuru', 'kholte', '6000mph', 'exhaust', 'blankslow', 'wiat', 'node', 'oke', 'compactu', 'spnt', 'uwill', 'satisfactorylooks', 'tochbattery', 'haifinger', 'eyesensor', 'dayswithin', 'smartness', 'distance', 'mobilespeaker', 'studio', 'speakerbattery', 'usagecamera', 'bkar', 'leo', 'bettera', 'namesakebut', 'dekhta', 'refand', 'kewak', 'bebkuf', 'banaen', 'ley', 'khared', 'pao', 'jano', 'fhuchar', 'lowback', 'expectedi', 'speedonly', 'dizzy', 'pvc', 'oosssmmm', 'scold', 'beautifully', 'surpass', 'agile', 'blury', 'marketeverything', 'fastertotally', 'wednesday', 'directive', 'rectified', 'satfied', 'impresssion', 'aad', 'goodneed', 'effectually', 'worstside', 'quicklybattery', 'butno', 'appno', 'dailerno', 'notifiction', 'lightcamera', 'miccons', 'pricereally', 'bcos', 'hich', 'goodtotally', 'oth', 'uiget', 'apks', 'pixalation', 'itmi', 'mobilemi', 'haime', 'orsa', 'kartame', 'phonebatata', 'winter', 'faced', 'clarityit', 'phoneredmi', 'thisnot', 'mahaa', 'advertisedbattery', 'haiabhi', 'bato', 'awesomethanks', 'nov23', 'dope', 'belong', 'niht', 'basice', 'amezing4', 'bidaut', 'brightnessremain', 'abhinav', 'supervisor', 'arrogant', '5and', 'mobilein', 'featuresmostly', 'perfectdesign', 'mobileworth', 'andd', 'pubgi', 'woest', 'lifegood', 'workingsound', 'sve', 'beimani', 'expendable', 'bajaye', 'wuality', 'rubbishfrent', 'rubbishsounds', 'rubbishmy', 'phoneeski', 'jaga', 'haiagar', '2nweeks', 'uptil', '512mb', 'suudden', '1odays', 'andbquality', 'dilevery', 'deliveres', 'incompetent', 'unprofessional', 'batty', 'frost', 'hangingi', 'kmse', 'kharide', 'kharidh', 'pasta', 'masterpiece', '15time', 'under12000', 'cmmera', 'primum', 'geting', 'diviliverd', 'batteryno', 'warantyuseless', 'barrety', 'haiis', 'milegi', 'monthwhile', 'savescreen', 'unchi', 'dukaan', 'fika', 'pakwan', 'bataya', 'wring', '247love', 'ekadam', 'pakdata', 'smrtphone', 'havi', 'mouth', 'tsting', 'rti', 'consbuild', 'timesprosbattery', 'softwaredesign', '128mp', '264', 'note10sthat', 'april1', 'messagng', 'mfg', 'amateur', 'ghzspeaker', 'dualworth', 'primevery', 'salfi', 'hellworking', 'displaydesignbodymi', 'remoteram', 'expenddislikeprice', 'highfeatures', 'playble', 'concept', 'excited', 'gunda', 'disigne', 'kay', 'bhijwaya', 'maan', 'baaghi', 'fatafat', 'endurance', '5refresh', 'money50mega', '2mega', 'dilwaya', 'kaddu', 'puchhne', 'tish', 'poorsenser', 'intorducing', 'repeated', 'blocklist', 'badbut', 'deciveing', 'dayes', 'smae', 'wort', 'amazingcamera', 'hissab', 'haigreat', 'roop', 'bheja', 'mobild', 'oneshame', 'highthere', 'lookinglong', 'impresd', 'fullfills', 'incl', 'banatey', 'satishfied', 'quelite', 'worng', 'enhaced', 'misty', 'averagefinger', 'jrurt', 'worknice', 'reviewsphone', 'sholw', 'rear2', 'bricked', 'botten', 'attache', 'axa', 'me1', 'allowedgood', 'awasm', 'pedometer', 'undergo', 'lepr', 'lecamera', 'bekarager', 'aas', 'sometime2', 'autocall', 'hewaste', 'breakage', 'redami', 'worstsound', 'zerorecommendation', 'daydon', 'saidfinger', 'goodphoto', 'lile', 'problamatic', 'awesom', 'okremaining', 'camerabaki', 'damaged', 'cheeting', 'nhai', 'aller', 'batterie', '2time', 'resuluation', 'reburnish', 'rehti', 'jabki', 'mediumi', 'looooong', 'owsom', 'cheper', 'blurring', 'faded', 'lukaging', 'frot', 'prossing', 'oerformance', 'oprating', 'automaricaly', 'valuablecamera', 'pixelsdisplay', 'grievance', 'moneyheating', 'sometimesi', 'hainet', 'silo', 'prosessar', 'octomber', 'deplay', 'automaticallyso', 'smile', 'problemstop', 'recard', 'pua', 'fuchar', 'frunt', 'atakta', 'procecer', 'antiq', 'jhuth', 'hamy', 'c20', 'bakwass', 'orit', 'continious', 'completele', 'quntity', 'preshan', 'outherwise', 'averagepoor', 'overally', 'ismein', 'bataen', 'aide', 'thas', 'atm', 'ccv', 'highsar', 'poorthere', 'goodmany', 'nise', 'anther', 'sole', 'gayb', 'ither', 'improove', 'hearting', 'sadenly', 'loos', 'enterupted', 'complexity', 'worstevery', 'qualityplease', 'decdevice', 'diffective', 'markseems', 'productcemera', 'wrostcharging', 'damo', 'lana', 'asa', 'returnbut', 'bocus', 'kyakare', 'sre', 'freindly', 'likingnit', 'photographygreat', 'in5hour', 'thankyu', 'purchaese', '25h', 'satisfide', 'phoneplease', 'goof', 'clearlty', 'baddisplay', 'badgetting', 'ubnormal', 'phonebogus', 'camerabad', 'brokenamazon', 'zone', 'smoodness', '4mp8', 'cameradon', 'genrral', 'hangroid', 'aukat', 'opret', 'weste', 'coulor', 'lowe', 'diffecive', 'layak', 'chodkar', 'funtastic', 'awosome', 'monthes', 'frds', 'buttry', 'redmi10', 'wist', '15mis', 'avilable', 'loo', 'hoi', 'korle', 'fete', 'goodgets', 'goodsomething', 'excellentcameta', 'connectimg', 'batteryinbuilt', 'foult', 'mistak', 'productscamera', 'supeeer', 'lap', 'vide', 'quiery', 'finesing', 'sond', 'afict', 'ziyada', 'frad', 'lowdon', 'purchasepurchase', 'purchasebuy', 'backupdata', 'umda', 'henk', 'supercamera', 'betar', 'watsaap', 'contect', 'slolly', 'camerasystem', 'averagebut', 'nkn', 'matra', 'agide', 'adru', 'bagge', 'worsted', 'hbattery', 'reng', 'replaces', '267573562100', 'thod', 'iur', 'bahanchod', 'namecamera', 'purchasehanged', 'hanng', 'urgently', 'goot', 'blurish', 'skrecth', 'mpphoto', 'pixleted', 'geavy', 'cuvalti', 'tolally', 'khy', 'gooddd', 'insegmented', 'wark', 'despilay', 'powerpacked', 'jarur', 'bakvaas', 'hangingand', 'bhangar', 'bottun', 'mha', 'fuddu', 'featurable', 'lalach', 'godd', 'vaste', 'uper', 'bekkar', 'bholam', 'wellfingerlock', 'qulti', 'phone12k', 'naver', 'koye', 'otbaottha', 'ennada', 'idhu', 'bekae', 'kbi', 'diskike', 'amaging', 'middium', 'allmost', 'karata', 'finget', 'betrey', 'ficher', 'showpiece', 'santosh', 'janak', 'camerascreen', 'chetta', 'rebmi', 'yrrr', 'carmea', 'vijay', 'immidate', 'techinitian', 'isbhang', 'amera', 'handfree', 'heatingwaste', 'bist', 'jice', 'varients', 'slfecamara', 'madim', 'acsasrees', 'hetting', 'evevry', 'bkwas', 'beri', 'goob', 'purchaser', 'parfarmnce', 'chem', 'batyery', 'averything', 'thish', '9thing', 'jwkans', 'derty', 'idont', 'maga', 'vaise', 'bakery', 'qualityd', 'formony', 'pard', 'parodekte', 'wann', 'beutyfull', 'goodsew', 'gajhb', 'napasand', 'baaaaad', 'phot', 'avrej', 'tvc', 'choise', 'llove', 'steller', 'heptics', 'wether', 'thoroughly', 'contacs', 'greenish', 'tomorrow', 'useless3', 'has5', 'bad6', 'othersin', 'flashing', 'fluke', 'chargemiui', 'gittery', 'tbe', 'amold', 'sellphone', 'pill', '001', '2starnot', 'priceover', 'goodduring', 'feelsisse', 'writer', 'baddon', '6000mah90hz', 'ratenice', 'processornice', 'look18', 'relme', 'callerid', 'tds', 'awsom', 'realms8', '85g', '10pro', 'ahmm', 'hmm', 'achchi', 'khubiyon', 'updetes', 'deliveredi', 'sadplease', 'pleaseabhishek', 'banerjee', 'fingerint', 'revolution', 'mobilewaste', 'fixex', 'processcer', 'alsoas', 'phome', 'camerarest', 'averageheating', 'problemno', 'productmi', 'goodalmost', '5processor', 'colours', 'excellentfront', 'wellnot', 'sideeverything', 'itsan', 'people50mp', 'intrestedd', 'pleaseeee', 'lotpot', 'videosworst', 'a6000', 'workedoverall', 'goodsalfey', 'goodother', 'okthank', 'narmalphn', 'forfamance', 'butaryyphn', 'nicecemara', 'qualityalways', 'rerurn', 'operationally', 'meri', 'ma8', 'shocked', '5auto', '5operating', '5upgrade', '5total', 'wst', 'lookjngbattry', 'bacup', 'frontfingerprint', 'slowdisplay', 'worstfor', 'hcera', 'hilaane', 'rukne', 'soket', 'crept', 'pc', 'setisficate', 'grea', 'eglobal', '360p', '15kand', 'lounch', 'badback', 'happyall', 'lessbuy', '12otherwise', 'helicopter', 'morr', 'otion', 'yesi', 'haappy', 'okayand', 'lowevery', 'aachi', 'featherlight', 'notifies', 'dekhe', 'variya', 'innovation', 'cheepos', 'loosers', 'despos', 'folly', 'tot', 'alsogreat', 'pounch', '10back', 'qualityand', 'setishfie', 'sideway', 'alongwith', '10primelub', 'pooropinion', 'fones', 'performancemust', 'blot', 'cabal', 'phonewe', 'thnq', 'relized', 'deliveredso', 'fronte', 'kannada', 'dictionary', 'beginers', 'ratable', 'mobilelove', 'osmhd', 'displaycamera', 'reddmi', 'mobilenice', 'buckp', 'excellentsound', 'jataback', 'apeksha', 'sleekish', 'lullaby', 'foubd', 'modelnise', 'mobilenew', 'lonch', 'beam', 'bestlcd', 'truck', 'superbbb', 'prdt', 'alwas', 'qualitysomewhere', 'thnk', 'finerprint', 'onderfull', 'baaki', 'amozon', 'justslow', 'howers', 'fingarfrint', 'luckying', 'uahah', 'parim', 'suporb', 'assome', 'okkkk', 'phohe', 'diswas', 'powerbank', 'phoney', 'confrigation', 'processorand', 'senset', 'amny', 'feayures', 'lagega', 'sirmy', 'callanced', 'budgetbest', 'pricegot', 'knowpeople', 'fing', 'sen', 'opinionin', 'moneyits', 'consworst', '8998', 'prive', 'lowfor', 'poort', 'payin', '6800', '10storage', 'sensers', '10build', '10looks', 'uthoob', 'personyou', 'redmi9too', 'disadvantagescamera', 'uselessdisplay', 'badmicro', 'aswell', 'gutterchap', 'currior', 'magnificent', 'increadible', 'asthetics', 'ddr4', '6xx', 'series2', 'storage3', 'inr4', 'provios', 'phonecons', 'deadly', '264ppi', 'crupmy', 'adware', 'unauthorised', 'draing', 'building', 'possiitive', 'issulated', 'procedures', 'supplier', 'purchaseprosdisplay', 'crashesh', 'miuiconclusionif', 'puposes', 'itand', 'itotherwise', 'mannerism', 'producton', 'chitted', 'creamish', 'winner', 'pile', 'mywife', 'games3', 'skin4', 'grippy', 'texture5', 'fledge', 'wellnonetheless', '21but', 'purhase', 'crucial', 'toooooo', 'gamescamera', '5it', 'cushion', 'sofa', 'observered', 'competed', '7149', '2400mah', 'devolve', 'views', 'bying', 'uasge', 'disappinting', 'befool', 'dubious', 'withamazon', 'resource', 'g5s', 'assembled', 'advantages1', 'cheaptest', 'volta', 'sim4', 'procure', 'storage5', 'disadvantages1', 'connectivty', '2500', '6150', 'pathatic', 'expiration', 'exorbitant', 'dozen', 'misguide', 'ui12', 'discuss', 'dynamically', 'charming', '45day', 'frequentlytouch', 'smoothlyafter', 'optionsthis', 'moneythe', 'sed', 'preposal', 'varify', 'digonosis', 'expense', 'wapis', 'magaya', 'nikalta', 'teen', 'teens', 'theyvare', 'shivakumar', 'haphazard', 'propotional', 'redmi8', 'nnow', '8799', 'twin', 'tri', 'g10', 'notorious', 'homely', 'enoughbought', 'utilize', 'veryvery', 'rockzzz', 'apto', 'continually', 'manipulate', 'aggarwal', 'plaza', 'mangalam', 'palace', 'm2k', 'rohini', 'com', 'stack', 'kept', 'focused', 'inputbox', 'knew', 'messenger', 'googlemeet', 'redmi9activ', 'outing', 'usageha', 'oneif', 'goodbatter', 'hourscharging', 'hourcamera', 'typeit', 'sometimesif', 'pugb', 'sentence', 'camaras', 'thanking', 'million', 'prolong', 'down2', 'had3', 'carpal', 'tunnel', 'syndrome', 'surgery', 'wave', 'withing', 'palying', 'redmiy3', 'actulalky', 'webx', 'motive', 'sick', 'thanksshashikant', 'jaake', 'apni', 'maa', 'chudao', 'yiu', 'mentikned', 'bateert', 'diwnload', 'wad', '2010s', 'regeret', 'afte', 'nani', 'gsmes', 'wcc3', 'wcc2', 'multitasker', 'easily3', 'res', 'appsfinal', 'storagecolour', 'blackdont', 'minium', 'rely', 'longfingerprint', 'wetcamera', 'fineperformance', 'gamebut', 'exists', 'hairs', 'complainover', 'sends', 'frequency3', 'hotspot5', 'modethese', 'honey', 'byebye', 'probmm', 'mnth', 'unloce', 'standof', 'dident', '4gbram', 'bach', 'ihave', 'interval', 'marchfrom', 'workingthat', 'claint', 'refundand', 'gooddon', 'dissapoint', 'sound3', 'ease5', 'experience7', 'toocons', 'avg2', 'products3', 'blackout4', 'outoff', 'kinds', 'mislead', 'kool', '720x1600', 'proprietary', 'micron', '512gb', 'measure', '164', '00mm', 'height', '196', 'accelerometer', 'wifei', 'seventh', 'lifetimeanyway', 'teamworki', 'teamwork', 'coronavirus', 'renew', '23gb', 'keypayd', 'defact', 'hva', 'etold', 'portgood', 'deleted', 'toss', '9activ', '64x4gb', 'osmamazing', 'experienceall', 'onemind', 'phonespecial', 'manu', 'jainco', 'founder', 'milot', 'chargger', 'supiror', 'featurestic', 'recorded', '2200', 'redmi3', 'survives', 'logic', '8am', 'thoughbut', 'performanceoverall', 'screenlook', 'problemit', 'chipper', 'pro7', '2100', 'newbie', 'wating', 'minitue', 'chargedisplay', 'missingcamera', 'availabledisplay', 'movieslight', 'utterflop', 'olden', 'ratingsfront', '10rear', '10facelock', '10weight', '195gm', 'phoneaverage', 'speedbad', 'phoneweight', 'nowbattery', 'gifted', 'marriage', 'anniversary', 'thankew', 'strted', 'arrangement', 'jumble', 'distraction', 'redmi7', 'unstable', 'playlist', 'ok5', 'verdion', 'vital', 'markalso', 'transferrest', '118', 'compensation', 'aso', 'compatinle', 'topbox', 'postive', 'cameravolume', 'cl', 'itamazing', '10kbelive', 'booting', 'debug', 'heyhighly', 'buddha', 'buddhi', 'frozen', 'budgget', 'vja', 'm10', 'defult', 'succesfully', 'fluently', 'wrostee', 'bark', 'cabinet', 'txtin', '8ball', 'pool', 'xchange', 'raghav', '126gb', 'clutter', 'dismayed', 'tall', 'chummeswari', '36hours', 'comperd', 'mentiond', 'enhanced', 'tfd', 'uber', 'ola', 'yahoo', 'straightly', 'usbpositives', 'closely', 'queen', 'chapris', 'laster', 'goor', 'hileo', 'sensior', 'roblox', 'horizontally', 'vertically', 'primebut', '3ft', 'garilla', 'k10pro', 'desktop', 'rubish', 'reached', 'improvementawesome', 'designfingerprint', 'millisecond', 'zooming', 'fornits', 'xda', '7559', 'aunty', 'gerprint', 'vender', 'prevent', 'unauthorized', 'okaishsound', 'callsbattery', 'emf', 'fitsthe', 'feb21', 'purchessed', 'purchesses', 'desided', 'antitus', 'antiton', 'yeaton', 'yea', 'batterry', 'othere', 'taks', 'propertier', 'disappontted', 'waste2', 'uninterrupted', 'thinh', 'origional', 'properky', 'retuned', 'slap', 'fixtures', 'wealth', 'badcharger', 'thisi', 'rotet', 'j2pro', 'program', 'automaticallyi', 'helpline', 'reseal', 'plsease', 'remains', 'processeser', 'conk', 'amout', 'susceptible', 'immensely', 'awasomnot', 'missed', 'problems1', 'ganna', 'perfom', 'means', 'produtt', 'vander', 'permanentthis', 'bothoffu', 'fitt', 'pakeging', 'risky', 'sahred', 'otherwide', 'mpbile', 'mpre', 'thong', 'duplicateobile', 'evercamera', 'teamjust', 'mobilebut', 'lessen', 'receptive', 'beneficial', 'idol', 'higly', 'inadequate', 'msges', 'bothheating', 'dustbinthe', 'unclock', 'workand', 'othercons', 'issuesoverall', 'dependable', 'atomatically', 'dramatically', 'samaung', 'slooks', 'fairbattery', 'lever', 'daru', 'realised', 'tochange', 'waranty', 'womencamera', 'badprocessor', 'okaydon', 'loveraverage', 'chla1', 'fullhanging', 'problems2', 'chargeging', 'corated', 'madorchodo', 'garbageeach', 'itwaste', 'freek', 'newrefurbished', 'receivedwhen', 'actuallyvery', 'similarconfig', 'compitable', 'vecare', 'replacmnt', 'arrnge', 'asure', 'tht', 'phoneevery', 'badinstead', 'primeit', 'priceredmi', 'excellent2', 'fine3', 'average5', 'achievable', 'cater', 'usefulness', 'notched', '9000k', 'storage2', 'life3', 'sensor4', 'designcons1', 'hanging3', 'games4', 'voice5', 'pase', 'mhnga', 'wud', 'bil', 'chahie', 'kavvari', 'utha', 'dijiye', 'markscreen', 'scrolling', 'tuffon', 'magnetto', 'rectfy', 'amazonhence', 'starcannot', 'java', 'gamesmi', 'fory', 'trucaller', 'spects', 'smartphoneslike1', 'phone2', 'versioni', 'filemanager', '55gb', 'lenovobut', 'selfiecons', 'sunlight2', 'mark3', 'cling', 'buildup', 'xiaomino', 'amazonwhat', 'conpanies', 'goodandroid', 'goodapps', 'worstdisplay', 'poorand', '9000inr', 'agreement', 'phonesworking', 'ipad', 'strongdisplay', '720pprocessor', 'handlingwhile', 'heatingmiui', 'satisfiingoverall', 'sevice', 'goodperforming', 'clour', 'pricethank', 'deliverythank', 'supereb', 'experence', 'expeceted', 'rertuen', 'realsise', 'correspond', 'selffi', 'aecond', '5value', 'regretting', 'refundi', 'ossmm', 'laptops', 'compony', 'fam', 'saath', 'kariyega', 'jigai', 'choicebattery', 'typse', 'justifiable', 'rangea', 'qualitycolors', 'grandma', 'mobiletotal', 'whan', 'messing', 'speeddislike', 'actin', 'rhythm', 'stepshow', 'plese', 'exchanhed', 'rapid', 'bonding', '2750', 'refix', 'forthcoming', 'postponment', 'readme', 'ipl', 'addvertisement', 'in12', 'pricebattry', 'averagecamera', 'meno', 'usageno', 'conly', 'thair', 'redme9', 'peoperly', '60minute', '8890', '21a', 'v10thank', 'ovr', 'conducive', 'busted', 'dangerous', 'nos', 'invalid', 'mecamera', 'poorlacking', 'timetaking', 'openfingerprint', 'transit', 'told', 'tdon', 'productand', 'helper', 'problemaccording', 'transparency', '2007', '08i', 'qualityso', 'stouch', 'rhymes', 'properlyhanging', 'timesnot', 'walon', 'qlso', 'decided', 'momthanks', 'compus', 'tok', 'xxx', 'madhapur', 'enclose', 'tocrh', 'automaticallynot', 'usability', 'configures', 'festive', 'larg', '200mb', 'guranted', 'utube', 'toblisten', 'bakawas', 'utilised', 'doctor', 'peoplecas', 'wisecamera', 'genz', 'g70', 'satisifed', 'colordisplaybatterymemoryspeeddesignprocessorfinger', 'touchfaceunlockdedicated', '4gcons', 'support2', 'spilit', 'feature3', 'vanishes', 'reminderfor', 'boxproduct', 'regularlyi', '10konly', 'awsmmm', 'jelly', 'slow3', 'cheerio', 'timenot', 'managment', 'expectedlooks', 'goodworth', 'sugar', 'essence', 'byback', 'edmi', 'ceiling', 'fulfilled', 'prosuct', '5hz', '9000fingerprint', 'fasterbattery', 'tampered', 'scrutinize', 'ruf', 'tuf', 'splashproof', 'spilled', 'accidently', '10kroutine', 'spcs', 'rangenothing', 'makeup', 'face4', 'oppression', 'persn', 'ovaerall', 'negoitable', 'covercamera', 'srtar', 'mobilesthose', 'suparebcamra', 'extentdesign', 'amezinglook', 'niceall', 'proform', 'worstdo', 'itif', 'replacementno', 'seperately', 'null', 'definite', '8200', '9it', 'xiaomiprocessor', 'oneday', 'constuner', 'disappointinh', 'onavailable', 'panorama', 'backpouch', 'drastically', 'punjab', 'kerala', 'brout', '8500rs', '12hours', 'seene', 'returning', 'peedormance', 'mobe', 'guise', 'pricefeature', 'etcjust', 'restbut', 'under10000', 'proformas', 'iball', 'gagate', 'photoeven', 'outworst', 'seendon', 'geolocation', 'lige', 'reduces', 'whn', 'wednor', 'pickiup', 'powered', 'mover', 'excellentprocessor', 'gbcharging', 'slowif', 'uniquely', 'mi', 'cht', 'civilise', 'influenced', 'poorcamera', '11months', 'infact', 'audoi', 'qualitybatter', 'longdoesn', 'earliermiui', 'bloatwaresdoesnot', 'wannna', 'moneycpu', 'g35display', '10wcamera', 'cone', 'smmothly', 'screenoverall', 'minutei', 'thisfingerprint', 'inprove', 'qualiry', 'cleraty', 'speakar', 'buynot', 'plss', 'ledhu', 'chestam', 'annaru', 'adi', 'pone', 'chesthunnaru', 'success', 'hosur', '3000rs', 'brandfeatures', 'properlygood', 'finegets', 'soap', 'applicationseven', '9good', 'classvalue', 'and64gb', 'storaged', 'notthat', 'configurationcompact', 'productsteady', 'mobilelooks', 'burden', 'turned', 'interrupted', 'peformance', 'aproximately', 'withing10', 'blar', 'fantasticl', 'propar', 'expated', 'goodso', '9000and', 'scannee', 'indication', 'haichalne', 'haiisase', 'nahinsasta', 'haiphoto', 'tej', 'kit', 'expectedotherwise', 'pholo', 'movement', 'backupgood', 'y21', 'is70', 'onlybest', 'amazonthank', 'satand', 'approximate', 'thid', 'wok', 'purshches', 'earing', 'it2', 'bad3', 'week4', 'weightless', 'orde', 'policis', 'quickbattery', 'wellgo', 'productfull', 'worthly', 'moneyi', 'internallymi', 'samephone', 'myth', 'amazonbut', 'fentastic', 'referace', 'wnat', 'samaj', 'denge', 'tosahi', 'uski', 'majboori', 'mahatmag', 'crapy', 'onenot', 'moneypoor', 'backdon', 'retune', 'amazoni', 'speedthen', 'fineplease', 'beautfiul', 'rcvd', 'chargingcamera', 'm10only', 'opponent', 'calm', 'okkphone', 'optionno', 'toolboxdon', 'superboverall', 'qualities', 'tarnish', 'passable', 'forbattery', 'nicecamera', 'somtimes', 'lagsand', 'remi', 'maxtouch', 'pritty', 'bayerry', 'blincking', 'didnnot', 'productyour', 'deficient', 'duck', 'squad', 'infront', 'diligence', 'deadline', 'poterate', 'toodoesnt', 'type2', '6hours', 'allready', 'seacond', 'bazaj', 'umm', '9prime', 'exept', 'donemeans', 'consthey', 'camarabut', 'threeseems', 'phoneprosworth', 'moneyall', 'resived', 'froad', 'markbuy', 'intime', 'amazongud', 'claritybattery', 'avaragebattery', 'parchased', 'reare', 'workingapps', 'stopwhen', 'stopbattery', 'superrr', 'lovethis', 'pricedislike', 'morethink', 'awell', 'awesometimely', 'dissapponted', 'likeed', 'ised', 'liability', 'communist', 'spesker', 'tram', 'quatilty', 'podakt', 'disple', 'laenig', 'horriblebad', 'qualityseems', 'misture', 'trending', 'okcamra', 'slowin', 'tecnician', 'vizit', 'afternoon', 'qualitydisplay', 'shunt', 'asst', 'saving', 'phonein', 'optionas', 'butthe', 'closedi', 'doworst', 'isiliye', 'khola', 'vharging', 'prodects', 'burnt', 'lic', 'pov', 'stops', 'amazondon', 'qualitytheir', 'goodrest', 'batteey', 'miniute', 'gat', 'qualityapart', 'underperformance', 'instaed', '10in', '10sensor', 'redmis', 'vareint', 'pric', '8month', 'ect', 'problemthankssanjeev', 'kumar', 'repairing', 'horizontal', 'labour', 'fulfillment', 'postion', 'qualityb1', 'joyful', 'multifunction', 'nphone', 'hairepair', 'ejection', 'bache', 'jaan', 'loge', 'hin', 'beacause', 'pointbut', 'superly', 'modebut', 'osome', 'pewcher', 'sife', 'thinkin', 'ian', 'averageoverall', 'mtr', 'shark', 'hanges', 'bulshit', 'peiduct', 'thisvprice', 'replacmdnt', 'problemslow', 'callsfront', 'renge', 'dislikereceived', 'answerkindly', 'bedget', 'amzozn', 'goodplay', 'matching', 'goodexcept', 'dalkar', 'anusar', 'exllant', 'okaaish', 'backdrop', 'runsa', 'fufilles', 'colur', 'businessfantastic', 'deliveryi', 'household', 'baddisappointed', 'upe', 'mobilebattery', '30a', 'm11', 'ohk', 'productcan', 'starter', 'starsworst', 'notbattery', 'betterbut', '28days', 'diktat', 'dalo', 'userfriendly', 'itits', 'ram4', 'partial', 'littile', 'musy', 'lifeno', 'includingaverage', 'soe', 'buythis', 'imoroved', 'dull2', 'manager3', 'prons', 'optimum', 'sugeested', 'mone', 'resemble', 'unistall', 'worstotherwise', 'proem', 'offical', 'bedno', 'picturevery', 'detach', 'badphone', 'priceless', 'dismal', 'alsodo', 'grandfather', 'bakup', 'proformonce', 'unboxingall', 'vastav', 'kmal', 'trim', 'vetriselvanpuducherry', 'mobilejitna', 'fracelet', 'stoppes', 'calk', 'policyafter', 'smiling', 'exchage', 'letdownbelow', 'malfunctionthe', 'antena', 'weeknot', 'boylooks', 'goodreasonable', 'pricepictures', 'resenable', 'disturbuns', 'usemobile', 'wajah', 'dammaged', 'scramble', 'horribly', '5perfomance', '5good', 'desirous', 'fuzzy', 'diappinted', 'for12', 'issuealready', 'twicestill', 'remainsthey', 'partbut', 'produ', 'chep', 'verylaw', 'properlyi', '3month', 'swollen', 'charageing', 'mobiledon', 'mask', 'sanitizing', 'sonud', '7months', 'dustbin', 'blurand', 'anythingplease', '16mbps', 'router', '9months', 'collegues', 'hecticno', 'responseand', 'jut', 'purchae', 'etcsuper', 'slowsir', 'thaa', 'haibut', 'nahinphone', 'dikhai', 'phonebattry', 'damageautomatic', 'scrooll', '13mp2', 'skreches', 'nevery', 'peripheral', 'awaz', 'btayen', 'btao', 'configurationmust', 'isaki', 'prosesing', 'sistam', 'qualitytooo', 'prooved', '3daysgaming', 'ouput', 'greatcam', 'satisfiedalso', 'badamazon', 'doc', '30sec', 'tention', 'sal', 'hon', 'butdon', 'andmagnetic', 'warenty', 'handynice', 'smothly', 'recorde', 'yers', 'daddy', 'cheatrelay', 'mode3', 'chargerno', 'coverpoor', 'qualityonly', 'bettety', 'customet', 'chang', 'badprice', 'oki', 'goodcamara', 'oneslow', 'achhha', 'chalata', 'costi', 'wifereally', 'displayvery', 'blogger', 'witdh', 'unexpectedlyon', 'phonepls', 'fabolous', 'quilt', 'gootbut', 'brighness', 'greatttttt', 'bhanged', 'vao', 'at10k', 'nowthe', 'baitory', '5ram', 'louderbattery', '18hrs', 'awaj', 'gyi', 'compire', 'ishuesh', 'ayer', 'exchang', 'serviced', 'replcament', 'aline', 'sidei', 'blady', 'acc', 'budet', 'serviceit', 'usewaste', 'stone', 'simbal', 'plea', 'scren', 'cheeze', 'lokkwise', 'xolo', 'vgarear', 'worked', 'esme', 'redt', 'monny', 'ishka', 'memori', 'picher', 'fixel', 'fatte', 'hmari', 'rakam', 'hamare', 'orignal', 'bheje', 'shivansh', 'picsal', 'masti', 'secensetive', 'picup', 'productsensors', 'fabulousbig', 'sizeand', 'pixell', 'adress', 'worstphone', 'hearable', 'vedic', 'reconact', 'fatally', 'thisthis', 'unexpectedlythis', 'restarting', 'worstspeed', 'slowplease', 'nagging', 'hangcan', 'flatness', 'wate', 'bling', 'servicescamara', 'sensibility', 'lowlow', 'suffering', 'deception', 'aakuthu', 'okayishdrawbacks', 'arelow', 'sounddifficulty', 'purse', 'propre', 'bna', 'paogey', 'budgetredmi', 'perchesd', 'sign', 'siddu', 'wrust', 'pappy', 'delevard', 'buisness', 'degin', 'sheerness', 'disgn', 'classroom', 'pricei', 'oning', '1no', 'pakate', 'kardo', 'eisi', 'kabdhi', 'dekhi', 'seee', 'bedand', 'merory', 'broad', 'avaible', '2ghz', 'productback', 'vertion', 'productsihave', 'l', 'complanis', 'pointscamera', 'pointsscreen', 'pointsout', 'averagesensor', 'admire', 'moneyfulfil', 'vibrabt', 'redneck', 'bdhiya', 'hack', 'ludicrous', 'sayad', 'disastar', 'proxomity', 'traveller', 'rider', 'traking', 'zindagi', 'lunga', 'atakna', 'chalu', '18th', 'nasty', 'activitiesfeels', 'handleno', 'muchbattery', 'senator', 'productdisplay', 'buyinitially', 'latter', 'fingarprint', 'worker', 'phonr', 'batterycamera', 'alike', '13m', 'bequase', 'markproximity', 'faculty', 'thaan', '7700', 'itthnxs', 'sensorgood', 'accupaid', '14gb', 'upmany', 'thiscamera', '2aneed', 'isshu', 'phonehandy', 'sin', '10v', 'calibration', 'kachhua', 'plone', 'qlty', 'refurnised', 'hungging', 'receives', 'cameralike', 'resultsvery', 'shld', 'goodsimply', 'cambra', 'faar', 'volune', 'wattapp', 'imo', 'replay', 'evrrr', 'quickley', 'baittery', 'compassir', 'scream', 'naivery', 'rengne', 'unexpectable', '8100', 'understood', 'cautious', 'suprb', 'productu', 'mostique', 'fly', 'badwest', 'coast', 'evergreen', 'ato', 'fallen', 'appreaciable', 'pasie', 'hoo', 'accurately', 'rs9500', 'suuperb', 'nephew', 'giftbfor', 'asked', 'costomer', 'aachh', 'donald', 'chaina', 'multitaskingcamera', 'productit', 'phonethere', '4videos', 'krunga', 'lye', 'dousnt', 'picksup', 'noramal', 'mobilecover', 'tuffun', 'andbest', 'backuptotally', 'ginger', 'beatty', 'project', 'sunny', 'watermark', 'goodspeed', 'normalcamera', 'meray', 'dublicate', 'hay', 'mujay', 'qauality', 'sould', 'roviding', 'avrez', 'availablecamera', 'badwastes', 'megnitometer', 'direction', 'megnetometer', 'missingdisappointed', 'raning', 'goodmobile', 'lame', 'unfaithful', 'uff', 'reebots', '1minute', 'ican', 'ieven', 'jindabad', 'basecamera', 'rectification', 'strap', 'rebooting', 'itto', 'grandson', 'poo', 'yaad', 'configaration', 'comparating', 'amt', 'exallent', 'acording', 'vassal', 'batterynis', 'fifteen', 'aways', 'odnery', 'noquwality', 'garud', 'giftted', 'phona', 'expt', 'dimensional', 'bestbut', 'proceeding', 'atal', 'recuev', 'andscreen', 'iwas', 'qualityperformance', 'schreen', 'evarag', 'possibility', '7600', 'veer', 'recommen', 'unhesitatingly', 'worthble', 'markelse', 'income', 'sift', 'bule', 'exelet', 'gothis', 'girlfriend', 'jitni', 'bigboss', 'mant', 'kitne', 'wasgood', 'procesing', 'oftendon', 'goodas', 'aswem', 'friendlyeasy', 'formoney', 'porper', 'secs', 'productspeaker', 'wellhuge', 'fablous', 'badno', 'changesolve', 'restate', 'tood', 'qulaittis', 'goodamazon', 'nicc', 'valuble', 'liberty', 'seenno', 'maya', 'karsakta', 'mentionedin', 'haiisliye', 'gamerx', 'daysscreen', 'misbehave', 'magar', 'battiri', 'mobiledo', 'purchasethis', 'aftrr', 'nalla', 'iruku', 'vangal', 'lolipop', 'averageonly', '1hr30', 'productin', 'batttery', 'evrythgn', 'mobileavrithin', 'workingand', 'atracting', 'glising', 'colourgood', 'valluy', 'ofmoney', 'gard', 'prev', 'wiht', 'tubelight', 'picscreen', '5sounds', 'preloadedi', 'gamesno', 'fmannoying', 'awareness', 'tun', 'fos', 'upgaradation', 'averge', 'in16k', 'strong3', 'texted', 'itself4', 'complaining', 'hilarious', 'letdown', 'fiber', '100mbps', '1gbps', 'vidmate', 'crashing', 'meme', '30hz', 'retrun', 'sufficiently', 'rate6', 'gopd', 'ircons', 'metropolitan', 'experience3', 'display4', 'box2', 'sience', 'yoh', 'frustated', 'awesomesee', 'dissipates', 'incorrectly', 'jitters', 'underperforms', 'occasional', 'giveas', 'huff', 'batteryhealthy', 'singals3', 'complaints5', 'services6', '20257', 'appliance', 'dth', 'ac', 'etc8', 'light10', 'well15', 'darker', 'rural', 'timeverdict', 'impressivescreen', 'dayligjt', 'clearspeaker', 'loudcamera', 'jittersfinal', 'indicatar', 'watapp', 'maneger', 'dekhtay', 'esey', 'kaya', 'banaa', 'darshan', 'chotay', 'jeet', 'foreign', '200m', '1000m', 'inaccurate', 'oversharpening', 'camera2api', 'phonesaudio', 'reduction', 'precise', 'oven', 'linear', 'vidoes', 'unbalanced', 'literal', 'exaggeration', 'vram', 'fingerprintscons', 'alex', 'integration', 'asthis', 'f12', 'bluetooths1', 'neo', 'and2', 'proare', 'earbudscamera', 'disappointingi', 'miui13', 'supported5', 'obligation', 'lost', 'weeksa', 'user1', 'places2', 'missing3', 'awkwardly', 'touched4', 'shockproof', 'purchasednot', 'escalate', 'memorable', 'devloped', 'skip', 'mark4', 'grasp', 'tendency', 'andcharging', 'conspros', 'township', 'pradeepkumar', 'shortly', 'youll', 'warms', 'consumptiongamers', 'nevet', 'amazon1', 'simultaneously2', 'piece4', 'furthermore', 'road', 'thet', 'selleing', 'worstworstworst', 'perfomances', 'relaised', 'reddit', 'downgraded', 'ascend', 'hata', 'rate1', 'much2', 'day3', 'goodwithin', '15minutes', 'charge4', 'samsung5', 'noise6', 'processorcons', 'viewer', 'thirteen', 'gradient', 'irl', 'uis', 'needa', 'receptionother', '810', 'draines', 'shouldnt', 'becausr', 'featuresbattery', 'goodover', 'vallur', 'turbocharger', 'awesomequality', 'goodweight', 'handbattery', 'qualityfinger', 'caint', '11300', '10800', 'comparision', 'underneath', 'charger2', 'range3', 'box5', 'disclaimer', '10sbut', 'thatsy', '3stars', 'note10s', 'highlightsgreat', '90hzbattery', 'discover', 'ptsvery', 'slowgets', 'hangedresponse', 'delayedgood', 'pointsdisplay', 'finereview', 'resume', 'afresh', 'consent', 'zomato', 'swiggy', 'agony', 'poorif', 'recamanded', 'aweful', 'visibly', 'stuggles', 'hcamera', 'lowisse', 'aajte', '11very', 'camerafront', 'haivideo', 'trh', 'haiback', 'landi', 'padhiye', 'katega', 'apka', 'milegawhatsapp', 'sbd', 'sch', 'dispointing', 'taise', 'kah', 'krengethank', 'peak', 'availablity', '179', 'barometer', '12500rs', 'dhokha', 'vahi', 'khulta', 'aise', 'kyoni', 'aate', 'leki', 'kyno', 'rahibattery', 'vagere', 'jaldhi', 'hailook', '11t', 'fansiyega', '26days', '8phone', '6times', 'stl', '3working', 'amazonthis', 'smoothsound', 'speakerseasy', 'alla', 'fling', 'lava', 'kepts', 'damly', 'charge16k', 'shutterbug', 'goddmn', 'eff', 'applicatons', 'positv', 'energy', 'handlooks', 'grtdisplay', 'perfectngtv', 'avrgsound', 'avrg', 'citibank', 'resending', 'missingthis', 'seam', 'ohh', 'unnoticeable', 'row', 'timeshere', 'photo3', 'expectedbetter', 'skype', 'recordinggood', 'handovered', 'gernal', 'haptecs', 'awesomeall', 'hefty', 'portray', '2dayscamera', 'poorfinger', 'slowapps', 'hangsmobile', 'hangsback', 'shallow', 'glarity', 'screensound', 'chalaonot', 'thisperformance', 'moderateit', 'whastp', 'etcnot', 'gamersyoutube', 'upto1080pphone', 'handyamoled', 'uffff', 'megapixl', 'lagger', 'worsy', 'remembers', 'colure', 'hangsi', 'lightweightstorage', 'budgetoverall', 'monththis', 'fast90', 'goodsometimes', 'essueu', 'reallyand', 'disk', 'conferencing', 'closure', 'chlaya', 'chlane', 'district', 'ptaa', 'lgane', 'at13', 'calrity', 'kiski', 'krdo', 'dikahata', 'inshort', 'badpic', 'balck', 'cameraalso', 'deviceprocessor', 'goodu', 'zada', 'pap', 'behkr', 'mano', 'wesw', 'issuescamera', '5quick', '5provided', '8fingerprint', '8network', '7that', 'displaybuilt', 'sgood', 'backupturbo', '33wcons', 'camerabelow', 'goodwe', 'disorted', 'wah', 'ankh', 'umid', 'khasa', 'khila', 'para', 'adha', 'iwm', 'usedprocesser', 'smoothlymemory', '64gbdisplay', 'bigspeaker', 'slowso', '12500after', 'downnow', 'wiered', 'tryimg', 'lagsdecent', 'issuesconclusion', 'boxphone', 'lightvalue', 'dealer', 'reschedule', 'durning', 'amazes', 'rangeutterly', 'attemts', 'timesthe', 'itwas', 'fasing', 'modrate', 'expected1', 'calls2', 'par3', 'hanging4', 'problemadvantages', 'stunner', 'charges33', 'hrsawesome', 'mototrola', 'youre', 'cameramy', 'devicedesign', '128gm', 'amoledthis', 'designinhand', 'rate4', 'chipsetcons', 'cameras2', 'videos3', 'weaks', 'complication', 'purchasex', 'excellents', 'rply', 'gira', 'pani', 'rahega', '5500', 'repacking', 'dub', 'nuksaan', 'born', 'apr1', 'slowi', 'thislittle', 'fanblindly', 'mobilit', 'ana', 'nehidisappointed', 'rven', 'sizedisplay', 'idlecash', 'wordt', 'xiomiindia', 'amazonservice', 'at13499', 'hahaha', 'foroffice', 'anunce', 'opposit', 'plugout', 'chiat', 'companyvery', 'liy', 'lenaradmi', 'aarha', 'hpese', 'bikhar', 'rhaimene', 'consyou', 'bolt', 'obuild', 'availableno', 'paresnts', 'reduced', 'hangingtotal', 'conectivity', 'crarsh', 'brawl', 'police', 'unaffordable', 'asianet', 'sapp', 'regreating', 'goat', 'delusional', 'disappointedwhen', 'properlytoo', 'usge', '6500', 'exuberant', 'frony', 'snapy', 'event', 'febstill', 'mad', 'properlyafter', 'wrostwhat', 'destroy', 'oneplus8t', 'lika', 'hood', 'lagggy', '690', 'okiesh', 'fry', 'coockies', 'wth', 'aswome', 'n0te11lub', 'jusk', 'isp', 'upmark', 'chargedno', 'issuefingerprint', 'fastdisply', 'goodfront', '20to', 'usenot', 'pressthe', 'rangemiui13', 'krugaaa', 'jydaa', 'whi', 'bkwasss', 'fluctuates', 'sarvec', 'poorrest', 'formthis', '13498', 'givee', 'mahsmart', 'okish', 'formate', 'connectingnetwork', 'problembattery', 'additionally', 'gamingrear', 'averagefront', 'poordisplay', 'depends', 'usagefingerprint', 'xioami', 'hinting', 'profarmence', 'plesend', 'wich', 'frustration', 'produuctworst', 'timewaste', 'jaandar', 'cameraafter', 'litall', 'beastlove', '11sexxiest', 'batteryscreen', 'cameraspeed', 'pointgood', 'performancebetter', 'speakersbad', 'optiononly', 'userscamera', 'pricenot', 'mbps', 'goodnew', 'phonescamera', '50mpdisplay', 'haiprice', 'bahat', 'buymera', 'chata', 'inko', 'displyay', 'amloed', 'poorcharging', 'sodual', 'neatly', 'flow', 'lieu', 'posible', 'likecamera', 'phore', 'letest', 'rigorous', 'proby', 'itsa', 'huawei', '13999rs', 'awesomw', 'lifespeaker', 'sdislikes', 'uiunwanted', 'sno', '5nm', 'ratefinal', 'likevery', 'paa', 'dely', 'goodredmi', 'rangefaster', 'anouncement', 'niver', 'thunk', 'asseries', 'fingar', 'displayare', 'authenticity', 'noproblems', 'insure', 'facingmiui', '7times', 'oldits', 'handu', 'markating', 'arhe', 'heeating', 'oreska', '1hrz', 'mnt', 'displa', 'crual', 'lazy', 'ossum', 'screencons', 'pix', 'ngl', 'working2', 'good5', 'lagsoverall', 'price10499', 'difrent', 'weys', 'dealy', 'haiaround', 'weightlees', '54gb', 'availabe', 'committed', 'unforeseen', 'mobilebattry', 'goodproceccing', 'averege', 'camerado', 'usebig', 'rs13499', 'prit', 'netsurfing', 'marknot', 'detectable', 'speeds', 'ping', 'shower', 'courtesy', 'disoppinment', 'stuk', 'sapce', 'onlyplease', 'pie', 'undetected', 'overpricedmay', 'profomannce', 'addsdevice', 'heiski', 'tulna', '549', 'viewable', 'usnig', 'phoneback', 'accompany', 'erritating', 'crime', 'exea', 'apear', 'stablity', 'performancepoor', 'cameraif', 'mobilemobile', 'camers', 'dislpay', 'clearityworth', 'sux', 'compack', 'redmdi', 'performerd', 'morespeaker', 'networking', 'wel', '90hzprocessor', '14700', 'productnot', 'interestingredmi', 'companynot', 'poorconvitivity', 'nillhanging', '2666', '2999', 'tange', 'chalau', 'a12', 'productamazing', 'lifeamazing', 'htry', 'colormobail', 'satured', 'dissappointed', 'shy', 'bho', 'maja', 'lemmted', 'imagesprocessing', 'piscals', 'slowlyand', 'markothers', 'improvised', 'accordingto', 'repairment', 'devicei', 'poora', 'featuresbad', 'monthbuy', 'mgha', 'fethure', 'notaverage', 'excllent', '12000good', 'performancedual', 'improvise', 'megapixle', 'purane', 'becha', 'baher', 'daag', 'exsalant', 'okaybattery', 'freezing', 'unsetefied', 'dadhe', 'amolled', 'pricedon', 'rebut', '11147', 'sometimescam', 'poorapps', 'iso', 'moo', 'workingfingerprint', 'properlyhotspot', 'worknetwork', 'satisfief', 'inlow', 'applicatin', 'note11very', 'rangevery', 'cameradecent', 'lookgo', 'alll', 'gull', 'bery', 'chargine', 'whtsap', 'dyler', 'medoa', 'niceawesome', 'segmentnice', 'stified', 'awesomefront', 'averageallover', 'averagebeatty', 'desion', '90htz', '6pro', 'gursharan0005', 'misbehaves', 'exlant', 'poroperly', 'allso', 'averageliterally', '11and', 'weightworth', 'moneyamazing', 'fraudster', 'excluding', 'professor', 'badotherwise', 'decentcamera', 'gadi', 'akar', 'abb', 'garibi', 'gila', 'note11camera', 'phoneeske', 'aggressive', 'causal', 'brands', '13450', 'fiction', 'fastbettery', 'consumedcamera', 'superrrrr', 'heatingcamera', 'lackingand', 'twenty', 'purchaseable', 'medias', 'nikalnai', 'ummed', 'rakhna', 'availableredmi', 'cor', 'mukti', 'phenomenon', 'smear', 'smartphonebattery', 'm4pro', 'price13000', 'advace', 'fetures', 'telephone', 'ischarged', 'reopen', 'recordingoption', 'daycamera', 'goodsd', 'diler', 'nece', 'ghtia', 'parformens', 'unsatisfieddon', 'churaliya', 'productgood', 'attachment', 'beckup', 'promering', 'goodzoom', 'fabulas', 'leggy', 'shelfi', 'mashallah', 'baj', 'ssmall', 'brightens', 'istall', 'ntng', 'dinn', 'produst', 'agaya', 'cameraother', 'andsound', 'problemnot', 'axpected', 'defferent', 'oms', 'quota', 'baterry', 'menagement', 'chali', 'superbdisplay', 'flopp', 'mmx', 'gajb', 'empress', 'hamg', 'vvbad', 'workung', 'uttam', 'roughf', 'problums', 'kau', 'karab', 'tohka', 'owmsome', 'shoking', 'atvlow', '3fetures', 'bkawaas', 'wonderfull', 'woww', 'bakwaaaaaaaaaaaaaas', 'fudu', 'fromt', 'dikdhak', 'amejig', 'warist', 'complainte', 'sexi', 'thaak', 'bukwas', 'gosh', 'bkwass', 'goo5', 'yas', 'gen', 'okcons', 'unreal', 'redmicamera', '11now', 'inspire', 'starbrust', 'suprisely', 'lithium', 'servive', 'wekipedia', 'ecosystem', 'f23', 'imx355', 'galaxycore', 'gc08a3', 'imx471', 'exmor', 's5k3l62', 'hz3', '960', 'fps4', 'back5', '732', '250', '248', '639', 'landscape', 'portrays', 'sd665', 'suuuuucks', 'cent', 'caution', 'lound', 'honest1', 'beacsue', '5mp2', 'quickly4', 'sd7', '96con', 'mejor', 'goodbest', 'phone4g', 'reachability', 'cudn', '90hzaudio', 'recommendolder', 'ramphone', 'appbad', 'buybogus', 'draning', 'secondworst', 'erros', 'disappointedwe', 'inda', 'productyou', 'want1', 'charger4', 'requirment', 'successor', 'mesmerize', '5g3', 'improvementpros', 'blaster4', 'charging5', 'lightweight6', 'speakers7', 'agoand', 'awesome2', 'use3', 'maxthe', 'wasnt', 'averageupdate', 'redmi1', 'bloody', 'throught', 'reddish', 'hninstagram', 'hnjis', 'haramkhor', 'usee', 'rombut', 'thereafter', 'pnone', 'kinlei', 'thoke', 'jaben', 'tai', 'ekdom', 'kinben', 'haptica', 'gorillaa', 'camerasnot', 'bestbattery', 'chargefast', '30minute', 'bugsno', 'stillscreen', 'issuecamera', 'workingno', 'valentine', 'sue', '5ir', '5unnecessary', 'gine', 'mobilebudget', '2022camera', 'awesomebuild', 'toughbattery', 'snapdragom', 'steady', 'obstacle', 'shrink', 'kahin', 'choona', 'khrb', 'yhi', 'jldi', 'krugi', 'sensorno', 'charginglove', '668', 'woke', 'theonly', 'asowme', 'averagephone', 'gamesincoming', 'worstfuctionality', 'pooroverall', 'phonebekaar', 'haibohot', 'haiautomatic', 'hspeed', 'scare', 'bakwaaaassss', 'beautifullight', 'enum', '2varusathuku', 'ethukuda', 'ena', 'pantrathu', 'foundkya', 'aapke', '5ui', '5realme', 'phoneamazing', 'camerafinest', 'segementmazaa', 'gayasmooth', 'weightbut', 'lagg', 'joo', 'okaysound', 'gudcamera', 'fairfinger', 'okamoled', 'lookingdual', 'sprbno', 'issuefor', 'werest', 'lownot', 'goodthink', 'satisfiedsuper', 'performanceamoled', 'recommonded', 'chutya', 'raki', '41k', 'tooda', 'weightfingerprint', 'goodcolor', 'experince', 'buyy', '33watts', 'affter', 'greatcons', 'qualiti', 'podect', 'btry', 'moneyand', '15mp', '9speakers', '8display', '8camera', '464', 'phonebad', 'performancecall', 'confrance', 'issuemike', 'behaviyer', 'satisfication', 'mobileit', '120hzwaste', 'xiami', 'cartoon', 'writing', 'vibrates', 'placei', 'leskart', 'pooreoverall', 'mobilethis', 'feautures', 'netflixand', '5gb', 'avaregedisply', 'camora', 'goodsmooth', 'hadalig', 'everthis', 'avaialble', 'purposealso', 'recomemd', 'fingerbprint', 'lelobest', 'resultsbest', 'probalm', 'khareede', 'khareed', 'desing', 'ausome', 'dhaliwal2very', '11gud', 'bestlove', 'displya', 'sonds', 'mani', 'pohn', 'bekr', 'weightlooks', 'handcompact', 'holdcharging', 'mobilesdisplay', 'range90hz', '680slight', 'neededfingerprint', 'enoughstylish', 'designoverall', '11x', 'etcthis', '5all', 'boltware', '480p', 'listing', 'sparkling', 'golden', 'aqueacy', '45or48', 'mimic', 'rangecamera', 'awesomegame', 'goodprosesor', 'awesomecons', 'juice', 'coverbest', 'oversaturate', 'stron', 'etcgreat', 'displayso', 'pyaar', 'processorlove', 'processorcamera', 'bestlong', 'bettru', 'chargerlove', 'procerros', 'bound', 'havoc', '4inches', 'premium3', 'shacky', 'moled', 'case3', 'wondee', 'loathe', 'resin', 'composite', 'exceptable', 'samsungconclusion', 'target', 'krenge', 'shor', 'mcha', 'jeb', 'uchi', 'deewaar', 'chad', 'jaate', 'performce', 'subscribed', 'diagnostics', '60ghz', 'dayeven', 'rank', 'widewine', 'ranjit', 'defend', 'emmc5', 'fluidity', 'disregard', 'mandate', 'backcam', 'phone6', 'recognition7', 'available8', 'lockscreen', 'available9', 'processor10', 'display11', 'downand', 'sluggy', 'execution', 'chimes', 'mummy', 'chhapri', 'papa', '13h', '12h', 'advised', 'relatives', 'goodvideo', 'bestcamera', 'mile', 'habit', 'oversaturation', 'minuscule', 'calibre', 'depending', 'drainer', 'tad', 'criticise', 'checkup', 'processing2', 'refresh3', '4sec', 'm40', 'emphasize', 'toughen', 'reflective', 'topic', '108mp', 'hasselblad', 'casually', 'onto', 'semi', 'rog', 'consumes', 'sold', 'decemt', 'plainly', 'becuase', 'mismatch', 'awesomeno', 'allthough', 'woukd', 'drawn', 'actuallyaccidental', 'weirdo', '90h', 'displaysingle', 'saund', 'metersold', 'issuesmay', 'valon', 'haat', 'apna', 'karlo', 'themaine', 'diyasabse', 'm32better', 'fitures', 'belive', 'abot', 'exttemely', 'concurrent', 'durtion', 'cameea', 'proceszor', 'bagtery', 'mediun', 'ameloed', 'stabilizement', 'sheer', 'nudge', 'bizarre', 'mature', 'downwind', 'turndown', 'innumerable', 'justifies', 'y2and', 'enjoyed', 'frim', 'brtter', 'tedmi', 'acknowledge', 'stopper', '15749', 'misleading', 'dispatch', 'particle', 'compartment', 'torn', 'playinv', 'ecom', 'pho', 'smother', 'lookcon', 'replacemet', 'avargae', 'advantagedisplay', 'classui', 'smoothsidemounted', 'hulky', 'uion', '90ghzwifi', 'tws', 'wificallingbattery', 'rrputed', 'overhead', 'virbrated', 'faint', 'tolerate', 'usa', 'rearcons', 'freely', 'oneui4', 'updislikes', 'feel2', 'devi', 'consistently', 'considerably', '5few', 'unrestricted', 'refreshe', 'contribute', 'alli', 'monthsit', '1440p', 'selifie', 'consback', '720g', 'performancecharging', 'fullyby', 'usernot', 'gamersjust', 'brandsupport', 'phonesboycott', 'chinajai', 'fits', 'decline', 'netfilx', 'snapshot', 'witin', 'likesdisplay', 'goodlatest', 'versionbest', 'usersbattery', 'backupconcernscamera', 'stutterin', 'customizations', 'follower', 'played', 'jet', 'portable', 'dy', 'jerk', 'advertisments', 'bothered', 'g90t', 'thr', 'timeknox', 'phonecall', 'himsuperb', 'amazingvery', 'welland', 'updatesi', 'detoriates', '112501', 'bateery', '6000mah2', 'superb3', 'range5', 'compre', '6706', 'improtant', 'capchure', 'preformance', 'tamore', 'vert', 'aall', 'model3', 'bucket', 'displaycamerabattery', 'lifefit', 'bodycons', 'bloatwareif', 'onsgamekraft', 'clicky', 'cutout', 'intense', 'visually', 'underpowered', 'attraction', 'drug', 'hibernates', 'promotional', 'bombard', 'regrettable', 'breeze', 'twist', 'yawn', 'apps2', 'qualtiry', 'slefie', 'plasticif', 'contactapps', 'comeback', 'normalso', 'finer', '4star', 'erode', 'eighth', 'phoneprosselfi', 'goodlooks', 'vibrantconsrear', 'mpit', 'mpall', 'wastebattery', 'daydisplay', 'hdface', 'slowfinger', 'okbeing', 'sometimesnote', 'supporting', 'unlock3', 'security4', 'quality6', 'battery8', 'guarenteed', 'update9', 'customisable', 'notmal', 'bloatwares3', 'guard4', 'updatefinally', 'met', 'hollow', 'reviewpros1', 'shitty', 'fullhd', 'phonesamsung', 'callsamoled', '60000', 'industryhere', 'developerseven', 'audacity', 'swiftly', 'enoughmajor', '125000', 'turtle', 'deceive', 'forsake', 'dump', '0ghz', 'hangover', 'shameless', 'regardspravin', 'bondre', 'capturing', 'realistic', 'reliablefingerprint', 'fastbut', 'samsun', 'reviewafter', 'glue', 'challenging', 'brad', 'theri', 'issueshanging', 'spray', 'sanitizer', 'merchant', 'disapointed', 'logged', 'toych', 'brighten', 'ghastly', '6000mhzcamera', 'exelentvideo', 'lightsound', 'poorsmoothness', 'nicefinger', 'quicksome', 'laagni', 'faceapps', 'secondwhen', 'heetedafter', 'downcall', 'availablefm', 'recordingmusic', 'paly', 'headsetscreen', 'mobileu', 'updatemy', 'bitter', '30secs', '24hra', 'unbearable', 'chkd', '36deg', 'chk', '8650', 'lifeworth', 'brandprocessors', 'sim2', 'replaied', 'bsnl', 'agency', 'jalandhar', 'juist', 'sometimesgood', 'binkphone', 'experienceram', 'decentled', 'itone', 'zabardastrest', 'daycons', 'unknow', 'appps', 'ocassional', 'picturres', 'sceptical', 'otts', 'rangei', 'niece', 'displaysuperb', 'uisuperb', 'featuressuperb', 'competitorscharging', 'chargerbut', 'useam', 'gamernot', 'g80exchange', 'trusty', '13kbest', 'miuiif', 'itlight', 'goodmost', 'missingit', 'samolade', 'improvedafter', 'designnice', 'processorgood', 'definetly4', 'nice5', 'awesomeand', 'batteryvalue', 'entertain', 'durty', 'uncheck', 'silky', 'watchingprossamoled', '5phenomenal', '5full', '5super', '5consnotch', 'displaymedatek', 'gamersno', 'supportsupport', 'boxbut', '1yr', 'properlycamera', 'hangsound', 'security2', 'recording3', 'segment4', 'segment5', 'life6', 'consequence', 'improves', 'worldphone', 'handsbattery', 'mahcharging', '25wcons', 'selfish', 'upgradation', 'budegetory', 'feacher', 'mlderate', 'xyz', 'blotwares', '749', 'respectable', '45days', 'samsungs', 'acquaintance', 'infirst', 'fixed', 'handedly', 'yous', 'm31screen', 'earings', 'usesage', 'prcessor', 'operationike', 'wow2', 'unaware', 'uncommon', 'emanate', 'pcb', 'stuttery', 'framerate', 'protect3', 'high2', 'almond', 'purchaseobservationspros', 'norm', 'compaint', '23rd', 'screenfinger', 'wellgreat', 'charginggreat', 'fraction', 'referesh', 'reparing', 'stripe', 'prop', 'dabbas', 'undercutting', 'whasapp', 'wider', 'buffering', 'quory', 'hilarious2', 'chargee', 'tomuch', 'superb4', 'perfect5', 'rtn', '786', 'oterwise', '800nits', 'sdecsent', 'displayrefresh', 'okaycon', 'scharger', '15wscreenshot', 'village', 'recommened', 'understandable', 'incorporate', 'popping', 'coordination', 'thingi', 'heartbroken', 'carriee', 'nerve', 'cat', 'strangle', 'netwrok', 'discconection', 'rectifyimg', 'etcbut', 'nowbecause', 'phoneswhen', 'indulge', 'depression', 'beeeeep', 'justbrowsing', 'mediaworks', 'wellexcellent', 'batterylast', 'ofcall', '12219', 'inc', 'samsumg', 'displayexcellent', 'review1', 'concludes', 'allbecause', 'oppoplease', 'atlast', 'f22', 'painpubg', 'mtec', 'opens', 'recieves', 'specfications', 'ufsthen', 'coming', 'otps', 'bydefault', 'piecesirf', 'marketpro', '11499it', 'pricegood', 'ruggedness', 'a51', 'm22', 'intermittent', 'rs15749', 'rs17000', 'importance', 'smoothbattery', 'boomer', 'repaire', 'mehighly', 'hanning', 'meee', 'binayak', 'choudhury', 'artificially', 'sisterthanks', 'sensible', 'placecustomer', 'fetch', 'rectifiedrequesting', 'cameta', 'otherthan', '5hr', '90fps', 'dammmm', 'averageprocesser', 'itsbjust', 'beeping', 'liitle', 'poorless', 'responsivephone', 'justdonot', 'jumping', 'pricecons', 'abnormally', 'distorts', 'portraitsvery', 'heft', 'mobilebcoz', 'mentally', 'incorrect', 'tear', 'shipment', 'phonefacing', 'easyi', 'namr', 'badass', '599', 'uneasiness', 'monthly', '6000rs', 'feebly', 'spell', 'reslove', 'bot', 'mintus', 'rendamlly', 'dissapoitment', 'improovement', 'backupsoftware', 'finesecure', 'butperformance', 'averagenot', 'userfor', 'hangdisplay', '8mpbetter', 'instability', 'flatten', 'steched', 'superbut', 'phantom', 'shri', 'akal', '5network', 'commendable', 'maintenan', 'indentify', 'porducts', 'dropllets', 'intead', 'aphone', 'marketthe', 'enoughthe', 'customar', 'selfie3', 'sizecons', 'time2', 'part1', 'heaviness', 'dikhaya', 'unhone', 'dubara', 'aane', 'skate', 'fruit', 'productcustomer', 'phonedecent', 'cameraexcellent', 'displayextraordinary', 'lgta', 'krwane', 'pade', 'jase', 'daid', 'haiplease', 'btaeye', 'strip', 'youtubea', 'okcamara', 'reappears', 'adversitement', 'watcher', 'versatile', 'adjustable', 'dare', 'reliance', 'spcl', 'weary', 'been2', 'emcc', 'plunge', 'overheight', '90ghz', 'wipe', 'awesomedesign', 'speciality', 'numerous', 'fame', 'vaibrate', 'periodically', 'marl', 'callso', 'junkwares', 'maxfeatures', 'nature', 'breadth', 'checked', 'khta', 'bui', 'redminote', 'pachhta', '90hdz', 'pet', 'issueunlike', 'spicture', 'sutters', 'faq', 'm32battery', 'thok', 'hailine', 'inshan', 'rahegamai', 'producteven', 'yep', 'qualityfirst', '11250rs', '11250', 'callalso', 'totalyfraud', 'reimbursement', '5speed', '7screen', 'shiver', 'rercived', 'memoryok', 'backdislike', 'monospeaker', 'itbattery', 'upcamera', 'm32mobile', 'butto', 'samsungos', 'markcons', 'spectrum', '104mins', '43mins', 'goodawsm', 'camerabeautiful', 'designsamsung', 'good90hz', 'wowthanks', 'performautomatically', 'featuresbut', 'poone', 'oparating', 'mediatec', 'haphazardingaly', 'onlyvery', 'depress', 'shelf', 'likable', 'wellsamsung', 'oknice', 'brightenbattery', 'abovecamera', 'onlycamera', 'absorption', 'everythign', 'instrad', 'invent', 'guaranty', 'suspesious', 'mobileby', 'wdh', 'imagesvery', 'facingdaily', 'restarti', 'reqst', 'precessorr', 'underwhelming', '20mins', 'trible', 'displayover', 'hes', 'camerabetter', 'shaming', 'bargain', 'jaati', 'pareshan', 'huin', 'mush', 'powe', 'buttonall', 'under15k', 'goodoperating', 'scannerhanging', 'fa', 'contion', '13xxxk', 'onlyprice', 'appered', 'note7', '3monthsbattery', 'sucksui', 'friendlycompared', 'realtek', 'bestum', 'callsor', 'emoled', 'chinees', 'anyime', 'wondered', '15wt', 'influence', 'creater', 'youtuberselfie', '20mpmain', 'has10', 'improrved', 'dehydrate', 'frequenly', 'conditionhaving', 'deadvery', 'minand', 'charginghopeless', 'experiencedispaly', 'awesome90hz', 'picturenice', 'sunflower', 'detecting', 'cameraawesome', 'necessity', 'itthis', 'comera', 'sunray', 'mould', 'proccesor', 'east', 'nen', 'tiakuna', 'phoneiam', 'gonewaste', 'surround', 'wastly', 'recommeded', 'bakar', 'thefmy', 'betrry', 'goodslow', 'plusnetworking', 'issueperformance', 'festivalat', '149996gb', '128gbso', 'lottt', 'phonefirst', 'mude', 'nikle', 'refurnish', 'aboat', '10min', 'milrha', 'brandaccording', 'darn', 'phonebetter', 'purchasereasonable', 'featuresscreen', 'gamersfinally', 'costhorrible', 'miserable', 'degrading', 'spark', 'averagetakes', 'hangingq', '12hrs', 'consdo', 'missingprosbatterydisplayui', 'monthsdisplay', 'workit', 'slown', 'showung', '210gm', 'adhik', 'anyother', 'sidemounted', 'jumbo', 'recomanded', '3630mah', 'awesomesturdy', 'yarr', 'batterylow', 'speedokaish', 'partially', 'muchit', 'badapply', 'irresponsible', '140005', 'bluff', 'gaint', 'excellentarrived', 'conditionbut', 'ittime', 'tack', '12100', 'alo', 'touchcamera', 'waistage', '15999although', 'attrected', '696', 'touchrest', 'allthis', 'pocoany', 'muchthank', 'darahita', 'etel', '240', 'smartphonesd', 'segment3', 'flagship5', '20222', 'clarity3', '5charger', 'bookcase', 'boxcons', 'lauch', 'itsound', 'lowbut', 'speakerbut', 'expertations', 'replica', 'apecs', 'loocks', 'greatperformance', 'segmentram', 'wrost2', 'wroth', 'onein', 'technologyavoid', 'hybrid', 'hollywood', 'zittering', 'averagelook', 'ramcamera', '3daysover', 'legends', 'nine', 'hangingsome', 'properlyduring', 'lostbut', 'fullif', 'redile', 'networkthere', '9se', '460', '240hz', 'relies', 'pros120hz', 'socsolid', 'life5g', 'supportwide', 'vine', 'supportcarrier', 'aggregationconslittle', 'priceydecent', 'camerasonly', 'supportplastic', 'framepre', 'bloatwareno', 'lensno', 'speakerslcd', 'displayonly', 'bandsui', 'disc', 'mistouch', '4years', 'avaid', 'blood', 'realsised', 'heatens', 'sweating', 'somewat', '1the', 'puchase', 'range2', 'os4', 'smooth5', 'too2', 'disappointed3', '2mint', 'learnt', 'lesson', 'designcons', 'advertised2', 'caveat', 'patchy', 'exam0le', 'gui', 'competetor', 'normallook', 'trapped', 'quickly3', 'goodui', 'loudif', 'lowerend', 'hatdcore', 'bokeh', '19999', 'perchese', 'introductory', '153m', 'waghtit', 'happly', 'ofi', 'preferably', 'native', 'deplete', 'casuall', 'momey', '256', 'tehre', 'otehrs', 'namesake', 'panda', 'hangs2', 'cream', 'sandwich', 'lumia', 'supernatural', '67w', 'gun', 'bonusto', 'mili', 'opearate', 'execeeds', 'moron', 'essentially', 'doubted', 'bands', 'markable', 'chipcamera', 'ivory', '120hzs', 'minutesi', 'listed', 'duub', 'aissa', 'vali', 'bnane', 'mtt', '785g', 'ayegi', 'gta', 'gangster', 'gameloft', 'coc', 'ludo', 'bakii', 'hogya', 'puchte', 'pehli', 'dikhana', 'piche', 'samajhte', 'unhe', 'woo', 'duniya', 'veriant', 'writen', 'undoubtedly', 'interesting', 'session', 'heavycamera', 'outstandingloved', 'proce', '1080poverall', '35g', 'smoth', 'capacitive', 'averagei', 'promotios', 'observed', 'indirectly', 'truecaller', 'looksdecent', 'camabove', 'camnight', 'good695', 'cardssmooth', 'rateabove', 'systemconsabout', 'lifeless', 'lightno', 'camsome', 'easilyos', '4out', 'to4', 'goal', 'lookscons', 'continuosly', 'highoverall', 'addedcharger', 'expence', 'averagesingle', 'goodlight', 'weightback', 'good18w', 'blatant', 'slicky', 'akdam', 'iya', 'khudbakhud', 'refres', 'mea', 'hokar', 'kiska', '18watts', 'howe', 'kai', 'casmer', 'hamre', 'unise', 'bate', 'abe', 'samy', 'sochuga', 'multitask', 'pdfs', 'passive', 'extendable', '5000mh2', 'memoryi', 'bahkave', 'cameral', 'averageaverage', 'som', 'flacship', 'looding', 'respondig', 'shkte', 'sistem', 'buyhave', 'promiseissues', 'itselfworst', 'flatu', 'monkey', 'phonepe', 'operationno', 'heatingno', 'hangpura', 'weightbest', 'managementandroid', '12two', 'iqooz6', 'psedu', 'lotaverage', 'cameraslow', 'chargingyoutube', 'chutiye', 'rebview', 'fron', 'confirmation', 'hussel', 'classydislike', '15200', 'recoil', 'render', 'dragon', 'slotbut', 'overallperformance', 'gread', 'barbad8gb', 'haifull', '120gh', 'sensar', '0to', 'decentgood', 'fifth', 'ears', 'mebut', 'bechti', 'firnger', 'sarvajanik', 'oll', 'goodgaming', 'goodin', 'goodbye', 'outpls', 'loudernice', 'goodsmoothest', 'uggghhh', 'latency', 'managementflagship', 'processersmooth', 'experiencebest', 'intimation', 'supportnot', 'displaytotallyresult', 'productfor', 'dminsta', 'snjymeena987', 'sweat', 'wack', 'bad2nd', 'adapter3rd', 'claims4', 'quality5th', 'cheapfully', 'tweak', 'batana', 'chahta', 'hunsirf', 'bewakufi', 'jaroori', 'goodcan', 'lion', 'messagesplease', 'breathtaking', '17hrs', 'proply', 'wooww', 'okperformance', 'supercharge', 'lifestyle', '10touch', 'customisation', 'performancecons', 's20fe', 'ive', 'jittering', 'everd', '120hzz', 'pahyle', 'chek', 'kharido', 'bikker', 'prosseesare', 'chalega', 'mitter', 'iqqoooo', 'may2022', 'fascinate', '65g', 'productbest', 'categoryfulfils', 'volt', 'chargecompany', 'fullon', 'reallme', 'moderatecamera', 'improvegoogle', '5000mahcamera', 'satisfactiondisplay', 'okoperation', '2bands', 'onlycons', 'samjha', 'sahii', 'bkwaas', 'khasiyat', 'likhoon', 'bec', 'bascode', 'issuemobile', 'bekar120', '8bg', 'ramalso', 'crass', 'bony', 'utubers', 'rupaye', 'supportedbut', 'nothin', 'explorer', 'erroneously', 'colourbattery', 'lgi', 'mujhebaki', 'bdiya', 'okayany', 'flacution', 'normalsometime', 'wellrestart', 'arebest', 'rediculous', 'averageperformance', 'goodinhand', 'bettey', 'workingultra', 'perpus', 'excellentif', 'properlyother', '100minutes', 'cutting', 'bran', 'jaff', 'pedda', 'bokka', 'pesaa', 'compensate', 'chamber', 'chij', 'banni', 'chahiya', 'adapterfor', 'neat', 'conection', 'protrait', 'saport', 'atlist', 'disappeared', 'fingerprintbattery', 'accessibility', 'parformed', 'dayfingerprint', 'littel', 'disponting', 'excellenti', 'rho', 'wrna', 'fod', 'serf', 'cristal', 'panal', 'refelaction', 'servicing', 'demo', 'badmost', 'setisfied', 'keval', 'hearphones', 'discription', 'bettal', 'bekarhe', 'parsan', 'hogeyahufun', 'anepar', 'football', 'salta', 'bishme', 'qoo', 'phoneiqoo', 'experienceshould', 'parlence', 'incredibly', 'downloading', 'qualitynothing', 'sloe', 'z1x', 'superfastcamera', 'decentbattery', 'phonesd', 'toplooking', 'amazingprice', 'dnadalu', 'mazaa', 'lifedislike', 'weldone', 'varking', 'nac', 'recommendover', 'cambera', 'woman', 'okface', 'phones5g', 'buyyoutube', 'rukta', 'khash', 'witch', 'phoon', 'badbattery', 'clare', 'charaje', 'nahe', 'ape', 'cll', 'beld', 'iqq', 'mising', 'minimam', 'superfone', 'superbattery', 'thanksamazon', 'montade', 'senserwis', 'socha', 'nhia', 'fuichers', 'warst', 'yahan', 'finding', 'ihai', 'kho', 'watwrdrop', 'responce', 'janu', 'nace', 'chargar', 'rfhb', 'vkmm', 'ccjm', 'slwo', 'chlte', 'ded', 'bose', 'superrrrbbbb', 'dilike', 'actrtive', '2bf', 'suraj', 'modi', 'igl', 'phone3', 'aka', '10hrs', 'sometimes5', 'closer', 'sweaty', 'best1', 'cod5', 'apps6', 'correction', 'betterthan', 'camerabut', '2weeks', 'unpredictable', 'distorted', 'unresolved', 'esports', 'batteryhas', 'iphonesplease', 'dissipiated', 'productivity', '6000mahscreen', 'littehardcharging', 'longe', 'timevalue', 'gamingcamera', 'whattsap', 'nowehre', 'missingif', 'phonebody', 'nicenonononono', 'productmobile', 'chargingnot', 'lequd', 'collingplay', 'maintainer', 'baba', 'worstand', 'sentric', 'aspiration', '10t', 'cuatomer', 'refresrate', 'dso', 'chargingimprove', 'badcontinue', 'porpose', 'porfomence', 'jau', 'saal', 'makham', 'pada', 'sala', 'coling', 'andvalue', 'disolay', 'fpslook', 'horribleness', 'completcharger', 'missingi', 'pinbut']\n",
            "[[0. 0. 0. ... 0. 0. 0.]\n",
            " [0. 0. 0. ... 0. 0. 0.]\n",
            " [0. 3. 8. ... 0. 0. 0.]\n",
            " ...\n",
            " [0. 1. 0. ... 0. 0. 0.]\n",
            " [0. 0. 3. ... 0. 0. 0.]\n",
            " [0. 1. 1. ... 0. 0. 0.]]\n"
          ]
        }
      ],
      "source": [
        "from keras.preprocessing.text import Tokenizer\n",
        " \n",
        "text = new_df['Review-Body']\n",
        "# using tokenizer \n",
        "model = Tokenizer()\n",
        "model.fit_on_texts(text)\n",
        " \n",
        "#print keys \n",
        "print(f'Key : {list(model.word_index.keys())}')\n",
        " \n",
        "#create bag of words representation \n",
        "rep = model.texts_to_matrix(text, mode='count')\n",
        "print(rep)"
      ]
    },
    {
      "cell_type": "code",
      "execution_count": 39,
      "metadata": {
        "colab": {
          "base_uri": "https://localhost:8080/",
          "height": 424
        },
        "id": "c9N5_K0cyafT",
        "outputId": "34a1ed38-1798-49c1-f6ee-be6e7aa7dc2c"
      },
      "outputs": [
        {
          "output_type": "execute_result",
          "data": {
            "text/plain": [
              "                    Review-Title              rating  \\\n",
              "0               worst phone ever  1.0 out of 5 stars   \n",
              "1                           mark  2.0 out of 5 stars   \n",
              "2                   awesome look  5.0 out of 5 stars   \n",
              "3      one plus lose originality  3.0 out of 5 stars   \n",
              "4                           read  1.0 out of 5 stars   \n",
              "...                          ...                 ...   \n",
              "23772              batten rangee  4.0 out of 5 stars   \n",
              "23773                good mobile  4.0 out of 5 stars   \n",
              "23774                good camera  5.0 out of 5 stars   \n",
              "23775              warest mobile  1.0 out of 5 stars   \n",
              "23776      good phone complicate  4.0 out of 5 stars   \n",
              "\n",
              "                                             Review-Body  \\\n",
              "0                                           hang problem   \n",
              "1      write review use 3days honest normal android p...   \n",
              "2      camera good fast phone back look awesomewith d...   \n",
              "3      medium could load average product decent day d...   \n",
              "4      get delivery feb unbox phone display damage re...   \n",
              "...                                                  ...   \n",
              "23772         must bhai iss range ba cemra thoda shi nhi   \n",
              "23773                                       good product   \n",
              "23774                                               good   \n",
              "23775  buy mobile phone money weast screen tach probl...   \n",
              "23776             phone good camera upto mark complicate   \n",
              "\n",
              "                                            Product Name  \n",
              "0      OnePlus Nord CE 2 5G (Gray Mirror, 8GB RAM, 12...  \n",
              "1      OnePlus Nord CE 2 5G (Gray Mirror, 8GB RAM, 12...  \n",
              "2      OnePlus Nord CE 2 5G (Gray Mirror, 8GB RAM, 12...  \n",
              "3      OnePlus Nord CE 2 5G (Gray Mirror, 8GB RAM, 12...  \n",
              "4      OnePlus Nord CE 2 5G (Gray Mirror, 8GB RAM, 12...  \n",
              "...                                                  ...  \n",
              "23772  vivo iQOO Z6 5G (Chromatic Blue, 6GB RAM, 128G...  \n",
              "23773  vivo iQOO Z6 5G (Chromatic Blue, 6GB RAM, 128G...  \n",
              "23774  vivo iQOO Z6 5G (Chromatic Blue, 6GB RAM, 128G...  \n",
              "23775  vivo iQOO Z6 5G (Chromatic Blue, 6GB RAM, 128G...  \n",
              "23776  vivo iQOO Z6 5G (Chromatic Blue, 6GB RAM, 128G...  \n",
              "\n",
              "[22034 rows x 4 columns]"
            ],
            "text/html": [
              "\n",
              "  <div id=\"df-26c27cee-8132-4e2f-bc7c-3132aeeb2d42\">\n",
              "    <div class=\"colab-df-container\">\n",
              "      <div>\n",
              "<style scoped>\n",
              "    .dataframe tbody tr th:only-of-type {\n",
              "        vertical-align: middle;\n",
              "    }\n",
              "\n",
              "    .dataframe tbody tr th {\n",
              "        vertical-align: top;\n",
              "    }\n",
              "\n",
              "    .dataframe thead th {\n",
              "        text-align: right;\n",
              "    }\n",
              "</style>\n",
              "<table border=\"1\" class=\"dataframe\">\n",
              "  <thead>\n",
              "    <tr style=\"text-align: right;\">\n",
              "      <th></th>\n",
              "      <th>Review-Title</th>\n",
              "      <th>rating</th>\n",
              "      <th>Review-Body</th>\n",
              "      <th>Product Name</th>\n",
              "    </tr>\n",
              "  </thead>\n",
              "  <tbody>\n",
              "    <tr>\n",
              "      <th>0</th>\n",
              "      <td>worst phone ever</td>\n",
              "      <td>1.0 out of 5 stars</td>\n",
              "      <td>hang problem</td>\n",
              "      <td>OnePlus Nord CE 2 5G (Gray Mirror, 8GB RAM, 12...</td>\n",
              "    </tr>\n",
              "    <tr>\n",
              "      <th>1</th>\n",
              "      <td>mark</td>\n",
              "      <td>2.0 out of 5 stars</td>\n",
              "      <td>write review use 3days honest normal android p...</td>\n",
              "      <td>OnePlus Nord CE 2 5G (Gray Mirror, 8GB RAM, 12...</td>\n",
              "    </tr>\n",
              "    <tr>\n",
              "      <th>2</th>\n",
              "      <td>awesome look</td>\n",
              "      <td>5.0 out of 5 stars</td>\n",
              "      <td>camera good fast phone back look awesomewith d...</td>\n",
              "      <td>OnePlus Nord CE 2 5G (Gray Mirror, 8GB RAM, 12...</td>\n",
              "    </tr>\n",
              "    <tr>\n",
              "      <th>3</th>\n",
              "      <td>one plus lose originality</td>\n",
              "      <td>3.0 out of 5 stars</td>\n",
              "      <td>medium could load average product decent day d...</td>\n",
              "      <td>OnePlus Nord CE 2 5G (Gray Mirror, 8GB RAM, 12...</td>\n",
              "    </tr>\n",
              "    <tr>\n",
              "      <th>4</th>\n",
              "      <td>read</td>\n",
              "      <td>1.0 out of 5 stars</td>\n",
              "      <td>get delivery feb unbox phone display damage re...</td>\n",
              "      <td>OnePlus Nord CE 2 5G (Gray Mirror, 8GB RAM, 12...</td>\n",
              "    </tr>\n",
              "    <tr>\n",
              "      <th>...</th>\n",
              "      <td>...</td>\n",
              "      <td>...</td>\n",
              "      <td>...</td>\n",
              "      <td>...</td>\n",
              "    </tr>\n",
              "    <tr>\n",
              "      <th>23772</th>\n",
              "      <td>batten rangee</td>\n",
              "      <td>4.0 out of 5 stars</td>\n",
              "      <td>must bhai iss range ba cemra thoda shi nhi</td>\n",
              "      <td>vivo iQOO Z6 5G (Chromatic Blue, 6GB RAM, 128G...</td>\n",
              "    </tr>\n",
              "    <tr>\n",
              "      <th>23773</th>\n",
              "      <td>good mobile</td>\n",
              "      <td>4.0 out of 5 stars</td>\n",
              "      <td>good product</td>\n",
              "      <td>vivo iQOO Z6 5G (Chromatic Blue, 6GB RAM, 128G...</td>\n",
              "    </tr>\n",
              "    <tr>\n",
              "      <th>23774</th>\n",
              "      <td>good camera</td>\n",
              "      <td>5.0 out of 5 stars</td>\n",
              "      <td>good</td>\n",
              "      <td>vivo iQOO Z6 5G (Chromatic Blue, 6GB RAM, 128G...</td>\n",
              "    </tr>\n",
              "    <tr>\n",
              "      <th>23775</th>\n",
              "      <td>warest mobile</td>\n",
              "      <td>1.0 out of 5 stars</td>\n",
              "      <td>buy mobile phone money weast screen tach probl...</td>\n",
              "      <td>vivo iQOO Z6 5G (Chromatic Blue, 6GB RAM, 128G...</td>\n",
              "    </tr>\n",
              "    <tr>\n",
              "      <th>23776</th>\n",
              "      <td>good phone complicate</td>\n",
              "      <td>4.0 out of 5 stars</td>\n",
              "      <td>phone good camera upto mark complicate</td>\n",
              "      <td>vivo iQOO Z6 5G (Chromatic Blue, 6GB RAM, 128G...</td>\n",
              "    </tr>\n",
              "  </tbody>\n",
              "</table>\n",
              "<p>22034 rows × 4 columns</p>\n",
              "</div>\n",
              "      <button class=\"colab-df-convert\" onclick=\"convertToInteractive('df-26c27cee-8132-4e2f-bc7c-3132aeeb2d42')\"\n",
              "              title=\"Convert this dataframe to an interactive table.\"\n",
              "              style=\"display:none;\">\n",
              "        \n",
              "  <svg xmlns=\"http://www.w3.org/2000/svg\" height=\"24px\"viewBox=\"0 0 24 24\"\n",
              "       width=\"24px\">\n",
              "    <path d=\"M0 0h24v24H0V0z\" fill=\"none\"/>\n",
              "    <path d=\"M18.56 5.44l.94 2.06.94-2.06 2.06-.94-2.06-.94-.94-2.06-.94 2.06-2.06.94zm-11 1L8.5 8.5l.94-2.06 2.06-.94-2.06-.94L8.5 2.5l-.94 2.06-2.06.94zm10 10l.94 2.06.94-2.06 2.06-.94-2.06-.94-.94-2.06-.94 2.06-2.06.94z\"/><path d=\"M17.41 7.96l-1.37-1.37c-.4-.4-.92-.59-1.43-.59-.52 0-1.04.2-1.43.59L10.3 9.45l-7.72 7.72c-.78.78-.78 2.05 0 2.83L4 21.41c.39.39.9.59 1.41.59.51 0 1.02-.2 1.41-.59l7.78-7.78 2.81-2.81c.8-.78.8-2.07 0-2.86zM5.41 20L4 18.59l7.72-7.72 1.47 1.35L5.41 20z\"/>\n",
              "  </svg>\n",
              "      </button>\n",
              "      \n",
              "  <style>\n",
              "    .colab-df-container {\n",
              "      display:flex;\n",
              "      flex-wrap:wrap;\n",
              "      gap: 12px;\n",
              "    }\n",
              "\n",
              "    .colab-df-convert {\n",
              "      background-color: #E8F0FE;\n",
              "      border: none;\n",
              "      border-radius: 50%;\n",
              "      cursor: pointer;\n",
              "      display: none;\n",
              "      fill: #1967D2;\n",
              "      height: 32px;\n",
              "      padding: 0 0 0 0;\n",
              "      width: 32px;\n",
              "    }\n",
              "\n",
              "    .colab-df-convert:hover {\n",
              "      background-color: #E2EBFA;\n",
              "      box-shadow: 0px 1px 2px rgba(60, 64, 67, 0.3), 0px 1px 3px 1px rgba(60, 64, 67, 0.15);\n",
              "      fill: #174EA6;\n",
              "    }\n",
              "\n",
              "    [theme=dark] .colab-df-convert {\n",
              "      background-color: #3B4455;\n",
              "      fill: #D2E3FC;\n",
              "    }\n",
              "\n",
              "    [theme=dark] .colab-df-convert:hover {\n",
              "      background-color: #434B5C;\n",
              "      box-shadow: 0px 1px 3px 1px rgba(0, 0, 0, 0.15);\n",
              "      filter: drop-shadow(0px 1px 2px rgba(0, 0, 0, 0.3));\n",
              "      fill: #FFFFFF;\n",
              "    }\n",
              "  </style>\n",
              "\n",
              "      <script>\n",
              "        const buttonEl =\n",
              "          document.querySelector('#df-26c27cee-8132-4e2f-bc7c-3132aeeb2d42 button.colab-df-convert');\n",
              "        buttonEl.style.display =\n",
              "          google.colab.kernel.accessAllowed ? 'block' : 'none';\n",
              "\n",
              "        async function convertToInteractive(key) {\n",
              "          const element = document.querySelector('#df-26c27cee-8132-4e2f-bc7c-3132aeeb2d42');\n",
              "          const dataTable =\n",
              "            await google.colab.kernel.invokeFunction('convertToInteractive',\n",
              "                                                     [key], {});\n",
              "          if (!dataTable) return;\n",
              "\n",
              "          const docLinkHtml = 'Like what you see? Visit the ' +\n",
              "            '<a target=\"_blank\" href=https://colab.research.google.com/notebooks/data_table.ipynb>data table notebook</a>'\n",
              "            + ' to learn more about interactive tables.';\n",
              "          element.innerHTML = '';\n",
              "          dataTable['output_type'] = 'display_data';\n",
              "          await google.colab.output.renderOutput(dataTable, element);\n",
              "          const docLink = document.createElement('div');\n",
              "          docLink.innerHTML = docLinkHtml;\n",
              "          element.appendChild(docLink);\n",
              "        }\n",
              "      </script>\n",
              "    </div>\n",
              "  </div>\n",
              "  "
            ]
          },
          "metadata": {},
          "execution_count": 39
        }
      ],
      "source": [
        "new_df"
      ]
    },
    {
      "cell_type": "markdown",
      "source": [
        "**Label encoding for rating feature**"
      ],
      "metadata": {
        "id": "7g5i5xUChZwS"
      }
    },
    {
      "cell_type": "code",
      "execution_count": 40,
      "metadata": {
        "id": "aSswKzn1bMKv"
      },
      "outputs": [],
      "source": [
        "from sklearn import preprocessing\n",
        "LE=preprocessing.LabelEncoder()"
      ]
    },
    {
      "cell_type": "code",
      "execution_count": 41,
      "metadata": {
        "colab": {
          "base_uri": "https://localhost:8080/"
        },
        "id": "NpyY6p2Ra2lE",
        "outputId": "04cd9260-a96f-4988-d516-f6649ae83f70"
      },
      "outputs": [
        {
          "output_type": "stream",
          "name": "stderr",
          "text": [
            "/usr/local/lib/python3.7/dist-packages/ipykernel_launcher.py:1: SettingWithCopyWarning: \n",
            "A value is trying to be set on a copy of a slice from a DataFrame.\n",
            "Try using .loc[row_indexer,col_indexer] = value instead\n",
            "\n",
            "See the caveats in the documentation: https://pandas.pydata.org/pandas-docs/stable/user_guide/indexing.html#returning-a-view-versus-a-copy\n",
            "  \"\"\"Entry point for launching an IPython kernel.\n"
          ]
        }
      ],
      "source": [
        "new_df['rating']=LE.fit_transform(new_df['rating'])"
      ]
    },
    {
      "cell_type": "code",
      "execution_count": 42,
      "metadata": {
        "colab": {
          "base_uri": "https://localhost:8080/"
        },
        "id": "6yFSNlVLbfwX",
        "outputId": "6ef7cd82-097b-49bd-95cf-ebd651019eda"
      },
      "outputs": [
        {
          "output_type": "stream",
          "name": "stderr",
          "text": [
            "/usr/local/lib/python3.7/dist-packages/ipykernel_launcher.py:1: SettingWithCopyWarning: \n",
            "A value is trying to be set on a copy of a slice from a DataFrame.\n",
            "Try using .loc[row_indexer,col_indexer] = value instead\n",
            "\n",
            "See the caveats in the documentation: https://pandas.pydata.org/pandas-docs/stable/user_guide/indexing.html#returning-a-view-versus-a-copy\n",
            "  \"\"\"Entry point for launching an IPython kernel.\n"
          ]
        }
      ],
      "source": [
        "new_df['rating']=new_df['rating']+1"
      ]
    },
    {
      "cell_type": "code",
      "execution_count": 43,
      "metadata": {
        "colab": {
          "base_uri": "https://localhost:8080/",
          "height": 424
        },
        "id": "H6Vh3DLB_zPk",
        "outputId": "d9698c36-5dd8-4036-c9f2-f2c34afb9a92"
      },
      "outputs": [
        {
          "output_type": "execute_result",
          "data": {
            "text/plain": [
              "                    Review-Title  rating  \\\n",
              "0               worst phone ever       1   \n",
              "1                           mark       2   \n",
              "2                   awesome look       5   \n",
              "3      one plus lose originality       3   \n",
              "4                           read       1   \n",
              "...                          ...     ...   \n",
              "23772              batten rangee       4   \n",
              "23773                good mobile       4   \n",
              "23774                good camera       5   \n",
              "23775              warest mobile       1   \n",
              "23776      good phone complicate       4   \n",
              "\n",
              "                                             Review-Body  \\\n",
              "0                                           hang problem   \n",
              "1      write review use 3days honest normal android p...   \n",
              "2      camera good fast phone back look awesomewith d...   \n",
              "3      medium could load average product decent day d...   \n",
              "4      get delivery feb unbox phone display damage re...   \n",
              "...                                                  ...   \n",
              "23772         must bhai iss range ba cemra thoda shi nhi   \n",
              "23773                                       good product   \n",
              "23774                                               good   \n",
              "23775  buy mobile phone money weast screen tach probl...   \n",
              "23776             phone good camera upto mark complicate   \n",
              "\n",
              "                                            Product Name  \n",
              "0      OnePlus Nord CE 2 5G (Gray Mirror, 8GB RAM, 12...  \n",
              "1      OnePlus Nord CE 2 5G (Gray Mirror, 8GB RAM, 12...  \n",
              "2      OnePlus Nord CE 2 5G (Gray Mirror, 8GB RAM, 12...  \n",
              "3      OnePlus Nord CE 2 5G (Gray Mirror, 8GB RAM, 12...  \n",
              "4      OnePlus Nord CE 2 5G (Gray Mirror, 8GB RAM, 12...  \n",
              "...                                                  ...  \n",
              "23772  vivo iQOO Z6 5G (Chromatic Blue, 6GB RAM, 128G...  \n",
              "23773  vivo iQOO Z6 5G (Chromatic Blue, 6GB RAM, 128G...  \n",
              "23774  vivo iQOO Z6 5G (Chromatic Blue, 6GB RAM, 128G...  \n",
              "23775  vivo iQOO Z6 5G (Chromatic Blue, 6GB RAM, 128G...  \n",
              "23776  vivo iQOO Z6 5G (Chromatic Blue, 6GB RAM, 128G...  \n",
              "\n",
              "[22034 rows x 4 columns]"
            ],
            "text/html": [
              "\n",
              "  <div id=\"df-0eea2206-a8f5-4161-8089-075ffea6c567\">\n",
              "    <div class=\"colab-df-container\">\n",
              "      <div>\n",
              "<style scoped>\n",
              "    .dataframe tbody tr th:only-of-type {\n",
              "        vertical-align: middle;\n",
              "    }\n",
              "\n",
              "    .dataframe tbody tr th {\n",
              "        vertical-align: top;\n",
              "    }\n",
              "\n",
              "    .dataframe thead th {\n",
              "        text-align: right;\n",
              "    }\n",
              "</style>\n",
              "<table border=\"1\" class=\"dataframe\">\n",
              "  <thead>\n",
              "    <tr style=\"text-align: right;\">\n",
              "      <th></th>\n",
              "      <th>Review-Title</th>\n",
              "      <th>rating</th>\n",
              "      <th>Review-Body</th>\n",
              "      <th>Product Name</th>\n",
              "    </tr>\n",
              "  </thead>\n",
              "  <tbody>\n",
              "    <tr>\n",
              "      <th>0</th>\n",
              "      <td>worst phone ever</td>\n",
              "      <td>1</td>\n",
              "      <td>hang problem</td>\n",
              "      <td>OnePlus Nord CE 2 5G (Gray Mirror, 8GB RAM, 12...</td>\n",
              "    </tr>\n",
              "    <tr>\n",
              "      <th>1</th>\n",
              "      <td>mark</td>\n",
              "      <td>2</td>\n",
              "      <td>write review use 3days honest normal android p...</td>\n",
              "      <td>OnePlus Nord CE 2 5G (Gray Mirror, 8GB RAM, 12...</td>\n",
              "    </tr>\n",
              "    <tr>\n",
              "      <th>2</th>\n",
              "      <td>awesome look</td>\n",
              "      <td>5</td>\n",
              "      <td>camera good fast phone back look awesomewith d...</td>\n",
              "      <td>OnePlus Nord CE 2 5G (Gray Mirror, 8GB RAM, 12...</td>\n",
              "    </tr>\n",
              "    <tr>\n",
              "      <th>3</th>\n",
              "      <td>one plus lose originality</td>\n",
              "      <td>3</td>\n",
              "      <td>medium could load average product decent day d...</td>\n",
              "      <td>OnePlus Nord CE 2 5G (Gray Mirror, 8GB RAM, 12...</td>\n",
              "    </tr>\n",
              "    <tr>\n",
              "      <th>4</th>\n",
              "      <td>read</td>\n",
              "      <td>1</td>\n",
              "      <td>get delivery feb unbox phone display damage re...</td>\n",
              "      <td>OnePlus Nord CE 2 5G (Gray Mirror, 8GB RAM, 12...</td>\n",
              "    </tr>\n",
              "    <tr>\n",
              "      <th>...</th>\n",
              "      <td>...</td>\n",
              "      <td>...</td>\n",
              "      <td>...</td>\n",
              "      <td>...</td>\n",
              "    </tr>\n",
              "    <tr>\n",
              "      <th>23772</th>\n",
              "      <td>batten rangee</td>\n",
              "      <td>4</td>\n",
              "      <td>must bhai iss range ba cemra thoda shi nhi</td>\n",
              "      <td>vivo iQOO Z6 5G (Chromatic Blue, 6GB RAM, 128G...</td>\n",
              "    </tr>\n",
              "    <tr>\n",
              "      <th>23773</th>\n",
              "      <td>good mobile</td>\n",
              "      <td>4</td>\n",
              "      <td>good product</td>\n",
              "      <td>vivo iQOO Z6 5G (Chromatic Blue, 6GB RAM, 128G...</td>\n",
              "    </tr>\n",
              "    <tr>\n",
              "      <th>23774</th>\n",
              "      <td>good camera</td>\n",
              "      <td>5</td>\n",
              "      <td>good</td>\n",
              "      <td>vivo iQOO Z6 5G (Chromatic Blue, 6GB RAM, 128G...</td>\n",
              "    </tr>\n",
              "    <tr>\n",
              "      <th>23775</th>\n",
              "      <td>warest mobile</td>\n",
              "      <td>1</td>\n",
              "      <td>buy mobile phone money weast screen tach probl...</td>\n",
              "      <td>vivo iQOO Z6 5G (Chromatic Blue, 6GB RAM, 128G...</td>\n",
              "    </tr>\n",
              "    <tr>\n",
              "      <th>23776</th>\n",
              "      <td>good phone complicate</td>\n",
              "      <td>4</td>\n",
              "      <td>phone good camera upto mark complicate</td>\n",
              "      <td>vivo iQOO Z6 5G (Chromatic Blue, 6GB RAM, 128G...</td>\n",
              "    </tr>\n",
              "  </tbody>\n",
              "</table>\n",
              "<p>22034 rows × 4 columns</p>\n",
              "</div>\n",
              "      <button class=\"colab-df-convert\" onclick=\"convertToInteractive('df-0eea2206-a8f5-4161-8089-075ffea6c567')\"\n",
              "              title=\"Convert this dataframe to an interactive table.\"\n",
              "              style=\"display:none;\">\n",
              "        \n",
              "  <svg xmlns=\"http://www.w3.org/2000/svg\" height=\"24px\"viewBox=\"0 0 24 24\"\n",
              "       width=\"24px\">\n",
              "    <path d=\"M0 0h24v24H0V0z\" fill=\"none\"/>\n",
              "    <path d=\"M18.56 5.44l.94 2.06.94-2.06 2.06-.94-2.06-.94-.94-2.06-.94 2.06-2.06.94zm-11 1L8.5 8.5l.94-2.06 2.06-.94-2.06-.94L8.5 2.5l-.94 2.06-2.06.94zm10 10l.94 2.06.94-2.06 2.06-.94-2.06-.94-.94-2.06-.94 2.06-2.06.94z\"/><path d=\"M17.41 7.96l-1.37-1.37c-.4-.4-.92-.59-1.43-.59-.52 0-1.04.2-1.43.59L10.3 9.45l-7.72 7.72c-.78.78-.78 2.05 0 2.83L4 21.41c.39.39.9.59 1.41.59.51 0 1.02-.2 1.41-.59l7.78-7.78 2.81-2.81c.8-.78.8-2.07 0-2.86zM5.41 20L4 18.59l7.72-7.72 1.47 1.35L5.41 20z\"/>\n",
              "  </svg>\n",
              "      </button>\n",
              "      \n",
              "  <style>\n",
              "    .colab-df-container {\n",
              "      display:flex;\n",
              "      flex-wrap:wrap;\n",
              "      gap: 12px;\n",
              "    }\n",
              "\n",
              "    .colab-df-convert {\n",
              "      background-color: #E8F0FE;\n",
              "      border: none;\n",
              "      border-radius: 50%;\n",
              "      cursor: pointer;\n",
              "      display: none;\n",
              "      fill: #1967D2;\n",
              "      height: 32px;\n",
              "      padding: 0 0 0 0;\n",
              "      width: 32px;\n",
              "    }\n",
              "\n",
              "    .colab-df-convert:hover {\n",
              "      background-color: #E2EBFA;\n",
              "      box-shadow: 0px 1px 2px rgba(60, 64, 67, 0.3), 0px 1px 3px 1px rgba(60, 64, 67, 0.15);\n",
              "      fill: #174EA6;\n",
              "    }\n",
              "\n",
              "    [theme=dark] .colab-df-convert {\n",
              "      background-color: #3B4455;\n",
              "      fill: #D2E3FC;\n",
              "    }\n",
              "\n",
              "    [theme=dark] .colab-df-convert:hover {\n",
              "      background-color: #434B5C;\n",
              "      box-shadow: 0px 1px 3px 1px rgba(0, 0, 0, 0.15);\n",
              "      filter: drop-shadow(0px 1px 2px rgba(0, 0, 0, 0.3));\n",
              "      fill: #FFFFFF;\n",
              "    }\n",
              "  </style>\n",
              "\n",
              "      <script>\n",
              "        const buttonEl =\n",
              "          document.querySelector('#df-0eea2206-a8f5-4161-8089-075ffea6c567 button.colab-df-convert');\n",
              "        buttonEl.style.display =\n",
              "          google.colab.kernel.accessAllowed ? 'block' : 'none';\n",
              "\n",
              "        async function convertToInteractive(key) {\n",
              "          const element = document.querySelector('#df-0eea2206-a8f5-4161-8089-075ffea6c567');\n",
              "          const dataTable =\n",
              "            await google.colab.kernel.invokeFunction('convertToInteractive',\n",
              "                                                     [key], {});\n",
              "          if (!dataTable) return;\n",
              "\n",
              "          const docLinkHtml = 'Like what you see? Visit the ' +\n",
              "            '<a target=\"_blank\" href=https://colab.research.google.com/notebooks/data_table.ipynb>data table notebook</a>'\n",
              "            + ' to learn more about interactive tables.';\n",
              "          element.innerHTML = '';\n",
              "          dataTable['output_type'] = 'display_data';\n",
              "          await google.colab.output.renderOutput(dataTable, element);\n",
              "          const docLink = document.createElement('div');\n",
              "          docLink.innerHTML = docLinkHtml;\n",
              "          element.appendChild(docLink);\n",
              "        }\n",
              "      </script>\n",
              "    </div>\n",
              "  </div>\n",
              "  "
            ]
          },
          "metadata": {},
          "execution_count": 43
        }
      ],
      "source": [
        "new_df"
      ]
    },
    {
      "cell_type": "code",
      "source": [
        "for x in range(1,len(new_df['rating'])):\n",
        "  if new_df['rating'][i]==1 or new_df['rating'][i]==2 :\n",
        "    new_df['rating'][i]=0\n",
        "  else:\n",
        "    new_df['rating'][i]=1"
      ],
      "metadata": {
        "colab": {
          "base_uri": "https://localhost:8080/"
        },
        "id": "vdd_KJoVa32U",
        "outputId": "0adb31ec-8b5d-4b3d-dc94-e1f2aa7979bd"
      },
      "execution_count": 44,
      "outputs": [
        {
          "output_type": "stream",
          "name": "stderr",
          "text": [
            "/usr/local/lib/python3.7/dist-packages/ipykernel_launcher.py:5: SettingWithCopyWarning: \n",
            "A value is trying to be set on a copy of a slice from a DataFrame\n",
            "\n",
            "See the caveats in the documentation: https://pandas.pydata.org/pandas-docs/stable/user_guide/indexing.html#returning-a-view-versus-a-copy\n",
            "  \"\"\"\n",
            "/usr/local/lib/python3.7/dist-packages/ipykernel_launcher.py:3: SettingWithCopyWarning: \n",
            "A value is trying to be set on a copy of a slice from a DataFrame\n",
            "\n",
            "See the caveats in the documentation: https://pandas.pydata.org/pandas-docs/stable/user_guide/indexing.html#returning-a-view-versus-a-copy\n",
            "  This is separate from the ipykernel package so we can avoid doing imports until\n"
          ]
        }
      ]
    },
    {
      "cell_type": "code",
      "source": [
        " new_df['rating']"
      ],
      "metadata": {
        "colab": {
          "base_uri": "https://localhost:8080/"
        },
        "id": "3QOKG43LdtRT",
        "outputId": "ee210115-db6a-4777-8453-037ba90911c2"
      },
      "execution_count": 45,
      "outputs": [
        {
          "output_type": "execute_result",
          "data": {
            "text/plain": [
              "0        1\n",
              "1        2\n",
              "2        5\n",
              "3        3\n",
              "4        1\n",
              "        ..\n",
              "23772    4\n",
              "23773    4\n",
              "23774    5\n",
              "23775    1\n",
              "23776    4\n",
              "Name: rating, Length: 22034, dtype: int64"
            ]
          },
          "metadata": {},
          "execution_count": 45
        }
      ]
    },
    {
      "cell_type": "code",
      "execution_count": 46,
      "metadata": {
        "id": "Le5eALIv0RnG"
      },
      "outputs": [],
      "source": [
        "from sklearn.feature_extraction.text import CountVectorizer"
      ]
    },
    {
      "cell_type": "code",
      "execution_count": 47,
      "metadata": {
        "id": "5iGaQeNo0WV6"
      },
      "outputs": [],
      "source": [
        "cv = CountVectorizer(ngram_range=(1,2))\n",
        "traindata = cv.fit_transform(new_df['Review-Body'])\n",
        "X = new_df[['Review-Body']]\n",
        "y = new_df['rating']"
      ]
    },
    {
      "cell_type": "code",
      "execution_count": 48,
      "metadata": {
        "colab": {
          "base_uri": "https://localhost:8080/"
        },
        "id": "RzvZFrJWDyN-",
        "outputId": "038cc235-fd44-407a-9148-158c8de649b0"
      },
      "outputs": [
        {
          "output_type": "execute_result",
          "data": {
            "text/plain": [
              "0                                             hang problem\n",
              "1        write review use 3days honest normal android p...\n",
              "2        camera good fast phone back look awesomewith d...\n",
              "3        medium could load average product decent day d...\n",
              "4        get delivery feb unbox phone display damage re...\n",
              "                               ...                        \n",
              "23772           must bhai iss range ba cemra thoda shi nhi\n",
              "23773                                         good product\n",
              "23774                                                 good\n",
              "23775    buy mobile phone money weast screen tach probl...\n",
              "23776               phone good camera upto mark complicate\n",
              "Name: Review-Body, Length: 22034, dtype: object"
            ]
          },
          "metadata": {},
          "execution_count": 48
        }
      ],
      "source": [
        "new_df['Review-Body']"
      ]
    },
    {
      "cell_type": "code",
      "execution_count": 49,
      "metadata": {
        "colab": {
          "base_uri": "https://localhost:8080/"
        },
        "id": "bLN-dee5ti6d",
        "outputId": "32fa305d-769d-48a7-90b5-79e213a1a39a"
      },
      "outputs": [
        {
          "output_type": "stream",
          "name": "stderr",
          "text": [
            "/usr/local/lib/python3.7/dist-packages/ipykernel_launcher.py:1: SettingWithCopyWarning: \n",
            "A value is trying to be set on a copy of a slice from a DataFrame.\n",
            "Try using .loc[row_indexer,col_indexer] = value instead\n",
            "\n",
            "See the caveats in the documentation: https://pandas.pydata.org/pandas-docs/stable/user_guide/indexing.html#returning-a-view-versus-a-copy\n",
            "  \"\"\"Entry point for launching an IPython kernel.\n"
          ]
        }
      ],
      "source": [
        "new_df[\"is_bad_review\"] = new_df[\"rating\"].apply(lambda x: 0 if x < 5 else 1)"
      ]
    },
    {
      "cell_type": "code",
      "execution_count": 50,
      "metadata": {
        "colab": {
          "base_uri": "https://localhost:8080/"
        },
        "id": "fyrCgs1xuRKm",
        "outputId": "b7621ea6-baed-457a-f111-de454a05e250"
      },
      "outputs": [
        {
          "output_type": "execute_result",
          "data": {
            "text/plain": [
              "0        0\n",
              "1        0\n",
              "2        1\n",
              "3        0\n",
              "4        0\n",
              "        ..\n",
              "23772    0\n",
              "23773    0\n",
              "23774    1\n",
              "23775    0\n",
              "23776    0\n",
              "Name: is_bad_review, Length: 22034, dtype: int64"
            ]
          },
          "metadata": {},
          "execution_count": 50
        }
      ],
      "source": [
        "new_df[\"is_bad_review\"]"
      ]
    },
    {
      "cell_type": "code",
      "source": [
        "new_df"
      ],
      "metadata": {
        "colab": {
          "base_uri": "https://localhost:8080/",
          "height": 424
        },
        "id": "HJHYGzIkwvsX",
        "outputId": "a6393c43-b241-4b3d-c989-adce32d35edb"
      },
      "execution_count": 51,
      "outputs": [
        {
          "output_type": "execute_result",
          "data": {
            "text/plain": [
              "                    Review-Title  rating  \\\n",
              "0               worst phone ever       1   \n",
              "1                           mark       2   \n",
              "2                   awesome look       5   \n",
              "3      one plus lose originality       3   \n",
              "4                           read       1   \n",
              "...                          ...     ...   \n",
              "23772              batten rangee       4   \n",
              "23773                good mobile       4   \n",
              "23774                good camera       5   \n",
              "23775              warest mobile       1   \n",
              "23776      good phone complicate       4   \n",
              "\n",
              "                                             Review-Body  \\\n",
              "0                                           hang problem   \n",
              "1      write review use 3days honest normal android p...   \n",
              "2      camera good fast phone back look awesomewith d...   \n",
              "3      medium could load average product decent day d...   \n",
              "4      get delivery feb unbox phone display damage re...   \n",
              "...                                                  ...   \n",
              "23772         must bhai iss range ba cemra thoda shi nhi   \n",
              "23773                                       good product   \n",
              "23774                                               good   \n",
              "23775  buy mobile phone money weast screen tach probl...   \n",
              "23776             phone good camera upto mark complicate   \n",
              "\n",
              "                                            Product Name  is_bad_review  \n",
              "0      OnePlus Nord CE 2 5G (Gray Mirror, 8GB RAM, 12...              0  \n",
              "1      OnePlus Nord CE 2 5G (Gray Mirror, 8GB RAM, 12...              0  \n",
              "2      OnePlus Nord CE 2 5G (Gray Mirror, 8GB RAM, 12...              1  \n",
              "3      OnePlus Nord CE 2 5G (Gray Mirror, 8GB RAM, 12...              0  \n",
              "4      OnePlus Nord CE 2 5G (Gray Mirror, 8GB RAM, 12...              0  \n",
              "...                                                  ...            ...  \n",
              "23772  vivo iQOO Z6 5G (Chromatic Blue, 6GB RAM, 128G...              0  \n",
              "23773  vivo iQOO Z6 5G (Chromatic Blue, 6GB RAM, 128G...              0  \n",
              "23774  vivo iQOO Z6 5G (Chromatic Blue, 6GB RAM, 128G...              1  \n",
              "23775  vivo iQOO Z6 5G (Chromatic Blue, 6GB RAM, 128G...              0  \n",
              "23776  vivo iQOO Z6 5G (Chromatic Blue, 6GB RAM, 128G...              0  \n",
              "\n",
              "[22034 rows x 5 columns]"
            ],
            "text/html": [
              "\n",
              "  <div id=\"df-8c265111-c97f-4151-b268-848422571c60\">\n",
              "    <div class=\"colab-df-container\">\n",
              "      <div>\n",
              "<style scoped>\n",
              "    .dataframe tbody tr th:only-of-type {\n",
              "        vertical-align: middle;\n",
              "    }\n",
              "\n",
              "    .dataframe tbody tr th {\n",
              "        vertical-align: top;\n",
              "    }\n",
              "\n",
              "    .dataframe thead th {\n",
              "        text-align: right;\n",
              "    }\n",
              "</style>\n",
              "<table border=\"1\" class=\"dataframe\">\n",
              "  <thead>\n",
              "    <tr style=\"text-align: right;\">\n",
              "      <th></th>\n",
              "      <th>Review-Title</th>\n",
              "      <th>rating</th>\n",
              "      <th>Review-Body</th>\n",
              "      <th>Product Name</th>\n",
              "      <th>is_bad_review</th>\n",
              "    </tr>\n",
              "  </thead>\n",
              "  <tbody>\n",
              "    <tr>\n",
              "      <th>0</th>\n",
              "      <td>worst phone ever</td>\n",
              "      <td>1</td>\n",
              "      <td>hang problem</td>\n",
              "      <td>OnePlus Nord CE 2 5G (Gray Mirror, 8GB RAM, 12...</td>\n",
              "      <td>0</td>\n",
              "    </tr>\n",
              "    <tr>\n",
              "      <th>1</th>\n",
              "      <td>mark</td>\n",
              "      <td>2</td>\n",
              "      <td>write review use 3days honest normal android p...</td>\n",
              "      <td>OnePlus Nord CE 2 5G (Gray Mirror, 8GB RAM, 12...</td>\n",
              "      <td>0</td>\n",
              "    </tr>\n",
              "    <tr>\n",
              "      <th>2</th>\n",
              "      <td>awesome look</td>\n",
              "      <td>5</td>\n",
              "      <td>camera good fast phone back look awesomewith d...</td>\n",
              "      <td>OnePlus Nord CE 2 5G (Gray Mirror, 8GB RAM, 12...</td>\n",
              "      <td>1</td>\n",
              "    </tr>\n",
              "    <tr>\n",
              "      <th>3</th>\n",
              "      <td>one plus lose originality</td>\n",
              "      <td>3</td>\n",
              "      <td>medium could load average product decent day d...</td>\n",
              "      <td>OnePlus Nord CE 2 5G (Gray Mirror, 8GB RAM, 12...</td>\n",
              "      <td>0</td>\n",
              "    </tr>\n",
              "    <tr>\n",
              "      <th>4</th>\n",
              "      <td>read</td>\n",
              "      <td>1</td>\n",
              "      <td>get delivery feb unbox phone display damage re...</td>\n",
              "      <td>OnePlus Nord CE 2 5G (Gray Mirror, 8GB RAM, 12...</td>\n",
              "      <td>0</td>\n",
              "    </tr>\n",
              "    <tr>\n",
              "      <th>...</th>\n",
              "      <td>...</td>\n",
              "      <td>...</td>\n",
              "      <td>...</td>\n",
              "      <td>...</td>\n",
              "      <td>...</td>\n",
              "    </tr>\n",
              "    <tr>\n",
              "      <th>23772</th>\n",
              "      <td>batten rangee</td>\n",
              "      <td>4</td>\n",
              "      <td>must bhai iss range ba cemra thoda shi nhi</td>\n",
              "      <td>vivo iQOO Z6 5G (Chromatic Blue, 6GB RAM, 128G...</td>\n",
              "      <td>0</td>\n",
              "    </tr>\n",
              "    <tr>\n",
              "      <th>23773</th>\n",
              "      <td>good mobile</td>\n",
              "      <td>4</td>\n",
              "      <td>good product</td>\n",
              "      <td>vivo iQOO Z6 5G (Chromatic Blue, 6GB RAM, 128G...</td>\n",
              "      <td>0</td>\n",
              "    </tr>\n",
              "    <tr>\n",
              "      <th>23774</th>\n",
              "      <td>good camera</td>\n",
              "      <td>5</td>\n",
              "      <td>good</td>\n",
              "      <td>vivo iQOO Z6 5G (Chromatic Blue, 6GB RAM, 128G...</td>\n",
              "      <td>1</td>\n",
              "    </tr>\n",
              "    <tr>\n",
              "      <th>23775</th>\n",
              "      <td>warest mobile</td>\n",
              "      <td>1</td>\n",
              "      <td>buy mobile phone money weast screen tach probl...</td>\n",
              "      <td>vivo iQOO Z6 5G (Chromatic Blue, 6GB RAM, 128G...</td>\n",
              "      <td>0</td>\n",
              "    </tr>\n",
              "    <tr>\n",
              "      <th>23776</th>\n",
              "      <td>good phone complicate</td>\n",
              "      <td>4</td>\n",
              "      <td>phone good camera upto mark complicate</td>\n",
              "      <td>vivo iQOO Z6 5G (Chromatic Blue, 6GB RAM, 128G...</td>\n",
              "      <td>0</td>\n",
              "    </tr>\n",
              "  </tbody>\n",
              "</table>\n",
              "<p>22034 rows × 5 columns</p>\n",
              "</div>\n",
              "      <button class=\"colab-df-convert\" onclick=\"convertToInteractive('df-8c265111-c97f-4151-b268-848422571c60')\"\n",
              "              title=\"Convert this dataframe to an interactive table.\"\n",
              "              style=\"display:none;\">\n",
              "        \n",
              "  <svg xmlns=\"http://www.w3.org/2000/svg\" height=\"24px\"viewBox=\"0 0 24 24\"\n",
              "       width=\"24px\">\n",
              "    <path d=\"M0 0h24v24H0V0z\" fill=\"none\"/>\n",
              "    <path d=\"M18.56 5.44l.94 2.06.94-2.06 2.06-.94-2.06-.94-.94-2.06-.94 2.06-2.06.94zm-11 1L8.5 8.5l.94-2.06 2.06-.94-2.06-.94L8.5 2.5l-.94 2.06-2.06.94zm10 10l.94 2.06.94-2.06 2.06-.94-2.06-.94-.94-2.06-.94 2.06-2.06.94z\"/><path d=\"M17.41 7.96l-1.37-1.37c-.4-.4-.92-.59-1.43-.59-.52 0-1.04.2-1.43.59L10.3 9.45l-7.72 7.72c-.78.78-.78 2.05 0 2.83L4 21.41c.39.39.9.59 1.41.59.51 0 1.02-.2 1.41-.59l7.78-7.78 2.81-2.81c.8-.78.8-2.07 0-2.86zM5.41 20L4 18.59l7.72-7.72 1.47 1.35L5.41 20z\"/>\n",
              "  </svg>\n",
              "      </button>\n",
              "      \n",
              "  <style>\n",
              "    .colab-df-container {\n",
              "      display:flex;\n",
              "      flex-wrap:wrap;\n",
              "      gap: 12px;\n",
              "    }\n",
              "\n",
              "    .colab-df-convert {\n",
              "      background-color: #E8F0FE;\n",
              "      border: none;\n",
              "      border-radius: 50%;\n",
              "      cursor: pointer;\n",
              "      display: none;\n",
              "      fill: #1967D2;\n",
              "      height: 32px;\n",
              "      padding: 0 0 0 0;\n",
              "      width: 32px;\n",
              "    }\n",
              "\n",
              "    .colab-df-convert:hover {\n",
              "      background-color: #E2EBFA;\n",
              "      box-shadow: 0px 1px 2px rgba(60, 64, 67, 0.3), 0px 1px 3px 1px rgba(60, 64, 67, 0.15);\n",
              "      fill: #174EA6;\n",
              "    }\n",
              "\n",
              "    [theme=dark] .colab-df-convert {\n",
              "      background-color: #3B4455;\n",
              "      fill: #D2E3FC;\n",
              "    }\n",
              "\n",
              "    [theme=dark] .colab-df-convert:hover {\n",
              "      background-color: #434B5C;\n",
              "      box-shadow: 0px 1px 3px 1px rgba(0, 0, 0, 0.15);\n",
              "      filter: drop-shadow(0px 1px 2px rgba(0, 0, 0, 0.3));\n",
              "      fill: #FFFFFF;\n",
              "    }\n",
              "  </style>\n",
              "\n",
              "      <script>\n",
              "        const buttonEl =\n",
              "          document.querySelector('#df-8c265111-c97f-4151-b268-848422571c60 button.colab-df-convert');\n",
              "        buttonEl.style.display =\n",
              "          google.colab.kernel.accessAllowed ? 'block' : 'none';\n",
              "\n",
              "        async function convertToInteractive(key) {\n",
              "          const element = document.querySelector('#df-8c265111-c97f-4151-b268-848422571c60');\n",
              "          const dataTable =\n",
              "            await google.colab.kernel.invokeFunction('convertToInteractive',\n",
              "                                                     [key], {});\n",
              "          if (!dataTable) return;\n",
              "\n",
              "          const docLinkHtml = 'Like what you see? Visit the ' +\n",
              "            '<a target=\"_blank\" href=https://colab.research.google.com/notebooks/data_table.ipynb>data table notebook</a>'\n",
              "            + ' to learn more about interactive tables.';\n",
              "          element.innerHTML = '';\n",
              "          dataTable['output_type'] = 'display_data';\n",
              "          await google.colab.output.renderOutput(dataTable, element);\n",
              "          const docLink = document.createElement('div');\n",
              "          docLink.innerHTML = docLinkHtml;\n",
              "          element.appendChild(docLink);\n",
              "        }\n",
              "      </script>\n",
              "    </div>\n",
              "  </div>\n",
              "  "
            ]
          },
          "metadata": {},
          "execution_count": 51
        }
      ]
    },
    {
      "cell_type": "code",
      "execution_count": 52,
      "metadata": {
        "colab": {
          "base_uri": "https://localhost:8080/"
        },
        "id": "hXNi5jF-vKae",
        "outputId": "a977dee3-d6fd-4841-9b80-40f5ae500263"
      },
      "outputs": [
        {
          "output_type": "stream",
          "name": "stderr",
          "text": [
            "/usr/local/lib/python3.7/dist-packages/sklearn/utils/deprecation.py:87: FutureWarning: Function get_feature_names is deprecated; get_feature_names is deprecated in 1.0 and will be removed in 1.2. Please use get_feature_names_out instead.\n",
            "  warnings.warn(msg, category=FutureWarning)\n"
          ]
        }
      ],
      "source": [
        "# Importing module\n",
        "from sklearn.feature_extraction.text import TfidfVectorizer\n",
        "\n",
        "# Creating matrix of top 5 tokens\n",
        "tfidf = TfidfVectorizer(max_features=10)\n",
        "X = tfidf.fit_transform(new_df['Review-Body']).toarray()\n",
        "y = new_df['rating'].values\n",
        "featureNames = tfidf.get_feature_names()\n",
        "\n",
        "X, y\n",
        "\n",
        "\n",
        "# Splitting the dataset into train and test\n",
        "from sklearn.model_selection import train_test_split\n",
        "X_train, X_test, y_train, y_test = train_test_split(X, y, test_size = 0.20)"
      ]
    },
    {
      "cell_type": "code",
      "execution_count": 53,
      "metadata": {
        "colab": {
          "base_uri": "https://localhost:8080/"
        },
        "id": "r49qJPHzF8vf",
        "outputId": "6ed3373a-ffcd-4ff7-8219-1359f58a24cb"
      },
      "outputs": [
        {
          "output_type": "execute_result",
          "data": {
            "text/plain": [
              "array([[0.        , 0.        , 0.        , ..., 0.        , 0.        ,\n",
              "        0.        ],\n",
              "       [0.        , 0.        , 0.        , ..., 0.        , 0.        ,\n",
              "        0.        ],\n",
              "       [0.        , 0.        , 0.        , ..., 0.        , 0.        ,\n",
              "        0.        ],\n",
              "       ...,\n",
              "       [0.        , 0.        , 0.        , ..., 0.        , 0.        ,\n",
              "        0.        ],\n",
              "       [0.        , 0.19116416, 0.        , ..., 0.        , 0.        ,\n",
              "        0.        ],\n",
              "       [1.        , 0.        , 0.        , ..., 0.        , 0.        ,\n",
              "        0.        ]])"
            ]
          },
          "metadata": {},
          "execution_count": 53
        }
      ],
      "source": [
        "X_train"
      ]
    },
    {
      "cell_type": "code",
      "execution_count": 54,
      "metadata": {
        "colab": {
          "base_uri": "https://localhost:8080/"
        },
        "id": "da54bIpw_YXc",
        "outputId": "bdec730e-281d-4575-adcb-0acbcc832f9f"
      },
      "outputs": [
        {
          "output_type": "execute_result",
          "data": {
            "text/plain": [
              "array([5, 5, 5, ..., 5, 5, 2])"
            ]
          },
          "metadata": {},
          "execution_count": 54
        }
      ],
      "source": [
        "y_train"
      ]
    },
    {
      "cell_type": "code",
      "execution_count": 55,
      "metadata": {
        "colab": {
          "base_uri": "https://localhost:8080/"
        },
        "id": "uv4avY5X31-T",
        "outputId": "eae7ce96-54e5-4e25-ea7c-aeb2205a86a4"
      },
      "outputs": [
        {
          "output_type": "execute_result",
          "data": {
            "text/plain": [
              "((17627, 10), (4407, 10))"
            ]
          },
          "metadata": {},
          "execution_count": 55
        }
      ],
      "source": [
        "X_train.shape, X_test.shape"
      ]
    },
    {
      "cell_type": "code",
      "execution_count": 56,
      "metadata": {
        "colab": {
          "base_uri": "https://localhost:8080/"
        },
        "id": "L4oXifis382o",
        "outputId": "0ca077a6-0c9d-4ebc-eb72-7e07b14af148"
      },
      "outputs": [
        {
          "output_type": "execute_result",
          "data": {
            "text/plain": [
              "array([[0.        , 0.        , 0.        , ..., 0.        , 0.        ,\n",
              "        0.        ],\n",
              "       [0.        , 0.        , 0.        , ..., 0.        , 0.        ,\n",
              "        0.        ],\n",
              "       [0.        , 0.        , 0.        , ..., 0.        , 0.        ,\n",
              "        0.        ],\n",
              "       ...,\n",
              "       [0.        , 0.        , 0.        , ..., 0.        , 0.        ,\n",
              "        0.        ],\n",
              "       [0.        , 0.19116416, 0.        , ..., 0.        , 0.        ,\n",
              "        0.        ],\n",
              "       [1.        , 0.        , 0.        , ..., 0.        , 0.        ,\n",
              "        0.        ]])"
            ]
          },
          "metadata": {},
          "execution_count": 56
        }
      ],
      "source": [
        "X_train"
      ]
    },
    {
      "cell_type": "code",
      "execution_count": 57,
      "metadata": {
        "id": "LomeXuzw6zom"
      },
      "outputs": [],
      "source": [
        "#new_data = X_train[~np.isnan(X_train)]\n",
        "#new_data"
      ]
    },
    {
      "cell_type": "code",
      "execution_count": 58,
      "metadata": {
        "colab": {
          "base_uri": "https://localhost:8080/"
        },
        "id": "3pHkLIYP_NVv",
        "outputId": "0642ef87-0c51-4aa1-a5f6-6bd28294042b"
      },
      "outputs": [
        {
          "output_type": "execute_result",
          "data": {
            "text/plain": [
              "array([1, 5, 5, ..., 1, 1, 5])"
            ]
          },
          "metadata": {},
          "execution_count": 58
        }
      ],
      "source": [
        "from sklearn.linear_model import LogisticRegression #main code that build the LR model \n",
        "logistic_regression= LogisticRegression() #initialise the required package  \n",
        "#magic happens - best values of betas - training/learning happens here\n",
        "logistic_regression.fit(X_train,y_train) \n",
        "y_pred=logistic_regression.predict(X_test)\n",
        "\n",
        "\n",
        "y_pred"
      ]
    },
    {
      "cell_type": "code",
      "execution_count": 59,
      "metadata": {
        "colab": {
          "base_uri": "https://localhost:8080/"
        },
        "id": "1XCzklb7_NJH",
        "outputId": "8af17296-ebea-4919-d2d3-04a900b0ef6f"
      },
      "outputs": [
        {
          "output_type": "execute_result",
          "data": {
            "text/plain": [
              "array([[ 1.87523518, -0.43389097,  1.08279829, -0.08231416, -1.62892139,\n",
              "         0.55943593,  0.40958598,  0.45322663,  0.13321214, -0.06657892],\n",
              "       [ 1.04298823,  0.08400429,  0.63027806,  0.28831848, -0.48510886,\n",
              "        -0.19729241,  0.02579668, -0.28918104,  0.46429488,  0.55349743],\n",
              "       [ 0.60921152,  0.09790959, -0.30958452,  0.5147621 ,  0.42999564,\n",
              "        -0.20448741, -0.1503324 , -0.4102719 ,  0.26703349, -0.00956438],\n",
              "       [-0.95367767,  0.26562809, -0.71063598,  0.07826896,  0.99650677,\n",
              "        -0.1274581 , -0.13827704,  0.0190213 , -0.30550103,  0.02788853],\n",
              "       [-2.57375726, -0.013651  , -0.69285584, -0.79903539,  0.68752784,\n",
              "        -0.030198  , -0.14677321,  0.22720501, -0.55903949, -0.50524266]])"
            ]
          },
          "metadata": {},
          "execution_count": 59
        }
      ],
      "source": [
        "logistic_regression.coef_"
      ]
    },
    {
      "cell_type": "code",
      "execution_count": 60,
      "metadata": {
        "colab": {
          "base_uri": "https://localhost:8080/"
        },
        "id": "PWsZAw3vGyFT",
        "outputId": "318a627a-6114-4dbc-81b2-86f64d1987dc"
      },
      "outputs": [
        {
          "output_type": "execute_result",
          "data": {
            "text/plain": [
              "array([ 0.20818326, -0.95377034, -0.4311966 ,  0.14648164,  1.03030204])"
            ]
          },
          "metadata": {},
          "execution_count": 60
        }
      ],
      "source": [
        "logistic_regression.intercept_"
      ]
    },
    {
      "cell_type": "code",
      "execution_count": 61,
      "metadata": {
        "id": "kU1pzpl6G4bu"
      },
      "outputs": [],
      "source": [
        "#from sklearn.metrics import plot_roc_curve, roc_curve, roc_auc_score, confusion_matrix, f1_score\n",
        "#logistic_regression.score(X_test,y_test) # accuracy\n",
        "#confusion_matrix(y_test,y_pred)\n",
        "#f1_score(y_test,y_pred)\n",
        "#logistic_regression.score(X_test,y_test)\n",
        "#plot_roc_curve(logistic_regression, X_test, y_test)"
      ]
    },
    {
      "cell_type": "code",
      "source": [
        "from sklearn.linear_model import LogisticRegression\n",
        "from sklearn.neighbors import KNeighborsClassifier\n",
        "\n",
        "# logistic regression\n",
        "model1 = LogisticRegression()\n",
        "# knn\n",
        "model2 = KNeighborsClassifier(n_neighbors=4)\n",
        "\n",
        "# fit model\n",
        "model1.fit(X_train, y_train)\n",
        "model2.fit(X_train, y_train)\n",
        "\n",
        "# predict probabilities\n",
        "pred_prob1 = model1.predict_proba(X_test)\n",
        "pred_prob2 = model2.predict_proba(X_test)"
      ],
      "metadata": {
        "id": "9M6VE3k8Z6mX"
      },
      "execution_count": 62,
      "outputs": []
    },
    {
      "cell_type": "code",
      "source": [
        "\n",
        "from sklearn.metrics import roc_curve\n",
        "\n",
        "# roc curve for models\n",
        "fpr1, tpr1, thresh1 = roc_curve(y_test, pred_prob1[:,1], pos_label=1)\n",
        "fpr2, tpr2, thresh2 = roc_curve(y_test, pred_prob2[:,1], pos_label=1)\n",
        "\n",
        "# roc curve for tpr = fpr \n",
        "random_probs = [0 for i in range(len(y_test))]\n",
        "p_fpr, p_tpr, _ = roc_curve(y_test, random_probs, pos_label=1)"
      ],
      "metadata": {
        "id": "ymL5q0IEZ-wv"
      },
      "execution_count": 63,
      "outputs": []
    },
    {
      "cell_type": "code",
      "execution_count": 64,
      "metadata": {
        "id": "e52q3_8L9CLe"
      },
      "outputs": [],
      "source": [
        "from sklearn.tree import DecisionTreeClassifier\n",
        "\n",
        "dt = DecisionTreeClassifier()\n",
        "dt.fit(X_train,y_train)\n",
        "\n",
        "y_pred = dt.predict(X_test)"
      ]
    },
    {
      "cell_type": "code",
      "execution_count": 65,
      "metadata": {
        "id": "ZJEVnlz2HIt8",
        "colab": {
          "base_uri": "https://localhost:8080/"
        },
        "outputId": "24368a27-cfe3-497e-eb5a-c7dc81891257"
      },
      "outputs": [
        {
          "output_type": "execute_result",
          "data": {
            "text/plain": [
              "array([1, 5, 5, ..., 1, 1, 5])"
            ]
          },
          "metadata": {},
          "execution_count": 65
        }
      ],
      "source": [
        "\n",
        "y_pred"
      ]
    },
    {
      "cell_type": "code",
      "execution_count": 66,
      "metadata": {
        "id": "c1eUcqwOHP20",
        "colab": {
          "base_uri": "https://localhost:8080/"
        },
        "outputId": "a4da6de9-ecd7-42bc-b8a1-e0739ab5e846"
      },
      "outputs": [
        {
          "output_type": "stream",
          "name": "stdout",
          "text": [
            "[[ 412   23   31   35  543]\n",
            " [ 108   10   12   25  163]\n",
            " [ 119    9   29   62  315]\n",
            " [ 100   19   28   87  651]\n",
            " [ 156   16   43   86 1325]]\n",
            "The model accuracy is 0.4227365554799183\n"
          ]
        }
      ],
      "source": [
        "from sklearn.metrics import confusion_matrix, accuracy_score\n",
        "accuracy = accuracy_score(y_test, y_pred)\n",
        "cm = confusion_matrix(y_test, y_pred)\n",
        "print(cm)\n",
        "print(\"The model accuracy is\", accuracy )"
      ]
    },
    {
      "cell_type": "code",
      "execution_count": 67,
      "metadata": {
        "id": "eSXQRSmxLv72",
        "colab": {
          "base_uri": "https://localhost:8080/"
        },
        "outputId": "e92272d1-591f-4ea6-f1a1-483f2ac61415"
      },
      "outputs": [
        {
          "output_type": "execute_result",
          "data": {
            "text/plain": [
              "(5, 5)"
            ]
          },
          "metadata": {},
          "execution_count": 67
        }
      ],
      "source": [
        "cm.shape"
      ]
    },
    {
      "cell_type": "code",
      "execution_count": 68,
      "metadata": {
        "id": "Hco0ppa-uTsZ",
        "colab": {
          "base_uri": "https://localhost:8080/",
          "height": 282
        },
        "outputId": "17dbaafb-1dea-4cd4-ab3a-b0395dd5e96f"
      },
      "outputs": [
        {
          "output_type": "execute_result",
          "data": {
            "text/plain": [
              "<matplotlib.axes._subplots.AxesSubplot at 0x7fe7c670af50>"
            ]
          },
          "metadata": {},
          "execution_count": 68
        },
        {
          "output_type": "display_data",
          "data": {
            "text/plain": [
              "<Figure size 432x288 with 2 Axes>"
            ],
            "image/png": "[encoded data removed]"
          },
          "metadata": {
            "needs_background": "light"
          }
        }
      ],
      "source": [
        "group_names = [\"True Pos\",\"False Pos\",\"False Neg\",\"True Neg\"]\n",
        "group_counts = [\"{0:0.0f}\".format(value) for value in cm.flatten()]\n",
        "group_percentages = [\"{0:.2%}\".format(value) for value in cm.flatten()/np.sum(cm)]\n",
        "labels = [f\"{v1}\\n{v2}\\n{v3}\" for v1, v2, v3 in zip(group_names, group_counts, group_percentages)]\n",
        "labels = np.asarray(labels).reshape(2,2)\n",
        "\n",
        "sns.heatmap(cm, fmt=\"\", cmap='Blues')"
      ]
    },
    {
      "cell_type": "code",
      "source": [
        "from sklearn.ensemble import RandomForestClassifier\n",
        "clf = RandomForestClassifier(max_depth=2, random_state=0)\n",
        "clf.fit(X_train, y_train)\n",
        "clf.predict(X_test)\n",
        "clf.score(X_test, y_test, sample_weight=None)"
      ],
      "metadata": {
        "colab": {
          "base_uri": "https://localhost:8080/"
        },
        "id": "s2vFhuOA-kkv",
        "outputId": "1ced57d7-80f0-4176-d891-d4e5a1cbc785"
      },
      "execution_count": 69,
      "outputs": [
        {
          "output_type": "execute_result",
          "data": {
            "text/plain": [
              "0.4329475833900613"
            ]
          },
          "metadata": {},
          "execution_count": 69
        }
      ]
    },
    {
      "cell_type": "code",
      "source": [
        "from sklearn.metrics import accuracy_score\n",
        "print('accuracy score:',clf.score(X_test,y_test))"
      ],
      "metadata": {
        "colab": {
          "base_uri": "https://localhost:8080/"
        },
        "id": "kO3Pmfcu_aXO",
        "outputId": "be9a6be0-465d-4478-d9a2-ffefec92b383"
      },
      "execution_count": 70,
      "outputs": [
        {
          "output_type": "stream",
          "name": "stdout",
          "text": [
            "accuracy score: 0.4329475833900613\n"
          ]
        }
      ]
    },
    {
      "cell_type": "code",
      "source": [
        "from sklearn.naive_bayes import MultinomialNB\n",
        "mn=MultinomialNB()\n",
        "mn.fit(X_train,y_train)\n",
        "mn.predict(X_test)\n",
        "mn.score(X_test,y_test)"
      ],
      "metadata": {
        "colab": {
          "base_uri": "https://localhost:8080/"
        },
        "id": "NrK9ulQhScuf",
        "outputId": "63d9c899-6ec6-40ad-95b3-1b363f971d8c"
      },
      "execution_count": 71,
      "outputs": [
        {
          "output_type": "execute_result",
          "data": {
            "text/plain": [
              "0.4315861130020422"
            ]
          },
          "metadata": {},
          "execution_count": 71
        }
      ]
    },
    {
      "cell_type": "code",
      "source": [
        "from sklearn.metrics import accuracy_score\n",
        "print('Accuracy Score:',mn.score(X_test,y_test))"
      ],
      "metadata": {
        "colab": {
          "base_uri": "https://localhost:8080/"
        },
        "id": "8JFEko22S9IR",
        "outputId": "14c1436f-4b48-4138-df91-3ccaa50233d8"
      },
      "execution_count": 72,
      "outputs": [
        {
          "output_type": "stream",
          "name": "stdout",
          "text": [
            "Accuracy Score: 0.4315861130020422\n"
          ]
        }
      ]
    },
    {
      "cell_type": "code",
      "source": [
        "nltk.download('vader_lexicon')\n",
        "from nltk.sentiment import SentimentIntensityAnalyzer\n",
        "sentiments = SentimentIntensityAnalyzer()\n",
        "new_df[\"Positive\"] = [sentiments.polarity_scores(i)[\"pos\"] for i in new_df['Review-Body']]\n",
        "new_df[\"Neutral\"] = [sentiments.polarity_scores(i)[\"neu\"] for i in new_df['Review-Body']]\n",
        "new_df[\"Negative\"] = [sentiments.polarity_scores(i)[\"neg\"] for i in new_df['Review-Body']]\n",
        "\n",
        "data = new_df[['Review-Body', 'Positive', 'Neutral', 'Negative']]\n",
        "data"
      ],
      "metadata": {
        "colab": {
          "base_uri": "https://localhost:8080/",
          "height": 754
        },
        "id": "wKz5c183XjKH",
        "outputId": "c9c1bcba-bd75-4402-d102-ae4264db62b2"
      },
      "execution_count": 73,
      "outputs": [
        {
          "output_type": "stream",
          "name": "stderr",
          "text": [
            "[nltk_data] Downloading package vader_lexicon to /root/nltk_data...\n",
            "/usr/local/lib/python3.7/dist-packages/ipykernel_launcher.py:4: SettingWithCopyWarning: \n",
            "A value is trying to be set on a copy of a slice from a DataFrame.\n",
            "Try using .loc[row_indexer,col_indexer] = value instead\n",
            "\n",
            "See the caveats in the documentation: https://pandas.pydata.org/pandas-docs/stable/user_guide/indexing.html#returning-a-view-versus-a-copy\n",
            "  after removing the cwd from sys.path.\n",
            "/usr/local/lib/python3.7/dist-packages/ipykernel_launcher.py:5: SettingWithCopyWarning: \n",
            "A value is trying to be set on a copy of a slice from a DataFrame.\n",
            "Try using .loc[row_indexer,col_indexer] = value instead\n",
            "\n",
            "See the caveats in the documentation: https://pandas.pydata.org/pandas-docs/stable/user_guide/indexing.html#returning-a-view-versus-a-copy\n",
            "  \"\"\"\n",
            "/usr/local/lib/python3.7/dist-packages/ipykernel_launcher.py:6: SettingWithCopyWarning: \n",
            "A value is trying to be set on a copy of a slice from a DataFrame.\n",
            "Try using .loc[row_indexer,col_indexer] = value instead\n",
            "\n",
            "See the caveats in the documentation: https://pandas.pydata.org/pandas-docs/stable/user_guide/indexing.html#returning-a-view-versus-a-copy\n",
            "  \n"
          ]
        },
        {
          "output_type": "execute_result",
          "data": {
            "text/plain": [
              "                                             Review-Body  Positive  Neutral  \\\n",
              "0                                           hang problem     0.000    0.270   \n",
              "1      write review use 3days honest normal android p...     0.120    0.768   \n",
              "2      camera good fast phone back look awesomewith d...     0.256    0.744   \n",
              "3      medium could load average product decent day d...     0.278    0.672   \n",
              "4      get delivery feb unbox phone display damage re...     0.219    0.687   \n",
              "...                                                  ...       ...      ...   \n",
              "23772         must bhai iss range ba cemra thoda shi nhi     0.000    1.000   \n",
              "23773                                       good product     0.744    0.256   \n",
              "23774                                               good     1.000    0.000   \n",
              "23775  buy mobile phone money weast screen tach probl...     0.197    0.687   \n",
              "23776             phone good camera upto mark complicate     0.367    0.633   \n",
              "\n",
              "       Negative  \n",
              "0         0.730  \n",
              "1         0.112  \n",
              "2         0.000  \n",
              "3         0.049  \n",
              "4         0.094  \n",
              "...         ...  \n",
              "23772     0.000  \n",
              "23773     0.000  \n",
              "23774     0.000  \n",
              "23775     0.116  \n",
              "23776     0.000  \n",
              "\n",
              "[22034 rows x 4 columns]"
            ],
            "text/html": [
              "\n",
              "  <div id=\"df-1eb0fb07-da92-4196-ad01-363e2e02efdd\">\n",
              "    <div class=\"colab-df-container\">\n",
              "      <div>\n",
              "<style scoped>\n",
              "    .dataframe tbody tr th:only-of-type {\n",
              "        vertical-align: middle;\n",
              "    }\n",
              "\n",
              "    .dataframe tbody tr th {\n",
              "        vertical-align: top;\n",
              "    }\n",
              "\n",
              "    .dataframe thead th {\n",
              "        text-align: right;\n",
              "    }\n",
              "</style>\n",
              "<table border=\"1\" class=\"dataframe\">\n",
              "  <thead>\n",
              "    <tr style=\"text-align: right;\">\n",
              "      <th></th>\n",
              "      <th>Review-Body</th>\n",
              "      <th>Positive</th>\n",
              "      <th>Neutral</th>\n",
              "      <th>Negative</th>\n",
              "    </tr>\n",
              "  </thead>\n",
              "  <tbody>\n",
              "    <tr>\n",
              "      <th>0</th>\n",
              "      <td>hang problem</td>\n",
              "      <td>0.000</td>\n",
              "      <td>0.270</td>\n",
              "      <td>0.730</td>\n",
              "    </tr>\n",
              "    <tr>\n",
              "      <th>1</th>\n",
              "      <td>write review use 3days honest normal android p...</td>\n",
              "      <td>0.120</td>\n",
              "      <td>0.768</td>\n",
              "      <td>0.112</td>\n",
              "    </tr>\n",
              "    <tr>\n",
              "      <th>2</th>\n",
              "      <td>camera good fast phone back look awesomewith d...</td>\n",
              "      <td>0.256</td>\n",
              "      <td>0.744</td>\n",
              "      <td>0.000</td>\n",
              "    </tr>\n",
              "    <tr>\n",
              "      <th>3</th>\n",
              "      <td>medium could load average product decent day d...</td>\n",
              "      <td>0.278</td>\n",
              "      <td>0.672</td>\n",
              "      <td>0.049</td>\n",
              "    </tr>\n",
              "    <tr>\n",
              "      <th>4</th>\n",
              "      <td>get delivery feb unbox phone display damage re...</td>\n",
              "      <td>0.219</td>\n",
              "      <td>0.687</td>\n",
              "      <td>0.094</td>\n",
              "    </tr>\n",
              "    <tr>\n",
              "      <th>...</th>\n",
              "      <td>...</td>\n",
              "      <td>...</td>\n",
              "      <td>...</td>\n",
              "      <td>...</td>\n",
              "    </tr>\n",
              "    <tr>\n",
              "      <th>23772</th>\n",
              "      <td>must bhai iss range ba cemra thoda shi nhi</td>\n",
              "      <td>0.000</td>\n",
              "      <td>1.000</td>\n",
              "      <td>0.000</td>\n",
              "    </tr>\n",
              "    <tr>\n",
              "      <th>23773</th>\n",
              "      <td>good product</td>\n",
              "      <td>0.744</td>\n",
              "      <td>0.256</td>\n",
              "      <td>0.000</td>\n",
              "    </tr>\n",
              "    <tr>\n",
              "      <th>23774</th>\n",
              "      <td>good</td>\n",
              "      <td>1.000</td>\n",
              "      <td>0.000</td>\n",
              "      <td>0.000</td>\n",
              "    </tr>\n",
              "    <tr>\n",
              "      <th>23775</th>\n",
              "      <td>buy mobile phone money weast screen tach probl...</td>\n",
              "      <td>0.197</td>\n",
              "      <td>0.687</td>\n",
              "      <td>0.116</td>\n",
              "    </tr>\n",
              "    <tr>\n",
              "      <th>23776</th>\n",
              "      <td>phone good camera upto mark complicate</td>\n",
              "      <td>0.367</td>\n",
              "      <td>0.633</td>\n",
              "      <td>0.000</td>\n",
              "    </tr>\n",
              "  </tbody>\n",
              "</table>\n",
              "<p>22034 rows × 4 columns</p>\n",
              "</div>\n",
              "      <button class=\"colab-df-convert\" onclick=\"convertToInteractive('df-1eb0fb07-da92-4196-ad01-363e2e02efdd')\"\n",
              "              title=\"Convert this dataframe to an interactive table.\"\n",
              "              style=\"display:none;\">\n",
              "        \n",
              "  <svg xmlns=\"http://www.w3.org/2000/svg\" height=\"24px\"viewBox=\"0 0 24 24\"\n",
              "       width=\"24px\">\n",
              "    <path d=\"M0 0h24v24H0V0z\" fill=\"none\"/>\n",
              "    <path d=\"M18.56 5.44l.94 2.06.94-2.06 2.06-.94-2.06-.94-.94-2.06-.94 2.06-2.06.94zm-11 1L8.5 8.5l.94-2.06 2.06-.94-2.06-.94L8.5 2.5l-.94 2.06-2.06.94zm10 10l.94 2.06.94-2.06 2.06-.94-2.06-.94-.94-2.06-.94 2.06-2.06.94z\"/><path d=\"M17.41 7.96l-1.37-1.37c-.4-.4-.92-.59-1.43-.59-.52 0-1.04.2-1.43.59L10.3 9.45l-7.72 7.72c-.78.78-.78 2.05 0 2.83L4 21.41c.39.39.9.59 1.41.59.51 0 1.02-.2 1.41-.59l7.78-7.78 2.81-2.81c.8-.78.8-2.07 0-2.86zM5.41 20L4 18.59l7.72-7.72 1.47 1.35L5.41 20z\"/>\n",
              "  </svg>\n",
              "      </button>\n",
              "      \n",
              "  <style>\n",
              "    .colab-df-container {\n",
              "      display:flex;\n",
              "      flex-wrap:wrap;\n",
              "      gap: 12px;\n",
              "    }\n",
              "\n",
              "    .colab-df-convert {\n",
              "      background-color: #E8F0FE;\n",
              "      border: none;\n",
              "      border-radius: 50%;\n",
              "      cursor: pointer;\n",
              "      display: none;\n",
              "      fill: #1967D2;\n",
              "      height: 32px;\n",
              "      padding: 0 0 0 0;\n",
              "      width: 32px;\n",
              "    }\n",
              "\n",
              "    .colab-df-convert:hover {\n",
              "      background-color: #E2EBFA;\n",
              "      box-shadow: 0px 1px 2px rgba(60, 64, 67, 0.3), 0px 1px 3px 1px rgba(60, 64, 67, 0.15);\n",
              "      fill: #174EA6;\n",
              "    }\n",
              "\n",
              "    [theme=dark] .colab-df-convert {\n",
              "      background-color: #3B4455;\n",
              "      fill: #D2E3FC;\n",
              "    }\n",
              "\n",
              "    [theme=dark] .colab-df-convert:hover {\n",
              "      background-color: #434B5C;\n",
              "      box-shadow: 0px 1px 3px 1px rgba(0, 0, 0, 0.15);\n",
              "      filter: drop-shadow(0px 1px 2px rgba(0, 0, 0, 0.3));\n",
              "      fill: #FFFFFF;\n",
              "    }\n",
              "  </style>\n",
              "\n",
              "      <script>\n",
              "        const buttonEl =\n",
              "          document.querySelector('#df-1eb0fb07-da92-4196-ad01-363e2e02efdd button.colab-df-convert');\n",
              "        buttonEl.style.display =\n",
              "          google.colab.kernel.accessAllowed ? 'block' : 'none';\n",
              "\n",
              "        async function convertToInteractive(key) {\n",
              "          const element = document.querySelector('#df-1eb0fb07-da92-4196-ad01-363e2e02efdd');\n",
              "          const dataTable =\n",
              "            await google.colab.kernel.invokeFunction('convertToInteractive',\n",
              "                                                     [key], {});\n",
              "          if (!dataTable) return;\n",
              "\n",
              "          const docLinkHtml = 'Like what you see? Visit the ' +\n",
              "            '<a target=\"_blank\" href=https://colab.research.google.com/notebooks/data_table.ipynb>data table notebook</a>'\n",
              "            + ' to learn more about interactive tables.';\n",
              "          element.innerHTML = '';\n",
              "          dataTable['output_type'] = 'display_data';\n",
              "          await google.colab.output.renderOutput(dataTable, element);\n",
              "          const docLink = document.createElement('div');\n",
              "          docLink.innerHTML = docLinkHtml;\n",
              "          element.appendChild(docLink);\n",
              "        }\n",
              "      </script>\n",
              "    </div>\n",
              "  </div>\n",
              "  "
            ]
          },
          "metadata": {},
          "execution_count": 73
        }
      ]
    },
    {
      "cell_type": "code",
      "source": [
        "new_df"
      ],
      "metadata": {
        "colab": {
          "base_uri": "https://localhost:8080/",
          "height": 641
        },
        "id": "hCRXyqydw6-q",
        "outputId": "936c9368-225a-4f02-f859-ff06fd790821"
      },
      "execution_count": 74,
      "outputs": [
        {
          "output_type": "execute_result",
          "data": {
            "text/plain": [
              "                    Review-Title  rating  \\\n",
              "0               worst phone ever       1   \n",
              "1                           mark       2   \n",
              "2                   awesome look       5   \n",
              "3      one plus lose originality       3   \n",
              "4                           read       1   \n",
              "...                          ...     ...   \n",
              "23772              batten rangee       4   \n",
              "23773                good mobile       4   \n",
              "23774                good camera       5   \n",
              "23775              warest mobile       1   \n",
              "23776      good phone complicate       4   \n",
              "\n",
              "                                             Review-Body  \\\n",
              "0                                           hang problem   \n",
              "1      write review use 3days honest normal android p...   \n",
              "2      camera good fast phone back look awesomewith d...   \n",
              "3      medium could load average product decent day d...   \n",
              "4      get delivery feb unbox phone display damage re...   \n",
              "...                                                  ...   \n",
              "23772         must bhai iss range ba cemra thoda shi nhi   \n",
              "23773                                       good product   \n",
              "23774                                               good   \n",
              "23775  buy mobile phone money weast screen tach probl...   \n",
              "23776             phone good camera upto mark complicate   \n",
              "\n",
              "                                            Product Name  is_bad_review  \\\n",
              "0      OnePlus Nord CE 2 5G (Gray Mirror, 8GB RAM, 12...              0   \n",
              "1      OnePlus Nord CE 2 5G (Gray Mirror, 8GB RAM, 12...              0   \n",
              "2      OnePlus Nord CE 2 5G (Gray Mirror, 8GB RAM, 12...              1   \n",
              "3      OnePlus Nord CE 2 5G (Gray Mirror, 8GB RAM, 12...              0   \n",
              "4      OnePlus Nord CE 2 5G (Gray Mirror, 8GB RAM, 12...              0   \n",
              "...                                                  ...            ...   \n",
              "23772  vivo iQOO Z6 5G (Chromatic Blue, 6GB RAM, 128G...              0   \n",
              "23773  vivo iQOO Z6 5G (Chromatic Blue, 6GB RAM, 128G...              0   \n",
              "23774  vivo iQOO Z6 5G (Chromatic Blue, 6GB RAM, 128G...              1   \n",
              "23775  vivo iQOO Z6 5G (Chromatic Blue, 6GB RAM, 128G...              0   \n",
              "23776  vivo iQOO Z6 5G (Chromatic Blue, 6GB RAM, 128G...              0   \n",
              "\n",
              "       Positive  Neutral  Negative  \n",
              "0         0.000    0.270     0.730  \n",
              "1         0.120    0.768     0.112  \n",
              "2         0.256    0.744     0.000  \n",
              "3         0.278    0.672     0.049  \n",
              "4         0.219    0.687     0.094  \n",
              "...         ...      ...       ...  \n",
              "23772     0.000    1.000     0.000  \n",
              "23773     0.744    0.256     0.000  \n",
              "23774     1.000    0.000     0.000  \n",
              "23775     0.197    0.687     0.116  \n",
              "23776     0.367    0.633     0.000  \n",
              "\n",
              "[22034 rows x 8 columns]"
            ],
            "text/html": [
              "\n",
              "  <div id=\"df-8ffb22c0-b0d8-470d-b949-3fdbcf8375fc\">\n",
              "    <div class=\"colab-df-container\">\n",
              "      <div>\n",
              "<style scoped>\n",
              "    .dataframe tbody tr th:only-of-type {\n",
              "        vertical-align: middle;\n",
              "    }\n",
              "\n",
              "    .dataframe tbody tr th {\n",
              "        vertical-align: top;\n",
              "    }\n",
              "\n",
              "    .dataframe thead th {\n",
              "        text-align: right;\n",
              "    }\n",
              "</style>\n",
              "<table border=\"1\" class=\"dataframe\">\n",
              "  <thead>\n",
              "    <tr style=\"text-align: right;\">\n",
              "      <th></th>\n",
              "      <th>Review-Title</th>\n",
              "      <th>rating</th>\n",
              "      <th>Review-Body</th>\n",
              "      <th>Product Name</th>\n",
              "      <th>is_bad_review</th>\n",
              "      <th>Positive</th>\n",
              "      <th>Neutral</th>\n",
              "      <th>Negative</th>\n",
              "    </tr>\n",
              "  </thead>\n",
              "  <tbody>\n",
              "    <tr>\n",
              "      <th>0</th>\n",
              "      <td>worst phone ever</td>\n",
              "      <td>1</td>\n",
              "      <td>hang problem</td>\n",
              "      <td>OnePlus Nord CE 2 5G (Gray Mirror, 8GB RAM, 12...</td>\n",
              "      <td>0</td>\n",
              "      <td>0.000</td>\n",
              "      <td>0.270</td>\n",
              "      <td>0.730</td>\n",
              "    </tr>\n",
              "    <tr>\n",
              "      <th>1</th>\n",
              "      <td>mark</td>\n",
              "      <td>2</td>\n",
              "      <td>write review use 3days honest normal android p...</td>\n",
              "      <td>OnePlus Nord CE 2 5G (Gray Mirror, 8GB RAM, 12...</td>\n",
              "      <td>0</td>\n",
              "      <td>0.120</td>\n",
              "      <td>0.768</td>\n",
              "      <td>0.112</td>\n",
              "    </tr>\n",
              "    <tr>\n",
              "      <th>2</th>\n",
              "      <td>awesome look</td>\n",
              "      <td>5</td>\n",
              "      <td>camera good fast phone back look awesomewith d...</td>\n",
              "      <td>OnePlus Nord CE 2 5G (Gray Mirror, 8GB RAM, 12...</td>\n",
              "      <td>1</td>\n",
              "      <td>0.256</td>\n",
              "      <td>0.744</td>\n",
              "      <td>0.000</td>\n",
              "    </tr>\n",
              "    <tr>\n",
              "      <th>3</th>\n",
              "      <td>one plus lose originality</td>\n",
              "      <td>3</td>\n",
              "      <td>medium could load average product decent day d...</td>\n",
              "      <td>OnePlus Nord CE 2 5G (Gray Mirror, 8GB RAM, 12...</td>\n",
              "      <td>0</td>\n",
              "      <td>0.278</td>\n",
              "      <td>0.672</td>\n",
              "      <td>0.049</td>\n",
              "    </tr>\n",
              "    <tr>\n",
              "      <th>4</th>\n",
              "      <td>read</td>\n",
              "      <td>1</td>\n",
              "      <td>get delivery feb unbox phone display damage re...</td>\n",
              "      <td>OnePlus Nord CE 2 5G (Gray Mirror, 8GB RAM, 12...</td>\n",
              "      <td>0</td>\n",
              "      <td>0.219</td>\n",
              "      <td>0.687</td>\n",
              "      <td>0.094</td>\n",
              "    </tr>\n",
              "    <tr>\n",
              "      <th>...</th>\n",
              "      <td>...</td>\n",
              "      <td>...</td>\n",
              "      <td>...</td>\n",
              "      <td>...</td>\n",
              "      <td>...</td>\n",
              "      <td>...</td>\n",
              "      <td>...</td>\n",
              "      <td>...</td>\n",
              "    </tr>\n",
              "    <tr>\n",
              "      <th>23772</th>\n",
              "      <td>batten rangee</td>\n",
              "      <td>4</td>\n",
              "      <td>must bhai iss range ba cemra thoda shi nhi</td>\n",
              "      <td>vivo iQOO Z6 5G (Chromatic Blue, 6GB RAM, 128G...</td>\n",
              "      <td>0</td>\n",
              "      <td>0.000</td>\n",
              "      <td>1.000</td>\n",
              "      <td>0.000</td>\n",
              "    </tr>\n",
              "    <tr>\n",
              "      <th>23773</th>\n",
              "      <td>good mobile</td>\n",
              "      <td>4</td>\n",
              "      <td>good product</td>\n",
              "      <td>vivo iQOO Z6 5G (Chromatic Blue, 6GB RAM, 128G...</td>\n",
              "      <td>0</td>\n",
              "      <td>0.744</td>\n",
              "      <td>0.256</td>\n",
              "      <td>0.000</td>\n",
              "    </tr>\n",
              "    <tr>\n",
              "      <th>23774</th>\n",
              "      <td>good camera</td>\n",
              "      <td>5</td>\n",
              "      <td>good</td>\n",
              "      <td>vivo iQOO Z6 5G (Chromatic Blue, 6GB RAM, 128G...</td>\n",
              "      <td>1</td>\n",
              "      <td>1.000</td>\n",
              "      <td>0.000</td>\n",
              "      <td>0.000</td>\n",
              "    </tr>\n",
              "    <tr>\n",
              "      <th>23775</th>\n",
              "      <td>warest mobile</td>\n",
              "      <td>1</td>\n",
              "      <td>buy mobile phone money weast screen tach probl...</td>\n",
              "      <td>vivo iQOO Z6 5G (Chromatic Blue, 6GB RAM, 128G...</td>\n",
              "      <td>0</td>\n",
              "      <td>0.197</td>\n",
              "      <td>0.687</td>\n",
              "      <td>0.116</td>\n",
              "    </tr>\n",
              "    <tr>\n",
              "      <th>23776</th>\n",
              "      <td>good phone complicate</td>\n",
              "      <td>4</td>\n",
              "      <td>phone good camera upto mark complicate</td>\n",
              "      <td>vivo iQOO Z6 5G (Chromatic Blue, 6GB RAM, 128G...</td>\n",
              "      <td>0</td>\n",
              "      <td>0.367</td>\n",
              "      <td>0.633</td>\n",
              "      <td>0.000</td>\n",
              "    </tr>\n",
              "  </tbody>\n",
              "</table>\n",
              "<p>22034 rows × 8 columns</p>\n",
              "</div>\n",
              "      <button class=\"colab-df-convert\" onclick=\"convertToInteractive('df-8ffb22c0-b0d8-470d-b949-3fdbcf8375fc')\"\n",
              "              title=\"Convert this dataframe to an interactive table.\"\n",
              "              style=\"display:none;\">\n",
              "        \n",
              "  <svg xmlns=\"http://www.w3.org/2000/svg\" height=\"24px\"viewBox=\"0 0 24 24\"\n",
              "       width=\"24px\">\n",
              "    <path d=\"M0 0h24v24H0V0z\" fill=\"none\"/>\n",
              "    <path d=\"M18.56 5.44l.94 2.06.94-2.06 2.06-.94-2.06-.94-.94-2.06-.94 2.06-2.06.94zm-11 1L8.5 8.5l.94-2.06 2.06-.94-2.06-.94L8.5 2.5l-.94 2.06-2.06.94zm10 10l.94 2.06.94-2.06 2.06-.94-2.06-.94-.94-2.06-.94 2.06-2.06.94z\"/><path d=\"M17.41 7.96l-1.37-1.37c-.4-.4-.92-.59-1.43-.59-.52 0-1.04.2-1.43.59L10.3 9.45l-7.72 7.72c-.78.78-.78 2.05 0 2.83L4 21.41c.39.39.9.59 1.41.59.51 0 1.02-.2 1.41-.59l7.78-7.78 2.81-2.81c.8-.78.8-2.07 0-2.86zM5.41 20L4 18.59l7.72-7.72 1.47 1.35L5.41 20z\"/>\n",
              "  </svg>\n",
              "      </button>\n",
              "      \n",
              "  <style>\n",
              "    .colab-df-container {\n",
              "      display:flex;\n",
              "      flex-wrap:wrap;\n",
              "      gap: 12px;\n",
              "    }\n",
              "\n",
              "    .colab-df-convert {\n",
              "      background-color: #E8F0FE;\n",
              "      border: none;\n",
              "      border-radius: 50%;\n",
              "      cursor: pointer;\n",
              "      display: none;\n",
              "      fill: #1967D2;\n",
              "      height: 32px;\n",
              "      padding: 0 0 0 0;\n",
              "      width: 32px;\n",
              "    }\n",
              "\n",
              "    .colab-df-convert:hover {\n",
              "      background-color: #E2EBFA;\n",
              "      box-shadow: 0px 1px 2px rgba(60, 64, 67, 0.3), 0px 1px 3px 1px rgba(60, 64, 67, 0.15);\n",
              "      fill: #174EA6;\n",
              "    }\n",
              "\n",
              "    [theme=dark] .colab-df-convert {\n",
              "      background-color: #3B4455;\n",
              "      fill: #D2E3FC;\n",
              "    }\n",
              "\n",
              "    [theme=dark] .colab-df-convert:hover {\n",
              "      background-color: #434B5C;\n",
              "      box-shadow: 0px 1px 3px 1px rgba(0, 0, 0, 0.15);\n",
              "      filter: drop-shadow(0px 1px 2px rgba(0, 0, 0, 0.3));\n",
              "      fill: #FFFFFF;\n",
              "    }\n",
              "  </style>\n",
              "\n",
              "      <script>\n",
              "        const buttonEl =\n",
              "          document.querySelector('#df-8ffb22c0-b0d8-470d-b949-3fdbcf8375fc button.colab-df-convert');\n",
              "        buttonEl.style.display =\n",
              "          google.colab.kernel.accessAllowed ? 'block' : 'none';\n",
              "\n",
              "        async function convertToInteractive(key) {\n",
              "          const element = document.querySelector('#df-8ffb22c0-b0d8-470d-b949-3fdbcf8375fc');\n",
              "          const dataTable =\n",
              "            await google.colab.kernel.invokeFunction('convertToInteractive',\n",
              "                                                     [key], {});\n",
              "          if (!dataTable) return;\n",
              "\n",
              "          const docLinkHtml = 'Like what you see? Visit the ' +\n",
              "            '<a target=\"_blank\" href=https://colab.research.google.com/notebooks/data_table.ipynb>data table notebook</a>'\n",
              "            + ' to learn more about interactive tables.';\n",
              "          element.innerHTML = '';\n",
              "          dataTable['output_type'] = 'display_data';\n",
              "          await google.colab.output.renderOutput(dataTable, element);\n",
              "          const docLink = document.createElement('div');\n",
              "          docLink.innerHTML = docLinkHtml;\n",
              "          element.appendChild(docLink);\n",
              "        }\n",
              "      </script>\n",
              "    </div>\n",
              "  </div>\n",
              "  "
            ]
          },
          "metadata": {},
          "execution_count": 74
        }
      ]
    },
    {
      "cell_type": "code",
      "source": [
        "from sklearn.feature_extraction.text import TfidfVectorizer\n",
        "\n",
        "# Creating matrix of top 10 tokens\n",
        "tfidf = TfidfVectorizer(max_features=10)\n",
        "X = tfidf.fit_transform(new_df['Review-Body']).toarray()\n",
        "y = new_df['is_bad_review'].values\n",
        "featureNames = tfidf.get_feature_names()\n",
        "\n",
        "X, y\n",
        "\n",
        "\n",
        "# Splitting the dataset into train and test\n",
        "from sklearn.model_selection import train_test_split\n",
        "X_train, X_test, y_train, y_test = train_test_split(X, y, test_size = 0.25)"
      ],
      "metadata": {
        "colab": {
          "base_uri": "https://localhost:8080/"
        },
        "id": "sbqHuhJkw9M7",
        "outputId": "1dc21e31-f995-47dc-f68d-43eed6cc1bb5"
      },
      "execution_count": 75,
      "outputs": [
        {
          "output_type": "stream",
          "name": "stderr",
          "text": [
            "/usr/local/lib/python3.7/dist-packages/sklearn/utils/deprecation.py:87: FutureWarning: Function get_feature_names is deprecated; get_feature_names is deprecated in 1.0 and will be removed in 1.2. Please use get_feature_names_out instead.\n",
            "  warnings.warn(msg, category=FutureWarning)\n"
          ]
        }
      ]
    },
    {
      "cell_type": "code",
      "source": [
        "from sklearn.model_selection import train_test_split\n",
        "X_train,X_test,y_train,y_test=train_test_split(X,y,test_size=0.25)"
      ],
      "metadata": {
        "id": "wNpIMhSyxlex"
      },
      "execution_count": 76,
      "outputs": []
    },
    {
      "cell_type": "code",
      "source": [
        "from sklearn.linear_model import LogisticRegression #main code that build the LR model \n",
        "lr= LogisticRegression() #initialise the required package  \n",
        "#magic happens - best values of betas - training/learning happens here\n",
        "lr.fit(X_train,y_train) \n",
        "y_pred=lr.predict(X_test)\n",
        "\n",
        "\n",
        "y_pred"
      ],
      "metadata": {
        "colab": {
          "base_uri": "https://localhost:8080/"
        },
        "id": "IKnWvscQ03YD",
        "outputId": "c6e5588c-9d0b-4d34-c886-3099ab559c93"
      },
      "execution_count": 77,
      "outputs": [
        {
          "output_type": "execute_result",
          "data": {
            "text/plain": [
              "array([0, 0, 1, ..., 0, 0, 0])"
            ]
          },
          "metadata": {},
          "execution_count": 77
        }
      ]
    },
    {
      "cell_type": "code",
      "source": [
        "from sklearn.metrics import accuracy_score\n",
        "print('accuracy score:',lr.score(X_test,y_test))"
      ],
      "metadata": {
        "colab": {
          "base_uri": "https://localhost:8080/"
        },
        "id": "RFzNIjYHeyzu",
        "outputId": "1e130b2f-3637-4f2d-a803-b5b6a14727b3"
      },
      "execution_count": 78,
      "outputs": [
        {
          "output_type": "stream",
          "name": "stdout",
          "text": [
            "accuracy score: 0.6347794518061354\n"
          ]
        }
      ]
    },
    {
      "cell_type": "code",
      "source": [
        "logistic_regression.coef_"
      ],
      "metadata": {
        "colab": {
          "base_uri": "https://localhost:8080/"
        },
        "id": "u4GLPUCF096B",
        "outputId": "bd4b1ab1-c479-4d3a-8c9d-f69edb830750"
      },
      "execution_count": 79,
      "outputs": [
        {
          "output_type": "execute_result",
          "data": {
            "text/plain": [
              "array([[ 1.87523518, -0.43389097,  1.08279829, -0.08231416, -1.62892139,\n",
              "         0.55943593,  0.40958598,  0.45322663,  0.13321214, -0.06657892],\n",
              "       [ 1.04298823,  0.08400429,  0.63027806,  0.28831848, -0.48510886,\n",
              "        -0.19729241,  0.02579668, -0.28918104,  0.46429488,  0.55349743],\n",
              "       [ 0.60921152,  0.09790959, -0.30958452,  0.5147621 ,  0.42999564,\n",
              "        -0.20448741, -0.1503324 , -0.4102719 ,  0.26703349, -0.00956438],\n",
              "       [-0.95367767,  0.26562809, -0.71063598,  0.07826896,  0.99650677,\n",
              "        -0.1274581 , -0.13827704,  0.0190213 , -0.30550103,  0.02788853],\n",
              "       [-2.57375726, -0.013651  , -0.69285584, -0.79903539,  0.68752784,\n",
              "        -0.030198  , -0.14677321,  0.22720501, -0.55903949, -0.50524266]])"
            ]
          },
          "metadata": {},
          "execution_count": 79
        }
      ]
    },
    {
      "cell_type": "code",
      "source": [
        "logistic_regression.intercept_"
      ],
      "metadata": {
        "colab": {
          "base_uri": "https://localhost:8080/"
        },
        "id": "pgh7BKQU1GyI",
        "outputId": "36177683-ecab-4f87-c330-cc9b874dd18c"
      },
      "execution_count": 80,
      "outputs": [
        {
          "output_type": "execute_result",
          "data": {
            "text/plain": [
              "array([ 0.20818326, -0.95377034, -0.4311966 ,  0.14648164,  1.03030204])"
            ]
          },
          "metadata": {},
          "execution_count": 80
        }
      ]
    },
    {
      "cell_type": "code",
      "source": [
        "\n",
        "from sklearn.neighbors import KNeighborsClassifier\n",
        "\n",
        "\n",
        "# knn\n",
        "mod2 = KNeighborsClassifier(n_neighbors=4)\n",
        "\n",
        "# fit model\n",
        "\n",
        "mod2.fit(X_train, y_train)\n",
        "\n",
        "# predict probabilities\n",
        "\n",
        "pred_prob2 = mod2.predict_proba(X_test)"
      ],
      "metadata": {
        "id": "eZ3bE2pk1L0R"
      },
      "execution_count": 81,
      "outputs": []
    },
    {
      "cell_type": "code",
      "source": [
        "from sklearn.metrics import accuracy_score\n",
        "print('accuracy score:',mod2.score(X_test,y_test))"
      ],
      "metadata": {
        "colab": {
          "base_uri": "https://localhost:8080/"
        },
        "id": "75YTZOf7fe09",
        "outputId": "0373dc7a-b577-4557-f5c1-db51be3cb535"
      },
      "execution_count": 82,
      "outputs": [
        {
          "output_type": "stream",
          "name": "stdout",
          "text": [
            "accuracy score: 0.613178435287711\n"
          ]
        }
      ]
    },
    {
      "cell_type": "code",
      "source": [
        "from sklearn.ensemble import RandomForestClassifier\n",
        "clfr = RandomForestClassifier(max_depth=2, random_state=0)\n",
        "clfr.fit(X_train, y_train)\n",
        "clfr.predict(X_test)\n",
        "clfr.score(X_test, y_test, sample_weight=None)"
      ],
      "metadata": {
        "colab": {
          "base_uri": "https://localhost:8080/"
        },
        "id": "nN19hrJW1fDE",
        "outputId": "e9393add-bf4f-4674-863e-d0e4482d3e48"
      },
      "execution_count": 83,
      "outputs": [
        {
          "output_type": "execute_result",
          "data": {
            "text/plain": [
              "0.6189871119985478"
            ]
          },
          "metadata": {},
          "execution_count": 83
        }
      ]
    },
    {
      "cell_type": "code",
      "source": [
        "from sklearn.tree import DecisionTreeClassifier\n",
        "\n",
        "dts = DecisionTreeClassifier()\n",
        "dts.fit(X_train,y_train)\n",
        "\n",
        "y_pred = dts.predict(X_test)"
      ],
      "metadata": {
        "id": "VuoZMMu8yPDx"
      },
      "execution_count": 84,
      "outputs": []
    },
    {
      "cell_type": "code",
      "source": [
        "from sklearn.metrics import accuracy_score\n",
        "print('accuracy score:',clfr.score(X_test,y_test))"
      ],
      "metadata": {
        "colab": {
          "base_uri": "https://localhost:8080/"
        },
        "id": "A_TGaomI1cZV",
        "outputId": "1db363bb-b4c1-451e-8644-69767ae4f5d8"
      },
      "execution_count": 85,
      "outputs": [
        {
          "output_type": "stream",
          "name": "stdout",
          "text": [
            "accuracy score: 0.6189871119985478\n"
          ]
        }
      ]
    },
    {
      "cell_type": "code",
      "source": [
        "from sklearn.metrics import confusion_matrix, accuracy_score\n",
        "accuracy = accuracy_score(y_test, y_pred)\n",
        "cms = confusion_matrix(y_test, y_pred)\n",
        "print(cms)\n",
        "print(\"The model accuracy is\", accuracy )"
      ],
      "metadata": {
        "colab": {
          "base_uri": "https://localhost:8080/"
        },
        "id": "pQIYIo3Ay-mV",
        "outputId": "dd67cfae-20a4-43c9-8747-569eec24075b"
      },
      "execution_count": 86,
      "outputs": [
        {
          "output_type": "stream",
          "name": "stdout",
          "text": [
            "[[2928  482]\n",
            " [1571  528]]\n",
            "The model accuracy is 0.6273370847703758\n"
          ]
        }
      ]
    },
    {
      "cell_type": "code",
      "source": [
        "from sklearn.naive_bayes import MultinomialNB\n",
        "mnb=MultinomialNB()\n",
        "mnb.fit(X_train,y_train)\n",
        "mnb.predict(X_test)\n",
        "mnb.score(X_test,y_test)"
      ],
      "metadata": {
        "colab": {
          "base_uri": "https://localhost:8080/"
        },
        "id": "M5DEFriC1yS9",
        "outputId": "1bea9a2c-14ba-4062-cea5-405ce991ea4c"
      },
      "execution_count": 87,
      "outputs": [
        {
          "output_type": "execute_result",
          "data": {
            "text/plain": [
              "0.6322381557451443"
            ]
          },
          "metadata": {},
          "execution_count": 87
        }
      ]
    },
    {
      "cell_type": "code",
      "source": [
        "from sklearn.metrics import accuracy_score\n",
        "print('Accuracy Score:',mnb.score(X_test,y_test))"
      ],
      "metadata": {
        "colab": {
          "base_uri": "https://localhost:8080/"
        },
        "id": "O3lVnUEZ2ABL",
        "outputId": "ae74827c-839a-416b-ba64-9ef33d447ad0"
      },
      "execution_count": 88,
      "outputs": [
        {
          "output_type": "stream",
          "name": "stdout",
          "text": [
            "Accuracy Score: 0.6322381557451443\n"
          ]
        }
      ]
    },
    {
      "cell_type": "code",
      "source": [
        "from xgboost import XGBClassifier\n",
        "model = XGBClassifier(use_label_encoder=False, eval_metric='mlogloss')\n",
        "model.fit(X_train, y_train)\n",
        "y_pred = model.predict(X_test)"
      ],
      "metadata": {
        "id": "aHUZxiYmo7DN"
      },
      "execution_count": 89,
      "outputs": []
    },
    {
      "cell_type": "code",
      "source": [
        "y_pred"
      ],
      "metadata": {
        "colab": {
          "base_uri": "https://localhost:8080/"
        },
        "id": "fJR8kuUtpXwy",
        "outputId": "08807cd3-0f7c-40cb-f2ea-cad2be68417a"
      },
      "execution_count": 90,
      "outputs": [
        {
          "output_type": "execute_result",
          "data": {
            "text/plain": [
              "array([0, 0, 1, ..., 0, 0, 0])"
            ]
          },
          "metadata": {},
          "execution_count": 90
        }
      ]
    },
    {
      "cell_type": "code",
      "source": [
        "accuracy = accuracy_score(y_test, y_pred)\n",
        "accuracy"
      ],
      "metadata": {
        "colab": {
          "base_uri": "https://localhost:8080/"
        },
        "id": "Hko9uqmwpakO",
        "outputId": "3ff8e10b-eb8f-4590-ff18-5c76da3c9d60"
      },
      "execution_count": 91,
      "outputs": [
        {
          "output_type": "execute_result",
          "data": {
            "text/plain": [
              "0.6376837901615539"
            ]
          },
          "metadata": {},
          "execution_count": 91
        }
      ]
    },
    {
      "cell_type": "code",
      "source": [
        "from sklearn.metrics import confusion_matrix\n",
        "print(confusion_matrix(y_test,y_pred))"
      ],
      "metadata": {
        "colab": {
          "base_uri": "https://localhost:8080/"
        },
        "id": "Iepk5iu0pdMo",
        "outputId": "161c59e0-055a-4f51-be0a-3b6fe552bd43"
      },
      "execution_count": 92,
      "outputs": [
        {
          "output_type": "stream",
          "name": "stdout",
          "text": [
            "[[3049  361]\n",
            " [1635  464]]\n"
          ]
        }
      ]
    },
    {
      "cell_type": "markdown",
      "source": [
        "**"
      ],
      "metadata": {
        "id": "tdfmMwwyjnQU"
      }
    },
    {
      "cell_type": "code",
      "source": [
        "x = sum(data[\"Positive\"])\n",
        "y = sum(data[\"Negative\"])\n",
        "z = sum(data[\"Neutral\"])\n",
        "\n",
        "def sentiment_score(a, b, c):\n",
        "    if (a>b) and (a>c):\n",
        "        print(\"Positive\")\n",
        "    elif (b>a) and (b>c):\n",
        "        print(\"Negative \")\n",
        "    else:\n",
        "        print(\"Neutral\")\n",
        "sentiment_score(x, y, z)"
      ],
      "metadata": {
        "colab": {
          "base_uri": "https://localhost:8080/"
        },
        "id": "QlDigAk0YaaF",
        "outputId": "039a1059-b094-4743-f08d-8c2daf278dbe"
      },
      "execution_count": 93,
      "outputs": [
        {
          "output_type": "stream",
          "name": "stdout",
          "text": [
            "Neutral\n"
          ]
        }
      ]
    },
    {
      "cell_type": "code",
      "source": [
        "print(\"Positive: \", round(x,2))\n",
        "print(\"Negative: \", round(y,2))\n",
        "print(\"Neutral: \", round(z,2))"
      ],
      "metadata": {
        "colab": {
          "base_uri": "https://localhost:8080/"
        },
        "id": "a9QYjJh4Yc1X",
        "outputId": "3446d440-10a1-41ef-c7bb-bd0efd3f66ba"
      },
      "execution_count": 94,
      "outputs": [
        {
          "output_type": "stream",
          "name": "stdout",
          "text": [
            "Positive:  8082.15\n",
            "Negative:  2144.85\n",
            "Neutral:  11392.01\n"
          ]
        }
      ]
    },
    {
      "cell_type": "code",
      "source": [
        "#pd.read_excel('',header=0, delim_whitespace=True)\n",
        "review=input(\"Enter the Review:\")\n",
        "test_input=(new_df[['Review-Body']])\n",
        "result=model.predict(test_input)\n",
        "print(\"Review REsults\")\n",
        "print('is is a:',result)"
      ],
      "metadata": {
        "id": "8z51XHCxKbbW"
      },
      "execution_count": null,
      "outputs": []
    }
  ],
  "metadata": {
    "colab": {
      "collapsed_sections": [],
      "name": "Flipkart/Amazon_Analysis.ipynb ",
      "provenance": [],
      "include_colab_link": true
    },
    "kernelspec": {
      "display_name": "Python 3",
      "name": "python3"
    },
    "language_info": {
      "name": "python"
    }
  },
  "nbformat": 4,
  "nbformat_minor": 0
}